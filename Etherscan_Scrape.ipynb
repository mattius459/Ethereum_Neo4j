{
 "cells": [
  {
   "cell_type": "code",
   "execution_count": 33,
   "metadata": {
    "code_folding": []
   },
   "outputs": [
    {
     "name": "stdout",
     "output_type": "stream",
     "text": [
      "CPU times: user 4.99 ms, sys: 12.7 ms, total: 17.7 ms\n",
      "Wall time: 29.2 ms\n"
     ]
    }
   ],
   "source": [
    "%%time\n",
    "#Standard imports\n",
    "import pandas as pd\n",
    "import numpy as np\n",
    "\n",
    "import matplotlib.pyplot as plt\n",
    "import seaborn as sns\n",
    "%matplotlib inline\n",
    "\n",
    "pd.set_option('display.max_rows', 100)\n",
    "pd.set_option('display.max_columns', 10)\n",
    "\n",
    "from IPython.core.interactiveshell import InteractiveShell\n",
    "InteractiveShell.ast_node_interactivity =\"all\"\n",
    "\n",
    "import re\n",
    "import requests\n",
    "import time"
   ]
  },
  {
   "cell_type": "code",
   "execution_count": 34,
   "metadata": {},
   "outputs": [],
   "source": [
    "base_url = 'https://etherscan.io'"
   ]
  },
  {
   "cell_type": "code",
   "execution_count": 35,
   "metadata": {},
   "outputs": [],
   "source": [
    "#source from wordlabel page\n",
    "source = \"\"\"<div class=\"container content\" id=\"container\" style=\"max-width: 1100px; margin: 0 auto; min-width: 310px\"></div>\n",
    "<div class=\"container content\" style=\"max-width: 1000px; min-height: 400px\"><hr style='margin-top:0px;padding-top:0px'><div class=\"col-sm-12\"><span style='display:flex; flex-direction: row;'><font size=3>Tags : &nbsp;</font> <input type=\"text\" id=\"myInput2\" class='pull-right' style=\"width:220px;border: 1px solid #ddd;height:28px;padding-left:25px;background-image: url('/images/icons/search-black.png');background-position:6px 8px;background-repeat: no-repeat;\" onkeyup=\"searchLabels()\" placeholder=\"Search Labels \"></span><br></div><div class=\"col-xs-6 col-sm-4 col-md-3 secondary-container\"><div class=\"btn-group\" style=\"padding:4px;\"><button style=\"padding:2px;font-size:11px\" type=\"button\" class=\"btn btn-default dropdown-toggle\" data-toggle=\"dropdown\" aria-expanded=\"false\"> &nbsp;0x Ecosystem (46)&nbsp;&nbsp;<i class=\"fa fa-angle-down\"></i></button><ul Class=\"dropdown-menu\" role=\"menu\" style=\"font-size:11px\"><li><a href=\"/accounts?l=0x Ecosystem\">Accounts (33)</a></li><li><a href=\"/tokens?l=0x Ecosystem\">Tokens (13)</a></li></ul></div></div><div class=\"col-xs-6 col-sm-4 col-md-3 secondary-container\"><div class=\"btn-group\" style=\"padding:4px;\"><button style=\"padding:2px;font-size:11px\" type=\"button\" class=\"btn btn-default dropdown-toggle\" data-toggle=\"dropdown\" aria-expanded=\"false\"> &nbsp;0xUniverse (7)&nbsp;&nbsp;<i class=\"fa fa-angle-down\"></i></button><ul Class=\"dropdown-menu\" role=\"menu\" style=\"font-size:11px\"><li><a href=\"/accounts?l=0xUniverse\">Accounts (6)</a></li><li><a href=\"/tokens?l=0xUniverse\">Tokens (1)</a></li></ul></div></div><div class=\"col-xs-6 col-sm-4 col-md-3 secondary-container\"><div class=\"btn-group\" style=\"padding:4px;\"><button style=\"padding:2px;font-size:11px\" type=\"button\" class=\"btn btn-default dropdown-toggle\" data-toggle=\"dropdown\" aria-expanded=\"false\"> &nbsp;Adult (4)&nbsp;&nbsp;<i class=\"fa fa-angle-down\"></i></button><ul Class=\"dropdown-menu\" role=\"menu\" style=\"font-size:11px\"><li><a href=\"/tokens?l=Adult\">Tokens (4)</a></li></ul></div></div><div class=\"col-xs-6 col-sm-4 col-md-3 secondary-container\"><div class=\"btn-group\" style=\"padding:4px;\"><button style=\"padding:2px;font-size:11px\" type=\"button\" class=\"btn btn-default dropdown-toggle\" data-toggle=\"dropdown\" aria-expanded=\"false\"> &nbsp;Advertising (19)&nbsp;&nbsp;<i class=\"fa fa-angle-down\"></i></button><ul Class=\"dropdown-menu\" role=\"menu\" style=\"font-size:11px\"><li><a href=\"/accounts?l=Advertising\">Accounts (1)</a></li><li><a href=\"/tokens?l=Advertising\">Tokens (18)</a></li></ul></div></div><div class=\"col-xs-6 col-sm-4 col-md-3 secondary-container\"><div class=\"btn-group\" style=\"padding:4px;\"><button style=\"padding:2px;font-size:11px\" type=\"button\" class=\"btn btn-default dropdown-toggle\" data-toggle=\"dropdown\" aria-expanded=\"false\"> &nbsp;Agriculture (5)&nbsp;&nbsp;<i class=\"fa fa-angle-down\"></i></button><ul Class=\"dropdown-menu\" role=\"menu\" style=\"font-size:11px\"><li><a href=\"/tokens?l=Agriculture\">Tokens (5)</a></li></ul></div></div><div class=\"col-xs-6 col-sm-4 col-md-3 secondary-container\"><div class=\"btn-group\" style=\"padding:4px;\"><button style=\"padding:2px;font-size:11px\" type=\"button\" class=\"btn btn-default dropdown-toggle\" data-toggle=\"dropdown\" aria-expanded=\"false\"> &nbsp;Analytics (2)&nbsp;&nbsp;<i class=\"fa fa-angle-down\"></i></button><ul Class=\"dropdown-menu\" role=\"menu\" style=\"font-size:11px\"><li><a href=\"/tokens?l=Analytics\">Tokens (2)</a></li></ul></div></div><div class=\"col-xs-6 col-sm-4 col-md-3 secondary-container\"><div class=\"btn-group\" style=\"padding:4px;\"><button style=\"padding:2px;font-size:11px\" type=\"button\" class=\"btn btn-default dropdown-toggle\" data-toggle=\"dropdown\" aria-expanded=\"false\"> &nbsp;Art (2)&nbsp;&nbsp;<i class=\"fa fa-angle-down\"></i></button><ul Class=\"dropdown-menu\" role=\"menu\" style=\"font-size:11px\"><li><a href=\"/tokens?l=Art\">Tokens (2)</a></li></ul></div></div><div class=\"col-xs-6 col-sm-4 col-md-3 secondary-container\"><div class=\"btn-group\" style=\"padding:4px;\"><button style=\"padding:2px;font-size:11px\" type=\"button\" class=\"btn btn-default dropdown-toggle\" data-toggle=\"dropdown\" aria-expanded=\"false\"> &nbsp;Artificial Intelligence (20)&nbsp;&nbsp;<i class=\"fa fa-angle-down\"></i></button><ul Class=\"dropdown-menu\" role=\"menu\" style=\"font-size:11px\"><li><a href=\"/tokens?l=Artificial Intelligence\">Tokens (20)</a></li></ul></div></div><div class=\"col-xs-6 col-sm-4 col-md-3 secondary-container\"><div class=\"btn-group\" style=\"padding:4px;\"><button style=\"padding:2px;font-size:11px\" type=\"button\" class=\"btn btn-default dropdown-toggle\" data-toggle=\"dropdown\" aria-expanded=\"false\"> &nbsp;Asset Management (9)&nbsp;&nbsp;<i class=\"fa fa-angle-down\"></i></button><ul Class=\"dropdown-menu\" role=\"menu\" style=\"font-size:11px\"><li><a href=\"/tokens?l=Asset Management\">Tokens (9)</a></li></ul></div></div><div class=\"col-xs-6 col-sm-4 col-md-3 secondary-container\"><div class=\"btn-group\" style=\"padding:4px;\"><button style=\"padding:2px;font-size:11px\" type=\"button\" class=\"btn btn-default dropdown-toggle\" data-toggle=\"dropdown\" aria-expanded=\"false\"> &nbsp;Authentication (2)&nbsp;&nbsp;<i class=\"fa fa-angle-down\"></i></button><ul Class=\"dropdown-menu\" role=\"menu\" style=\"font-size:11px\"><li><a href=\"/tokens?l=Authentication\">Tokens (2)</a></li></ul></div></div><div class=\"col-xs-6 col-sm-4 col-md-3 secondary-container\"><div class=\"btn-group\" style=\"padding:4px;\"><button style=\"padding:2px;font-size:11px\" type=\"button\" class=\"btn btn-default dropdown-toggle\" data-toggle=\"dropdown\" aria-expanded=\"false\"> &nbsp;Aviation (1)&nbsp;&nbsp;<i class=\"fa fa-angle-down\"></i></button><ul Class=\"dropdown-menu\" role=\"menu\" style=\"font-size:11px\"><li><a href=\"/tokens?l=Aviation \">Tokens (1)</a></li></ul></div></div><div class=\"col-xs-6 col-sm-4 col-md-3 secondary-container\"><div class=\"btn-group\" style=\"padding:4px;\"><button style=\"padding:2px;font-size:11px\" type=\"button\" class=\"btn btn-default dropdown-toggle\" data-toggle=\"dropdown\" aria-expanded=\"false\"> &nbsp;Bancor (213)&nbsp;&nbsp;<i class=\"fa fa-angle-down\"></i></button><ul Class=\"dropdown-menu\" role=\"menu\" style=\"font-size:11px\"><li><a href=\"/accounts?l=Bancor\">Accounts (211)</a></li><li><a href=\"/tokens?l=Bancor\">Tokens (2)</a></li></ul></div></div><div class=\"col-xs-6 col-sm-4 col-md-3 secondary-container\"><div class=\"btn-group\" style=\"padding:4px;\"><button style=\"padding:2px;font-size:11px\" type=\"button\" class=\"btn btn-default dropdown-toggle\" data-toggle=\"dropdown\" aria-expanded=\"false\"> &nbsp;Banking (1)&nbsp;&nbsp;<i class=\"fa fa-angle-down\"></i></button><ul Class=\"dropdown-menu\" role=\"menu\" style=\"font-size:11px\"><li><a href=\"/tokens?l=Banking\">Tokens (1)</a></li></ul></div></div><div class=\"col-xs-6 col-sm-4 col-md-3 secondary-container\"><div class=\"btn-group\" style=\"padding:4px;\"><button style=\"padding:2px;font-size:11px\" type=\"button\" class=\"btn btn-default dropdown-toggle\" data-toggle=\"dropdown\" aria-expanded=\"false\"> &nbsp;Basic Attention Token (5)&nbsp;&nbsp;<i class=\"fa fa-angle-down\"></i></button><ul Class=\"dropdown-menu\" role=\"menu\" style=\"font-size:11px\"><li><a href=\"/accounts?l=Basic Attention Token\">Accounts (4)</a></li><li><a href=\"/tokens?l=Basic Attention Token\">Tokens (1)</a></li></ul></div></div><div class=\"col-xs-6 col-sm-4 col-md-3 secondary-container\"><div class=\"btn-group\" style=\"padding:4px;\"><button style=\"padding:2px;font-size:11px\" type=\"button\" class=\"btn btn-default dropdown-toggle\" data-toggle=\"dropdown\" aria-expanded=\"false\"> &nbsp;Beauty (2)&nbsp;&nbsp;<i class=\"fa fa-angle-down\"></i></button><ul Class=\"dropdown-menu\" role=\"menu\" style=\"font-size:11px\"><li><a href=\"/tokens?l=Beauty\">Tokens (2)</a></li></ul></div></div><div class=\"col-xs-6 col-sm-4 col-md-3 secondary-container\"><div class=\"btn-group\" style=\"padding:4px;\"><button style=\"padding:2px;font-size:11px\" type=\"button\" class=\"btn btn-default dropdown-toggle\" data-toggle=\"dropdown\" aria-expanded=\"false\"> &nbsp;Binance (8)&nbsp;&nbsp;<i class=\"fa fa-angle-down\"></i></button><ul Class=\"dropdown-menu\" role=\"menu\" style=\"font-size:11px\"><li><a href=\"/accounts?l=Binance\">Accounts (7)</a></li><li><a href=\"/tokens?l=Binance\">Tokens (1)</a></li></ul></div></div><div class=\"col-xs-6 col-sm-4 col-md-3 secondary-container\"><div class=\"btn-group\" style=\"padding:4px;\"><button style=\"padding:2px;font-size:11px\" type=\"button\" class=\"btn btn-default dropdown-toggle\" data-toggle=\"dropdown\" aria-expanded=\"false\"> &nbsp;Blockchain (19)&nbsp;&nbsp;<i class=\"fa fa-angle-down\"></i></button><ul Class=\"dropdown-menu\" role=\"menu\" style=\"font-size:11px\"><li><a href=\"/tokens?l=Blockchain\">Tokens (19)</a></li></ul></div></div><div class=\"col-xs-6 col-sm-4 col-md-3 secondary-container\"><div class=\"btn-group\" style=\"padding:4px;\"><button style=\"padding:2px;font-size:11px\" type=\"button\" class=\"btn btn-default dropdown-toggle\" data-toggle=\"dropdown\" aria-expanded=\"false\"> &nbsp;Blockchain Cuties (21)&nbsp;&nbsp;<i class=\"fa fa-angle-down\"></i></button><ul Class=\"dropdown-menu\" role=\"menu\" style=\"font-size:11px\"><li><a href=\"/accounts?l=Blockchain Cuties\">Accounts (20)</a></li><li><a href=\"/tokens?l=Blockchain Cuties\">Tokens (1)</a></li></ul></div></div><div class=\"col-xs-6 col-sm-4 col-md-3 secondary-container\"><div class=\"btn-group\" style=\"padding:4px;\"><button style=\"padding:2px;font-size:11px\" type=\"button\" class=\"btn btn-default dropdown-toggle\" data-toggle=\"dropdown\" aria-expanded=\"false\"> &nbsp;Bugs (1)&nbsp;&nbsp;<i class=\"fa fa-angle-down\"></i></button><ul Class=\"dropdown-menu\" role=\"menu\" style=\"font-size:11px\"><li><a href=\"/accounts?l=Bugs\">Accounts (1)</a></li></ul></div></div><div class=\"col-xs-6 col-sm-4 col-md-3 secondary-container\"><div class=\"btn-group\" style=\"padding:4px;\"><button style=\"padding:2px;font-size:11px\" type=\"button\" class=\"btn btn-default dropdown-toggle\" data-toggle=\"dropdown\" aria-expanded=\"false\"> &nbsp;Charity (2)&nbsp;&nbsp;<i class=\"fa fa-angle-down\"></i></button><ul Class=\"dropdown-menu\" role=\"menu\" style=\"font-size:11px\"><li><a href=\"/tokens?l=Charity\">Tokens (2)</a></li></ul></div></div><div class=\"col-xs-6 col-sm-4 col-md-3 secondary-container\"><div class=\"btn-group\" style=\"padding:4px;\"><button style=\"padding:2px;font-size:11px\" type=\"button\" class=\"btn btn-default dropdown-toggle\" data-toggle=\"dropdown\" aria-expanded=\"false\"> &nbsp;China (5)&nbsp;&nbsp;<i class=\"fa fa-angle-down\"></i></button><ul Class=\"dropdown-menu\" role=\"menu\" style=\"font-size:11px\"><li><a href=\"/txs?l=China\">Transactions (2)</a></li><li><a href=\"/tokens?l=China\">Tokens (3)</a></li></ul></div></div><div class=\"col-xs-6 col-sm-4 col-md-3 secondary-container\"><div class=\"btn-group\" style=\"padding:4px;\"><button style=\"padding:2px;font-size:11px\" type=\"button\" class=\"btn btn-default dropdown-toggle\" data-toggle=\"dropdown\" aria-expanded=\"false\"> &nbsp;Cloud (7)&nbsp;&nbsp;<i class=\"fa fa-angle-down\"></i></button><ul Class=\"dropdown-menu\" role=\"menu\" style=\"font-size:11px\"><li><a href=\"/tokens?l=Cloud\">Tokens (7)</a></li></ul></div></div><div class=\"col-xs-6 col-sm-4 col-md-3 secondary-container\"><div class=\"btn-group\" style=\"padding:4px;\"><button style=\"padding:2px;font-size:11px\" type=\"button\" class=\"btn btn-default dropdown-toggle\" data-toggle=\"dropdown\" aria-expanded=\"false\"> &nbsp;Collaboration (1)&nbsp;&nbsp;<i class=\"fa fa-angle-down\"></i></button><ul Class=\"dropdown-menu\" role=\"menu\" style=\"font-size:11px\"><li><a href=\"/tokens?l=Collaboration\">Tokens (1)</a></li></ul></div></div><div class=\"col-xs-6 col-sm-4 col-md-3 secondary-container\"><div class=\"btn-group\" style=\"padding:4px;\"><button style=\"padding:2px;font-size:11px\" type=\"button\" class=\"btn btn-default dropdown-toggle\" data-toggle=\"dropdown\" aria-expanded=\"false\"> &nbsp;Collectibles (22)&nbsp;&nbsp;<i class=\"fa fa-angle-down\"></i></button><ul Class=\"dropdown-menu\" role=\"menu\" style=\"font-size:11px\"><li><a href=\"/accounts?l=Collectibles\">Accounts (1)</a></li><li><a href=\"/tokens?l=Collectibles\">Tokens (21)</a></li></ul></div></div><div class=\"col-xs-6 col-sm-4 col-md-3 secondary-container\"><div class=\"btn-group\" style=\"padding:4px;\"><button style=\"padding:2px;font-size:11px\" type=\"button\" class=\"btn btn-default dropdown-toggle\" data-toggle=\"dropdown\" aria-expanded=\"false\"> &nbsp;Commodity (1)&nbsp;&nbsp;<i class=\"fa fa-angle-down\"></i></button><ul Class=\"dropdown-menu\" role=\"menu\" style=\"font-size:11px\"><li><a href=\"/tokens?l=Commodity\">Tokens (1)</a></li></ul></div></div><div class=\"col-xs-6 col-sm-4 col-md-3 secondary-container\"><div class=\"btn-group\" style=\"padding:4px;\"><button style=\"padding:2px;font-size:11px\" type=\"button\" class=\"btn btn-default dropdown-toggle\" data-toggle=\"dropdown\" aria-expanded=\"false\"> &nbsp;Compound (3)&nbsp;&nbsp;<i class=\"fa fa-angle-down\"></i></button><ul Class=\"dropdown-menu\" role=\"menu\" style=\"font-size:11px\"><li><a href=\"/accounts?l=Compound\">Accounts (3)</a></li></ul></div></div><div class=\"col-xs-6 col-sm-4 col-md-3 secondary-container\"><div class=\"btn-group\" style=\"padding:4px;\"><button style=\"padding:2px;font-size:11px\" type=\"button\" class=\"btn btn-default dropdown-toggle\" data-toggle=\"dropdown\" aria-expanded=\"false\"> &nbsp;Compromised (15)&nbsp;&nbsp;<i class=\"fa fa-angle-down\"></i></button><ul Class=\"dropdown-menu\" role=\"menu\" style=\"font-size:11px\"><li><a href=\"/accounts?l=Compromised\">Accounts (14)</a></li><li><a href=\"/tokens?l=Compromised\">Tokens (1)</a></li></ul></div></div><div class=\"col-xs-6 col-sm-4 col-md-3 secondary-container\"><div class=\"btn-group\" style=\"padding:4px;\"><button style=\"padding:2px;font-size:11px\" type=\"button\" class=\"btn btn-default dropdown-toggle\" data-toggle=\"dropdown\" aria-expanded=\"false\"> &nbsp;Computing (8)&nbsp;&nbsp;<i class=\"fa fa-angle-down\"></i></button><ul Class=\"dropdown-menu\" role=\"menu\" style=\"font-size:11px\"><li><a href=\"/tokens?l=Computing\">Tokens (8)</a></li></ul></div></div><div class=\"col-xs-6 col-sm-4 col-md-3 secondary-container\"><div class=\"btn-group\" style=\"padding:4px;\"><button style=\"padding:2px;font-size:11px\" type=\"button\" class=\"btn btn-default dropdown-toggle\" data-toggle=\"dropdown\" aria-expanded=\"false\"> &nbsp;Crowdfunding (6)&nbsp;&nbsp;<i class=\"fa fa-angle-down\"></i></button><ul Class=\"dropdown-menu\" role=\"menu\" style=\"font-size:11px\"><li><a href=\"/accounts?l=Crowdfunding\">Accounts (1)</a></li><li><a href=\"/tokens?l=Crowdfunding\">Tokens (5)</a></li></ul></div></div><div class=\"col-xs-6 col-sm-4 col-md-3 secondary-container\"><div class=\"btn-group\" style=\"padding:4px;\"><button style=\"padding:2px;font-size:11px\" type=\"button\" class=\"btn btn-default dropdown-toggle\" data-toggle=\"dropdown\" aria-expanded=\"false\"> &nbsp;Crypto Card (7)&nbsp;&nbsp;<i class=\"fa fa-angle-down\"></i></button><ul Class=\"dropdown-menu\" role=\"menu\" style=\"font-size:11px\"><li><a href=\"/tokens?l=Crypto Card\">Tokens (7)</a></li></ul></div></div><div class=\"col-xs-6 col-sm-4 col-md-3 secondary-container\"><div class=\"btn-group\" style=\"padding:4px;\"><button style=\"padding:2px;font-size:11px\" type=\"button\" class=\"btn btn-default dropdown-toggle\" data-toggle=\"dropdown\" aria-expanded=\"false\"> &nbsp;CryptoKitties (4)&nbsp;&nbsp;<i class=\"fa fa-angle-down\"></i></button><ul Class=\"dropdown-menu\" role=\"menu\" style=\"font-size:11px\"><li><a href=\"/accounts?l=CryptoKitties\">Accounts (3)</a></li><li><a href=\"/tokens?l=CryptoKitties\">Tokens (1)</a></li></ul></div></div><div class=\"col-xs-6 col-sm-4 col-md-3 secondary-container\"><div class=\"btn-group\" style=\"padding:4px;\"><button style=\"padding:2px;font-size:11px\" type=\"button\" class=\"btn btn-default dropdown-toggle\" data-toggle=\"dropdown\" aria-expanded=\"false\"> &nbsp;Currency (11)&nbsp;&nbsp;<i class=\"fa fa-angle-down\"></i></button><ul Class=\"dropdown-menu\" role=\"menu\" style=\"font-size:11px\"><li><a href=\"/tokens?l=Currency\">Tokens (11)</a></li></ul></div></div><div class=\"col-xs-6 col-sm-4 col-md-3 secondary-container\"><div class=\"btn-group\" style=\"padding:4px;\"><button style=\"padding:2px;font-size:11px\" type=\"button\" class=\"btn btn-default dropdown-toggle\" data-toggle=\"dropdown\" aria-expanded=\"false\"> &nbsp;DAO (5)&nbsp;&nbsp;<i class=\"fa fa-angle-down\"></i></button><ul Class=\"dropdown-menu\" role=\"menu\" style=\"font-size:11px\"><li><a href=\"/tokens?l=DAO\">Tokens (5)</a></li></ul></div></div><div class=\"col-xs-6 col-sm-4 col-md-3 secondary-container\"><div class=\"btn-group\" style=\"padding:4px;\"><button style=\"padding:2px;font-size:11px\" type=\"button\" class=\"btn btn-default dropdown-toggle\" data-toggle=\"dropdown\" aria-expanded=\"false\"> &nbsp;Data (23)&nbsp;&nbsp;<i class=\"fa fa-angle-down\"></i></button><ul Class=\"dropdown-menu\" role=\"menu\" style=\"font-size:11px\"><li><a href=\"/tokens?l=Data\">Tokens (23)</a></li></ul></div></div><div class=\"col-xs-6 col-sm-4 col-md-3 secondary-container\"><div class=\"btn-group\" style=\"padding:4px;\"><button style=\"padding:2px;font-size:11px\" type=\"button\" class=\"btn btn-default dropdown-toggle\" data-toggle=\"dropdown\" aria-expanded=\"false\"> &nbsp;Dating (1)&nbsp;&nbsp;<i class=\"fa fa-angle-down\"></i></button><ul Class=\"dropdown-menu\" role=\"menu\" style=\"font-size:11px\"><li><a href=\"/tokens?l=Dating\">Tokens (1)</a></li></ul></div></div><div class=\"col-xs-6 col-sm-4 col-md-3 secondary-container\"><div class=\"btn-group\" style=\"padding:4px;\"><button style=\"padding:2px;font-size:11px\" type=\"button\" class=\"btn btn-default dropdown-toggle\" data-toggle=\"dropdown\" aria-expanded=\"false\"> &nbsp;Decentralized Web (1)&nbsp;&nbsp;<i class=\"fa fa-angle-down\"></i></button><ul Class=\"dropdown-menu\" role=\"menu\" style=\"font-size:11px\"><li><a href=\"/tokens?l=Decentralized Web\">Tokens (1)</a></li></ul></div></div><div class=\"col-xs-6 col-sm-4 col-md-3 secondary-container\"><div class=\"btn-group\" style=\"padding:4px;\"><button style=\"padding:2px;font-size:11px\" type=\"button\" class=\"btn btn-default dropdown-toggle\" data-toggle=\"dropdown\" aria-expanded=\"false\"> &nbsp;Dex (38)&nbsp;&nbsp;<i class=\"fa fa-angle-down\"></i></button><ul Class=\"dropdown-menu\" role=\"menu\" style=\"font-size:11px\"><li><a href=\"/accounts?l=Dex\">Accounts (23)</a></li><li><a href=\"/tokens?l=Dex\">Tokens (15)</a></li></ul></div></div><div class=\"col-xs-6 col-sm-4 col-md-3 secondary-container\"><div class=\"btn-group\" style=\"padding:4px;\"><button style=\"padding:2px;font-size:11px\" type=\"button\" class=\"btn btn-default dropdown-toggle\" data-toggle=\"dropdown\" aria-expanded=\"false\"> &nbsp;Diamonds (3)&nbsp;&nbsp;<i class=\"fa fa-angle-down\"></i></button><ul Class=\"dropdown-menu\" role=\"menu\" style=\"font-size:11px\"><li><a href=\"/tokens?l=Diamonds\">Tokens (3)</a></li></ul></div></div><div class=\"col-xs-6 col-sm-4 col-md-3 secondary-container\"><div class=\"btn-group\" style=\"padding:4px;\"><button style=\"padding:2px;font-size:11px\" type=\"button\" class=\"btn btn-default dropdown-toggle\" data-toggle=\"dropdown\" aria-expanded=\"false\"> &nbsp;Donate (20)&nbsp;&nbsp;<i class=\"fa fa-angle-down\"></i></button><ul Class=\"dropdown-menu\" role=\"menu\" style=\"font-size:11px\"><li><a href=\"/accounts?l=Donate\">Accounts (17)</a></li><li><a href=\"/tokens?l=Donate\">Tokens (3)</a></li></ul></div></div><div class=\"col-xs-6 col-sm-4 col-md-3 secondary-container\"><div class=\"btn-group\" style=\"padding:4px;\"><button style=\"padding:2px;font-size:11px\" type=\"button\" class=\"btn btn-default dropdown-toggle\" data-toggle=\"dropdown\" aria-expanded=\"false\"> &nbsp;dYdX (16)&nbsp;&nbsp;<i class=\"fa fa-angle-down\"></i></button><ul Class=\"dropdown-menu\" role=\"menu\" style=\"font-size:11px\"><li><a href=\"/accounts?l=dYdX\">Accounts (16)</a></li></ul></div></div><div class=\"col-xs-6 col-sm-4 col-md-3 secondary-container\"><div class=\"btn-group\" style=\"padding:4px;\"><button style=\"padding:2px;font-size:11px\" type=\"button\" class=\"btn btn-default dropdown-toggle\" data-toggle=\"dropdown\" aria-expanded=\"false\"> &nbsp;E-Commerce (6)&nbsp;&nbsp;<i class=\"fa fa-angle-down\"></i></button><ul Class=\"dropdown-menu\" role=\"menu\" style=\"font-size:11px\"><li><a href=\"/tokens?l=E-Commerce\">Tokens (6)</a></li></ul></div></div><div class=\"col-xs-6 col-sm-4 col-md-3 secondary-container\"><div class=\"btn-group\" style=\"padding:4px;\"><button style=\"padding:2px;font-size:11px\" type=\"button\" class=\"btn btn-default dropdown-toggle\" data-toggle=\"dropdown\" aria-expanded=\"false\"> &nbsp;Education (7)&nbsp;&nbsp;<i class=\"fa fa-angle-down\"></i></button><ul Class=\"dropdown-menu\" role=\"menu\" style=\"font-size:11px\"><li><a href=\"/accounts?l=Education\">Accounts (1)</a></li><li><a href=\"/tokens?l=Education\">Tokens (6)</a></li></ul></div></div><div class=\"col-xs-6 col-sm-4 col-md-3 secondary-container\"><div class=\"btn-group\" style=\"padding:4px;\"><button style=\"padding:2px;font-size:11px\" type=\"button\" class=\"btn btn-default dropdown-toggle\" data-toggle=\"dropdown\" aria-expanded=\"false\"> &nbsp;Electricity (3)&nbsp;&nbsp;<i class=\"fa fa-angle-down\"></i></button><ul Class=\"dropdown-menu\" role=\"menu\" style=\"font-size:11px\"><li><a href=\"/tokens?l=Electricity\">Tokens (3)</a></li></ul></div></div><div class=\"col-xs-6 col-sm-4 col-md-3 secondary-container\"><div class=\"btn-group\" style=\"padding:4px;\"><button style=\"padding:2px;font-size:11px\" type=\"button\" class=\"btn btn-default dropdown-toggle\" data-toggle=\"dropdown\" aria-expanded=\"false\"> &nbsp;Electronics (2)&nbsp;&nbsp;<i class=\"fa fa-angle-down\"></i></button><ul Class=\"dropdown-menu\" role=\"menu\" style=\"font-size:11px\"><li><a href=\"/accounts?l=Electronics\">Accounts (1)</a></li><li><a href=\"/tokens?l=Electronics\">Tokens (1)</a></li></ul></div></div><div class=\"col-xs-6 col-sm-4 col-md-3 secondary-container\"><div class=\"btn-group\" style=\"padding:4px;\"><button style=\"padding:2px;font-size:11px\" type=\"button\" class=\"btn btn-default dropdown-toggle\" data-toggle=\"dropdown\" aria-expanded=\"false\"> &nbsp;Email (1)&nbsp;&nbsp;<i class=\"fa fa-angle-down\"></i></button><ul Class=\"dropdown-menu\" role=\"menu\" style=\"font-size:11px\"><li><a href=\"/tokens?l=Email\">Tokens (1)</a></li></ul></div></div><div class=\"col-xs-6 col-sm-4 col-md-3 secondary-container\"><div class=\"btn-group\" style=\"padding:4px;\"><button style=\"padding:2px;font-size:11px\" type=\"button\" class=\"btn btn-default dropdown-toggle\" data-toggle=\"dropdown\" aria-expanded=\"false\"> &nbsp;Energy (15)&nbsp;&nbsp;<i class=\"fa fa-angle-down\"></i></button><ul Class=\"dropdown-menu\" role=\"menu\" style=\"font-size:11px\"><li><a href=\"/tokens?l=Energy\">Tokens (15)</a></li></ul></div></div><div class=\"col-xs-6 col-sm-4 col-md-3 secondary-container\"><div class=\"btn-group\" style=\"padding:4px;\"><button style=\"padding:2px;font-size:11px\" type=\"button\" class=\"btn btn-default dropdown-toggle\" data-toggle=\"dropdown\" aria-expanded=\"false\"> &nbsp;ENS (6)&nbsp;&nbsp;<i class=\"fa fa-angle-down\"></i></button><ul Class=\"dropdown-menu\" role=\"menu\" style=\"font-size:11px\"><li><a href=\"/accounts?l=ENS\">Accounts (6)</a></li></ul></div></div><div class=\"col-xs-6 col-sm-4 col-md-3 secondary-container\"><div class=\"btn-group\" style=\"padding:4px;\"><button style=\"padding:2px;font-size:11px\" type=\"button\" class=\"btn btn-default dropdown-toggle\" data-toggle=\"dropdown\" aria-expanded=\"false\"> &nbsp;Entertainment (21)&nbsp;&nbsp;<i class=\"fa fa-angle-down\"></i></button><ul Class=\"dropdown-menu\" role=\"menu\" style=\"font-size:11px\"><li><a href=\"/tokens?l=Entertainment\">Tokens (21)</a></li></ul></div></div><div class=\"col-xs-6 col-sm-4 col-md-3 secondary-container\"><div class=\"btn-group\" style=\"padding:4px;\"><button style=\"padding:2px;font-size:11px\" type=\"button\" class=\"btn btn-default dropdown-toggle\" data-toggle=\"dropdown\" aria-expanded=\"false\"> &nbsp;Escrow (2)&nbsp;&nbsp;<i class=\"fa fa-angle-down\"></i></button><ul Class=\"dropdown-menu\" role=\"menu\" style=\"font-size:11px\"><li><a href=\"/tokens?l=Escrow\">Tokens (2)</a></li></ul></div></div><div class=\"col-xs-6 col-sm-4 col-md-3 secondary-container\"><div class=\"btn-group\" style=\"padding:4px;\"><button style=\"padding:2px;font-size:11px\" type=\"button\" class=\"btn btn-default dropdown-toggle\" data-toggle=\"dropdown\" aria-expanded=\"false\"> &nbsp;Etheremon (48)&nbsp;&nbsp;<i class=\"fa fa-angle-down\"></i></button><ul Class=\"dropdown-menu\" role=\"menu\" style=\"font-size:11px\"><li><a href=\"/accounts?l=Etheremon\">Accounts (45)</a></li><li><a href=\"/tokens?l=Etheremon\">Tokens (3)</a></li></ul></div></div><div class=\"col-xs-6 col-sm-4 col-md-3 secondary-container\"><div class=\"btn-group\" style=\"padding:4px;\"><button style=\"padding:2px;font-size:11px\" type=\"button\" class=\"btn btn-default dropdown-toggle\" data-toggle=\"dropdown\" aria-expanded=\"false\"> &nbsp;Ethereum Foundation (3)&nbsp;&nbsp;<i class=\"fa fa-angle-down\"></i></button><ul Class=\"dropdown-menu\" role=\"menu\" style=\"font-size:11px\"><li><a href=\"/accounts?l=Ethereum Foundation\">Accounts (2)</a></li><li><a href=\"/tokens?l=Ethereum Foundation\">Tokens (1)</a></li></ul></div></div><div class=\"col-xs-6 col-sm-4 col-md-3 secondary-container\"><div class=\"btn-group\" style=\"padding:4px;\"><button style=\"padding:2px;font-size:11px\" type=\"button\" class=\"btn btn-default dropdown-toggle\" data-toggle=\"dropdown\" aria-expanded=\"false\"> &nbsp;Etheroll (9)&nbsp;&nbsp;<i class=\"fa fa-angle-down\"></i></button><ul Class=\"dropdown-menu\" role=\"menu\" style=\"font-size:11px\"><li><a href=\"/accounts?l=Etheroll\">Accounts (8)</a></li><li><a href=\"/tokens?l=Etheroll\">Tokens (1)</a></li></ul></div></div><div class=\"col-xs-6 col-sm-4 col-md-3 secondary-container\"><div class=\"btn-group\" style=\"padding:4px;\"><button style=\"padding:2px;font-size:11px\" type=\"button\" class=\"btn btn-default dropdown-toggle\" data-toggle=\"dropdown\" aria-expanded=\"false\"> &nbsp;Events (4)&nbsp;&nbsp;<i class=\"fa fa-angle-down\"></i></button><ul Class=\"dropdown-menu\" role=\"menu\" style=\"font-size:11px\"><li><a href=\"/tokens?l=Events\">Tokens (4)</a></li></ul></div></div><div class=\"col-xs-6 col-sm-4 col-md-3 secondary-container\"><div class=\"btn-group\" style=\"padding:4px;\"><button style=\"padding:2px;font-size:11px\" type=\"button\" class=\"btn btn-default dropdown-toggle\" data-toggle=\"dropdown\" aria-expanded=\"false\"> &nbsp;Exchange (135)&nbsp;&nbsp;<i class=\"fa fa-angle-down\"></i></button><ul Class=\"dropdown-menu\" role=\"menu\" style=\"font-size:11px\"><li><a href=\"/accounts?l=Exchange\">Accounts (97)</a></li><li><a href=\"/tokens?l=Exchange\">Tokens (38)</a></li></ul></div></div><div class=\"col-xs-6 col-sm-4 col-md-3 secondary-container\"><div class=\"btn-group\" style=\"padding:4px;\"><button style=\"padding:2px;font-size:11px\" type=\"button\" class=\"btn btn-default dropdown-toggle\" data-toggle=\"dropdown\" aria-expanded=\"false\"> &nbsp;Fashion (1)&nbsp;&nbsp;<i class=\"fa fa-angle-down\"></i></button><ul Class=\"dropdown-menu\" role=\"menu\" style=\"font-size:11px\"><li><a href=\"/tokens?l=Fashion\">Tokens (1)</a></li></ul></div></div><div class=\"col-xs-6 col-sm-4 col-md-3 secondary-container\"><div class=\"btn-group\" style=\"padding:4px;\"><button style=\"padding:2px;font-size:11px\" type=\"button\" class=\"btn btn-default dropdown-toggle\" data-toggle=\"dropdown\" aria-expanded=\"false\"> &nbsp;Fiat Gateway (4)&nbsp;&nbsp;<i class=\"fa fa-angle-down\"></i></button><ul Class=\"dropdown-menu\" role=\"menu\" style=\"font-size:11px\"><li><a href=\"/accounts?l=Fiat Gateway\">Accounts (2)</a></li><li><a href=\"/tokens?l=Fiat Gateway\">Tokens (2)</a></li></ul></div></div><div class=\"col-xs-6 col-sm-4 col-md-3 secondary-container\"><div class=\"btn-group\" style=\"padding:4px;\"><button style=\"padding:2px;font-size:11px\" type=\"button\" class=\"btn btn-default dropdown-toggle\" data-toggle=\"dropdown\" aria-expanded=\"false\"> &nbsp;Finance (25)&nbsp;&nbsp;<i class=\"fa fa-angle-down\"></i></button><ul Class=\"dropdown-menu\" role=\"menu\" style=\"font-size:11px\"><li><a href=\"/tokens?l=Finance\">Tokens (25)</a></li></ul></div></div><div class=\"col-xs-6 col-sm-4 col-md-3 secondary-container\"><div class=\"btn-group\" style=\"padding:4px;\"><button style=\"padding:2px;font-size:11px\" type=\"button\" class=\"btn btn-default dropdown-toggle\" data-toggle=\"dropdown\" aria-expanded=\"false\"> &nbsp;Fomo3D (8)&nbsp;&nbsp;<i class=\"fa fa-angle-down\"></i></button><ul Class=\"dropdown-menu\" role=\"menu\" style=\"font-size:11px\"><li><a href=\"/txs?l=Fomo3D\">Transactions (1)</a></li><li><a href=\"/accounts?l=Fomo3D\">Accounts (7)</a></li></ul></div></div><div class=\"col-xs-6 col-sm-4 col-md-3 secondary-container\"><div class=\"btn-group\" style=\"padding:4px;\"><button style=\"padding:2px;font-size:11px\" type=\"button\" class=\"btn btn-default dropdown-toggle\" data-toggle=\"dropdown\" aria-expanded=\"false\"> &nbsp;Freelance (2)&nbsp;&nbsp;<i class=\"fa fa-angle-down\"></i></button><ul Class=\"dropdown-menu\" role=\"menu\" style=\"font-size:11px\"><li><a href=\"/tokens?l=Freelance\">Tokens (2)</a></li></ul></div></div><div class=\"col-xs-6 col-sm-4 col-md-3 secondary-container\"><div class=\"btn-group\" style=\"padding:4px;\"><button style=\"padding:2px;font-size:11px\" type=\"button\" class=\"btn btn-default dropdown-toggle\" data-toggle=\"dropdown\" aria-expanded=\"false\"> &nbsp;Fund (14)&nbsp;&nbsp;<i class=\"fa fa-angle-down\"></i></button><ul Class=\"dropdown-menu\" role=\"menu\" style=\"font-size:11px\"><li><a href=\"/tokens?l=Fund\">Tokens (14)</a></li></ul></div></div><div class=\"col-xs-6 col-sm-4 col-md-3 secondary-container\"><div class=\"btn-group\" style=\"padding:4px;\"><button style=\"padding:2px;font-size:11px\" type=\"button\" class=\"btn btn-default dropdown-toggle\" data-toggle=\"dropdown\" aria-expanded=\"false\"> &nbsp;Gambling (39)&nbsp;&nbsp;<i class=\"fa fa-angle-down\"></i></button><ul Class=\"dropdown-menu\" role=\"menu\" style=\"font-size:11px\"><li><a href=\"/accounts?l=Gambling\">Accounts (16)</a></li><li><a href=\"/tokens?l=Gambling\">Tokens (23)</a></li></ul></div></div><div class=\"col-xs-6 col-sm-4 col-md-3 secondary-container\"><div class=\"btn-group\" style=\"padding:4px;\"><button style=\"padding:2px;font-size:11px\" type=\"button\" class=\"btn btn-default dropdown-toggle\" data-toggle=\"dropdown\" aria-expanded=\"false\"> &nbsp;Gaming (45)&nbsp;&nbsp;<i class=\"fa fa-angle-down\"></i></button><ul Class=\"dropdown-menu\" role=\"menu\" style=\"font-size:11px\"><li><a href=\"/tokens?l=Gaming\">Tokens (45)</a></li></ul></div></div><div class=\"col-xs-6 col-sm-4 col-md-3 secondary-container\"><div class=\"btn-group\" style=\"padding:4px;\"><button style=\"padding:2px;font-size:11px\" type=\"button\" class=\"btn btn-default dropdown-toggle\" data-toggle=\"dropdown\" aria-expanded=\"false\"> &nbsp;Gas (4)&nbsp;&nbsp;<i class=\"fa fa-angle-down\"></i></button><ul Class=\"dropdown-menu\" role=\"menu\" style=\"font-size:11px\"><li><a href=\"/tokens?l=Gas\">Tokens (4)</a></li></ul></div></div><div class=\"col-xs-6 col-sm-4 col-md-3 secondary-container\"><div class=\"btn-group\" style=\"padding:4px;\"><button style=\"padding:2px;font-size:11px\" type=\"button\" class=\"btn btn-default dropdown-toggle\" data-toggle=\"dropdown\" aria-expanded=\"false\"> &nbsp;Gods Unchained (23)&nbsp;&nbsp;<i class=\"fa fa-angle-down\"></i></button><ul Class=\"dropdown-menu\" role=\"menu\" style=\"font-size:11px\"><li><a href=\"/accounts?l=Gods Unchained\">Accounts (21)</a></li><li><a href=\"/tokens?l=Gods Unchained\">Tokens (2)</a></li></ul></div></div><div class=\"col-xs-6 col-sm-4 col-md-3 secondary-container\"><div class=\"btn-group\" style=\"padding:4px;\"><button style=\"padding:2px;font-size:11px\" type=\"button\" class=\"btn btn-default dropdown-toggle\" data-toggle=\"dropdown\" aria-expanded=\"false\"> &nbsp;Gold (6)&nbsp;&nbsp;<i class=\"fa fa-angle-down\"></i></button><ul Class=\"dropdown-menu\" role=\"menu\" style=\"font-size:11px\"><li><a href=\"/tokens?l=Gold\">Tokens (6)</a></li></ul></div></div><div class=\"col-xs-6 col-sm-4 col-md-3 secondary-container\"><div class=\"btn-group\" style=\"padding:4px;\"><button style=\"padding:2px;font-size:11px\" type=\"button\" class=\"btn btn-default dropdown-toggle\" data-toggle=\"dropdown\" aria-expanded=\"false\"> &nbsp;HardForks (7)&nbsp;&nbsp;<i class=\"fa fa-angle-down\"></i></button><ul Class=\"dropdown-menu\" role=\"menu\" style=\"font-size:11px\"><li><a href=\"/blocks?l=HardForks\">Blocks (7)</a></li></ul></div></div><div class=\"col-xs-6 col-sm-4 col-md-3 secondary-container\"><div class=\"btn-group\" style=\"padding:4px;\"><button style=\"padding:2px;font-size:11px\" type=\"button\" class=\"btn btn-default dropdown-toggle\" data-toggle=\"dropdown\" aria-expanded=\"false\"> &nbsp;Havven (4)&nbsp;&nbsp;<i class=\"fa fa-angle-down\"></i></button><ul Class=\"dropdown-menu\" role=\"menu\" style=\"font-size:11px\"><li><a href=\"/accounts?l=Havven\">Accounts (2)</a></li><li><a href=\"/tokens?l=Havven\">Tokens (2)</a></li></ul></div></div><div class=\"col-xs-6 col-sm-4 col-md-3 secondary-container\"><div class=\"btn-group\" style=\"padding:4px;\"><button style=\"padding:2px;font-size:11px\" type=\"button\" class=\"btn btn-default dropdown-toggle\" data-toggle=\"dropdown\" aria-expanded=\"false\"> &nbsp;Healthcare (15)&nbsp;&nbsp;<i class=\"fa fa-angle-down\"></i></button><ul Class=\"dropdown-menu\" role=\"menu\" style=\"font-size:11px\"><li><a href=\"/tokens?l=Healthcare\">Tokens (15)</a></li></ul></div></div><div class=\"col-xs-6 col-sm-4 col-md-3 secondary-container\"><div class=\"btn-group\" style=\"padding:4px;\"><button style=\"padding:2px;font-size:11px\" type=\"button\" class=\"btn btn-default dropdown-toggle\" data-toggle=\"dropdown\" aria-expanded=\"false\"> &nbsp;Heist (9)&nbsp;&nbsp;<i class=\"fa fa-angle-down\"></i></button><ul Class=\"dropdown-menu\" role=\"menu\" style=\"font-size:11px\"><li><a href=\"/accounts?l=Heist\">Accounts (9)</a></li></ul></div></div><div class=\"col-xs-6 col-sm-4 col-md-3 secondary-container\"><div class=\"btn-group\" style=\"padding:4px;\"><button style=\"padding:2px;font-size:11px\" type=\"button\" class=\"btn btn-default dropdown-toggle\" data-toggle=\"dropdown\" aria-expanded=\"false\"> &nbsp;High-Risk (6)&nbsp;&nbsp;<i class=\"fa fa-angle-down\"></i></button><ul Class=\"dropdown-menu\" role=\"menu\" style=\"font-size:11px\"><li><a href=\"/accounts?l=High-Risk\">Accounts (6)</a></li></ul></div></div><div class=\"col-xs-6 col-sm-4 col-md-3 secondary-container\"><div class=\"btn-group\" style=\"padding:4px;\"><button style=\"padding:2px;font-size:11px\" type=\"button\" class=\"btn btn-default dropdown-toggle\" data-toggle=\"dropdown\" aria-expanded=\"false\"> &nbsp;Hotel (1)&nbsp;&nbsp;<i class=\"fa fa-angle-down\"></i></button><ul Class=\"dropdown-menu\" role=\"menu\" style=\"font-size:11px\"><li><a href=\"/tokens?l=Hotel\">Tokens (1)</a></li></ul></div></div><div class=\"col-xs-6 col-sm-4 col-md-3 secondary-container\"><div class=\"btn-group\" style=\"padding:4px;\"><button style=\"padding:2px;font-size:11px\" type=\"button\" class=\"btn btn-default dropdown-toggle\" data-toggle=\"dropdown\" aria-expanded=\"false\"> &nbsp;HR (11)&nbsp;&nbsp;<i class=\"fa fa-angle-down\"></i></button><ul Class=\"dropdown-menu\" role=\"menu\" style=\"font-size:11px\"><li><a href=\"/tokens?l=HR\">Tokens (11)</a></li></ul></div></div><div class=\"col-xs-6 col-sm-4 col-md-3 secondary-container\"><div class=\"btn-group\" style=\"padding:4px;\"><button style=\"padding:2px;font-size:11px\" type=\"button\" class=\"btn btn-default dropdown-toggle\" data-toggle=\"dropdown\" aria-expanded=\"false\"> &nbsp;Hyper Dragons (7)&nbsp;&nbsp;<i class=\"fa fa-angle-down\"></i></button><ul Class=\"dropdown-menu\" role=\"menu\" style=\"font-size:11px\"><li><a href=\"/accounts?l=Hyper Dragons\">Accounts (6)</a></li><li><a href=\"/tokens?l=Hyper Dragons\">Tokens (1)</a></li></ul></div></div><div class=\"col-xs-6 col-sm-4 col-md-3 secondary-container\"><div class=\"btn-group\" style=\"padding:4px;\"><button style=\"padding:2px;font-size:11px\" type=\"button\" class=\"btn btn-default dropdown-toggle\" data-toggle=\"dropdown\" aria-expanded=\"false\"> &nbsp;ICO Wallets (159)&nbsp;&nbsp;<i class=\"fa fa-angle-down\"></i></button><ul Class=\"dropdown-menu\" role=\"menu\" style=\"font-size:11px\"><li><a href=\"/accounts?l=ICO Wallets\">Accounts (159)</a></li></ul></div></div><div class=\"col-xs-6 col-sm-4 col-md-3 secondary-container\"><div class=\"btn-group\" style=\"padding:4px;\"><button style=\"padding:2px;font-size:11px\" type=\"button\" class=\"btn btn-default dropdown-toggle\" data-toggle=\"dropdown\" aria-expanded=\"false\"> &nbsp;Identity (12)&nbsp;&nbsp;<i class=\"fa fa-angle-down\"></i></button><ul Class=\"dropdown-menu\" role=\"menu\" style=\"font-size:11px\"><li><a href=\"/tokens?l=Identity\">Tokens (12)</a></li></ul></div></div><div class=\"col-xs-6 col-sm-4 col-md-3 secondary-container\"><div class=\"btn-group\" style=\"padding:4px;\"><button style=\"padding:2px;font-size:11px\" type=\"button\" class=\"btn btn-default dropdown-toggle\" data-toggle=\"dropdown\" aria-expanded=\"false\"> &nbsp;Incubator (3)&nbsp;&nbsp;<i class=\"fa fa-angle-down\"></i></button><ul Class=\"dropdown-menu\" role=\"menu\" style=\"font-size:11px\"><li><a href=\"/tokens?l=Incubator\">Tokens (3)</a></li></ul></div></div><div class=\"col-xs-6 col-sm-4 col-md-3 secondary-container\"><div class=\"btn-group\" style=\"padding:4px;\"><button style=\"padding:2px;font-size:11px\" type=\"button\" class=\"btn btn-default dropdown-toggle\" data-toggle=\"dropdown\" aria-expanded=\"false\"> &nbsp;Insurance (12)&nbsp;&nbsp;<i class=\"fa fa-angle-down\"></i></button><ul Class=\"dropdown-menu\" role=\"menu\" style=\"font-size:11px\"><li><a href=\"/tokens?l=Insurance\">Tokens (12)</a></li></ul></div></div><div class=\"col-xs-6 col-sm-4 col-md-3 secondary-container\"><div class=\"btn-group\" style=\"padding:4px;\"><button style=\"padding:2px;font-size:11px\" type=\"button\" class=\"btn btn-default dropdown-toggle\" data-toggle=\"dropdown\" aria-expanded=\"false\"> &nbsp;Investment (15)&nbsp;&nbsp;<i class=\"fa fa-angle-down\"></i></button><ul Class=\"dropdown-menu\" role=\"menu\" style=\"font-size:11px\"><li><a href=\"/tokens?l=Investment\">Tokens (15)</a></li></ul></div></div><div class=\"col-xs-6 col-sm-4 col-md-3 secondary-container\"><div class=\"btn-group\" style=\"padding:4px;\"><button style=\"padding:2px;font-size:11px\" type=\"button\" class=\"btn btn-default dropdown-toggle\" data-toggle=\"dropdown\" aria-expanded=\"false\"> &nbsp;Invoice Financing (1)&nbsp;&nbsp;<i class=\"fa fa-angle-down\"></i></button><ul Class=\"dropdown-menu\" role=\"menu\" style=\"font-size:11px\"><li><a href=\"/tokens?l=Invoice Financing\">Tokens (1)</a></li></ul></div></div><div class=\"col-xs-6 col-sm-4 col-md-3 secondary-container\"><div class=\"btn-group\" style=\"padding:4px;\"><button style=\"padding:2px;font-size:11px\" type=\"button\" class=\"btn btn-default dropdown-toggle\" data-toggle=\"dropdown\" aria-expanded=\"false\"> &nbsp;IoT (12)&nbsp;&nbsp;<i class=\"fa fa-angle-down\"></i></button><ul Class=\"dropdown-menu\" role=\"menu\" style=\"font-size:11px\"><li><a href=\"/tokens?l=IoT\">Tokens (12)</a></li></ul></div></div><div class=\"col-xs-6 col-sm-4 col-md-3 secondary-container\"><div class=\"btn-group\" style=\"padding:4px;\"><button style=\"padding:2px;font-size:11px\" type=\"button\" class=\"btn btn-default dropdown-toggle\" data-toggle=\"dropdown\" aria-expanded=\"false\"> &nbsp;Knowledge (2)&nbsp;&nbsp;<i class=\"fa fa-angle-down\"></i></button><ul Class=\"dropdown-menu\" role=\"menu\" style=\"font-size:11px\"><li><a href=\"/tokens?l=Knowledge\">Tokens (2)</a></li></ul></div></div><div class=\"col-xs-6 col-sm-4 col-md-3 secondary-container\"><div class=\"btn-group\" style=\"padding:4px;\"><button style=\"padding:2px;font-size:11px\" type=\"button\" class=\"btn btn-default dropdown-toggle\" data-toggle=\"dropdown\" aria-expanded=\"false\"> &nbsp;Land (1)&nbsp;&nbsp;<i class=\"fa fa-angle-down\"></i></button><ul Class=\"dropdown-menu\" role=\"menu\" style=\"font-size:11px\"><li><a href=\"/tokens?l=Land\">Tokens (1)</a></li></ul></div></div><div class=\"col-xs-6 col-sm-4 col-md-3 secondary-container\"><div class=\"btn-group\" style=\"padding:4px;\"><button style=\"padding:2px;font-size:11px\" type=\"button\" class=\"btn btn-default dropdown-toggle\" data-toggle=\"dropdown\" aria-expanded=\"false\"> &nbsp;Liquidity (4)&nbsp;&nbsp;<i class=\"fa fa-angle-down\"></i></button><ul Class=\"dropdown-menu\" role=\"menu\" style=\"font-size:11px\"><li><a href=\"/tokens?l=Liquidity\">Tokens (4)</a></li></ul></div></div><div class=\"col-xs-6 col-sm-4 col-md-3 secondary-container\"><div class=\"btn-group\" style=\"padding:4px;\"><button style=\"padding:2px;font-size:11px\" type=\"button\" class=\"btn btn-default dropdown-toggle\" data-toggle=\"dropdown\" aria-expanded=\"false\"> &nbsp;Loans (11)&nbsp;&nbsp;<i class=\"fa fa-angle-down\"></i></button><ul Class=\"dropdown-menu\" role=\"menu\" style=\"font-size:11px\"><li><a href=\"/accounts?l=Loans\">Accounts (1)</a></li><li><a href=\"/tokens?l=Loans\">Tokens (10)</a></li></ul></div></div><div class=\"col-xs-6 col-sm-4 col-md-3 secondary-container\"><div class=\"btn-group\" style=\"padding:4px;\"><button style=\"padding:2px;font-size:11px\" type=\"button\" class=\"btn btn-default dropdown-toggle\" data-toggle=\"dropdown\" aria-expanded=\"false\"> &nbsp;Logistics (2)&nbsp;&nbsp;<i class=\"fa fa-angle-down\"></i></button><ul Class=\"dropdown-menu\" role=\"menu\" style=\"font-size:11px\"><li><a href=\"/tokens?l=Logistics\">Tokens (2)</a></li></ul></div></div><div class=\"col-xs-6 col-sm-4 col-md-3 secondary-container\"><div class=\"btn-group\" style=\"padding:4px;\"><button style=\"padding:2px;font-size:11px\" type=\"button\" class=\"btn btn-default dropdown-toggle\" data-toggle=\"dropdown\" aria-expanded=\"false\"> &nbsp;Loyalty / Rewards (6)&nbsp;&nbsp;<i class=\"fa fa-angle-down\"></i></button><ul Class=\"dropdown-menu\" role=\"menu\" style=\"font-size:11px\"><li><a href=\"/tokens?l=Loyalty / Rewards\">Tokens (6)</a></li></ul></div></div><div class=\"col-xs-6 col-sm-4 col-md-3 secondary-container\"><div class=\"btn-group\" style=\"padding:4px;\"><button style=\"padding:2px;font-size:11px\" type=\"button\" class=\"btn btn-default dropdown-toggle\" data-toggle=\"dropdown\" aria-expanded=\"false\"> &nbsp;Maker (12)&nbsp;&nbsp;<i class=\"fa fa-angle-down\"></i></button><ul Class=\"dropdown-menu\" role=\"menu\" style=\"font-size:11px\"><li><a href=\"/accounts?l=Maker\">Accounts (9)</a></li><li><a href=\"/tokens?l=Maker\">Tokens (3)</a></li></ul></div></div><div class=\"col-xs-6 col-sm-4 col-md-3 secondary-container\"><div class=\"btn-group\" style=\"padding:4px;\"><button style=\"padding:2px;font-size:11px\" type=\"button\" class=\"btn btn-default dropdown-toggle\" data-toggle=\"dropdown\" aria-expanded=\"false\"> &nbsp;Manufacturing (1)&nbsp;&nbsp;<i class=\"fa fa-angle-down\"></i></button><ul Class=\"dropdown-menu\" role=\"menu\" style=\"font-size:11px\"><li><a href=\"/tokens?l=Manufacturing\">Tokens (1)</a></li></ul></div></div><div class=\"col-xs-6 col-sm-4 col-md-3 secondary-container\"><div class=\"btn-group\" style=\"padding:4px;\"><button style=\"padding:2px;font-size:11px\" type=\"button\" class=\"btn btn-default dropdown-toggle\" data-toggle=\"dropdown\" aria-expanded=\"false\"> &nbsp;Marketing (2)&nbsp;&nbsp;<i class=\"fa fa-angle-down\"></i></button><ul Class=\"dropdown-menu\" role=\"menu\" style=\"font-size:11px\"><li><a href=\"/tokens?l=Marketing\">Tokens (2)</a></li></ul></div></div><div class=\"col-xs-6 col-sm-4 col-md-3 secondary-container\"><div class=\"btn-group\" style=\"padding:4px;\"><button style=\"padding:2px;font-size:11px\" type=\"button\" class=\"btn btn-default dropdown-toggle\" data-toggle=\"dropdown\" aria-expanded=\"false\"> &nbsp;Marketplace (26)&nbsp;&nbsp;<i class=\"fa fa-angle-down\"></i></button><ul Class=\"dropdown-menu\" role=\"menu\" style=\"font-size:11px\"><li><a href=\"/accounts?l=Marketplace\">Accounts (2)</a></li><li><a href=\"/tokens?l=Marketplace\">Tokens (24)</a></li></ul></div></div><div class=\"col-xs-6 col-sm-4 col-md-3 secondary-container\"><div class=\"btn-group\" style=\"padding:4px;\"><button style=\"padding:2px;font-size:11px\" type=\"button\" class=\"btn btn-default dropdown-toggle\" data-toggle=\"dropdown\" aria-expanded=\"false\"> &nbsp;Masternode (1)&nbsp;&nbsp;<i class=\"fa fa-angle-down\"></i></button><ul Class=\"dropdown-menu\" role=\"menu\" style=\"font-size:11px\"><li><a href=\"/tokens?l=Masternode\">Tokens (1)</a></li></ul></div></div><div class=\"col-xs-6 col-sm-4 col-md-3 secondary-container\"><div class=\"btn-group\" style=\"padding:4px;\"><button style=\"padding:2px;font-size:11px\" type=\"button\" class=\"btn btn-default dropdown-toggle\" data-toggle=\"dropdown\" aria-expanded=\"false\"> &nbsp;Media (10)&nbsp;&nbsp;<i class=\"fa fa-angle-down\"></i></button><ul Class=\"dropdown-menu\" role=\"menu\" style=\"font-size:11px\"><li><a href=\"/accounts?l=Media\">Accounts (1)</a></li><li><a href=\"/tokens?l=Media\">Tokens (9)</a></li></ul></div></div><div class=\"col-xs-6 col-sm-4 col-md-3 secondary-container\"><div class=\"btn-group\" style=\"padding:4px;\"><button style=\"padding:2px;font-size:11px\" type=\"button\" class=\"btn btn-default dropdown-toggle\" data-toggle=\"dropdown\" aria-expanded=\"false\"> &nbsp;Melon (14)&nbsp;&nbsp;<i class=\"fa fa-angle-down\"></i></button><ul Class=\"dropdown-menu\" role=\"menu\" style=\"font-size:11px\"><li><a href=\"/accounts?l=Melon\">Accounts (13)</a></li><li><a href=\"/tokens?l=Melon\">Tokens (1)</a></li></ul></div></div><div class=\"col-xs-6 col-sm-4 col-md-3 secondary-container\"><div class=\"btn-group\" style=\"padding:4px;\"><button style=\"padding:2px;font-size:11px\" type=\"button\" class=\"btn btn-default dropdown-toggle\" data-toggle=\"dropdown\" aria-expanded=\"false\"> &nbsp;Microtasking (2)&nbsp;&nbsp;<i class=\"fa fa-angle-down\"></i></button><ul Class=\"dropdown-menu\" role=\"menu\" style=\"font-size:11px\"><li><a href=\"/tokens?l=Microtasking\">Tokens (2)</a></li></ul></div></div><div class=\"col-xs-6 col-sm-4 col-md-3 secondary-container\"><div class=\"btn-group\" style=\"padding:4px;\"><button style=\"padding:2px;font-size:11px\" type=\"button\" class=\"btn btn-default dropdown-toggle\" data-toggle=\"dropdown\" aria-expanded=\"false\"> &nbsp;Mining (60)&nbsp;&nbsp;<i class=\"fa fa-angle-down\"></i></button><ul Class=\"dropdown-menu\" role=\"menu\" style=\"font-size:11px\"><li><a href=\"/accounts?l=Mining\">Accounts (35)</a></li><li><a href=\"/tokens?l=Mining\">Tokens (25)</a></li></ul></div></div><div class=\"col-xs-6 col-sm-4 col-md-3 secondary-container\"><div class=\"btn-group\" style=\"padding:4px;\"><button style=\"padding:2px;font-size:11px\" type=\"button\" class=\"btn btn-default dropdown-toggle\" data-toggle=\"dropdown\" aria-expanded=\"false\"> &nbsp;Mobile (11)&nbsp;&nbsp;<i class=\"fa fa-angle-down\"></i></button><ul Class=\"dropdown-menu\" role=\"menu\" style=\"font-size:11px\"><li><a href=\"/tokens?l=Mobile\">Tokens (11)</a></li></ul></div></div><div class=\"col-xs-6 col-sm-4 col-md-3 secondary-container\"><div class=\"btn-group\" style=\"padding:4px;\"><button style=\"padding:2px;font-size:11px\" type=\"button\" class=\"btn btn-default dropdown-toggle\" data-toggle=\"dropdown\" aria-expanded=\"false\"> &nbsp;Movie / Film (2)&nbsp;&nbsp;<i class=\"fa fa-angle-down\"></i></button><ul Class=\"dropdown-menu\" role=\"menu\" style=\"font-size:11px\"><li><a href=\"/tokens?l=Movie / Film\">Tokens (2)</a></li></ul></div></div><div class=\"col-xs-6 col-sm-4 col-md-3 secondary-container\"><div class=\"btn-group\" style=\"padding:4px;\"><button style=\"padding:2px;font-size:11px\" type=\"button\" class=\"btn btn-default dropdown-toggle\" data-toggle=\"dropdown\" aria-expanded=\"false\"> &nbsp;Music (7)&nbsp;&nbsp;<i class=\"fa fa-angle-down\"></i></button><ul Class=\"dropdown-menu\" role=\"menu\" style=\"font-size:11px\"><li><a href=\"/accounts?l=Music\">Accounts (1)</a></li><li><a href=\"/tokens?l=Music\">Tokens (6)</a></li></ul></div></div><div class=\"col-xs-6 col-sm-4 col-md-3 secondary-container\"><div class=\"btn-group\" style=\"padding:4px;\"><button style=\"padding:2px;font-size:11px\" type=\"button\" class=\"btn btn-default dropdown-toggle\" data-toggle=\"dropdown\" aria-expanded=\"false\"> &nbsp;NetCongestion (1)&nbsp;&nbsp;<i class=\"fa fa-angle-down\"></i></button><ul Class=\"dropdown-menu\" role=\"menu\" style=\"font-size:11px\"><li><a href=\"/txs?l=NetCongestion\">Transactions (1)</a></li></ul></div></div><div class=\"col-xs-6 col-sm-4 col-md-3 secondary-container\"><div class=\"btn-group\" style=\"padding:4px;\"><button style=\"padding:2px;font-size:11px\" type=\"button\" class=\"btn btn-default dropdown-toggle\" data-toggle=\"dropdown\" aria-expanded=\"false\"> &nbsp;News (3)&nbsp;&nbsp;<i class=\"fa fa-angle-down\"></i></button><ul Class=\"dropdown-menu\" role=\"menu\" style=\"font-size:11px\"><li><a href=\"/tokens?l=News\">Tokens (3)</a></li></ul></div></div><div class=\"col-xs-6 col-sm-4 col-md-3 secondary-container\"><div class=\"btn-group\" style=\"padding:4px;\"><button style=\"padding:2px;font-size:11px\" type=\"button\" class=\"btn btn-default dropdown-toggle\" data-toggle=\"dropdown\" aria-expanded=\"false\"> &nbsp;NFT (22)&nbsp;&nbsp;<i class=\"fa fa-angle-down\"></i></button><ul Class=\"dropdown-menu\" role=\"menu\" style=\"font-size:11px\"><li><a href=\"/accounts?l=NFT\">Accounts (1)</a></li><li><a href=\"/tokens?l=NFT\">Tokens (21)</a></li></ul></div></div><div class=\"col-xs-6 col-sm-4 col-md-3 secondary-container\"><div class=\"btn-group\" style=\"padding:4px;\"><button style=\"padding:2px;font-size:11px\" type=\"button\" class=\"btn btn-default dropdown-toggle\" data-toggle=\"dropdown\" aria-expanded=\"false\"> &nbsp;Off-Chain (1)&nbsp;&nbsp;<i class=\"fa fa-angle-down\"></i></button><ul Class=\"dropdown-menu\" role=\"menu\" style=\"font-size:11px\"><li><a href=\"/tokens?l=Off-Chain\">Tokens (1)</a></li></ul></div></div><div class=\"col-xs-6 col-sm-4 col-md-3 secondary-container\"><div class=\"btn-group\" style=\"padding:4px;\"><button style=\"padding:2px;font-size:11px\" type=\"button\" class=\"btn btn-default dropdown-toggle\" data-toggle=\"dropdown\" aria-expanded=\"false\"> &nbsp;Oil (2)&nbsp;&nbsp;<i class=\"fa fa-angle-down\"></i></button><ul Class=\"dropdown-menu\" role=\"menu\" style=\"font-size:11px\"><li><a href=\"/tokens?l=Oil\">Tokens (2)</a></li></ul></div></div><div class=\"col-xs-6 col-sm-4 col-md-3 secondary-container\"><div class=\"btn-group\" style=\"padding:4px;\"><button style=\"padding:2px;font-size:11px\" type=\"button\" class=\"btn btn-default dropdown-toggle\" data-toggle=\"dropdown\" aria-expanded=\"false\"> &nbsp;Options Trading (1)&nbsp;&nbsp;<i class=\"fa fa-angle-down\"></i></button><ul Class=\"dropdown-menu\" role=\"menu\" style=\"font-size:11px\"><li><a href=\"/tokens?l=Options Trading\">Tokens (1)</a></li></ul></div></div><div class=\"col-xs-6 col-sm-4 col-md-3 secondary-container\"><div class=\"btn-group\" style=\"padding:4px;\"><button style=\"padding:2px;font-size:11px\" type=\"button\" class=\"btn btn-default dropdown-toggle\" data-toggle=\"dropdown\" aria-expanded=\"false\"> &nbsp;OTC (3)&nbsp;&nbsp;<i class=\"fa fa-angle-down\"></i></button><ul Class=\"dropdown-menu\" role=\"menu\" style=\"font-size:11px\"><li><a href=\"/accounts?l=OTC\">Accounts (1)</a></li><li><a href=\"/tokens?l=OTC\">Tokens (2)</a></li></ul></div></div><div class=\"col-xs-6 col-sm-4 col-md-3 secondary-container\"><div class=\"btn-group\" style=\"padding:4px;\"><button style=\"padding:2px;font-size:11px\" type=\"button\" class=\"btn btn-default dropdown-toggle\" data-toggle=\"dropdown\" aria-expanded=\"false\"> &nbsp;Others (27)&nbsp;&nbsp;<i class=\"fa fa-angle-down\"></i></button><ul Class=\"dropdown-menu\" role=\"menu\" style=\"font-size:11px\"><li><a href=\"/accounts?l=Others\">Accounts (1)</a></li><li><a href=\"/tokens?l=Others\">Tokens (26)</a></li></ul></div></div><div class=\"col-xs-6 col-sm-4 col-md-3 secondary-container\"><div class=\"btn-group\" style=\"padding:4px;\"><button style=\"padding:2px;font-size:11px\" type=\"button\" class=\"btn btn-default dropdown-toggle\" data-toggle=\"dropdown\" aria-expanded=\"false\"> &nbsp;Parity Bug (152)&nbsp;&nbsp;<i class=\"fa fa-angle-down\"></i></button><ul Class=\"dropdown-menu\" role=\"menu\" style=\"font-size:11px\"><li><a href=\"/accounts?l=Parity Bug\">Accounts (152)</a></li></ul></div></div><div class=\"col-xs-6 col-sm-4 col-md-3 secondary-container\"><div class=\"btn-group\" style=\"padding:4px;\"><button style=\"padding:2px;font-size:11px\" type=\"button\" class=\"btn btn-default dropdown-toggle\" data-toggle=\"dropdown\" aria-expanded=\"false\"> &nbsp;Payment (40)&nbsp;&nbsp;<i class=\"fa fa-angle-down\"></i></button><ul Class=\"dropdown-menu\" role=\"menu\" style=\"font-size:11px\"><li><a href=\"/tokens?l=Payment\">Tokens (40)</a></li></ul></div></div><div class=\"col-xs-6 col-sm-4 col-md-3 secondary-container\"><div class=\"btn-group\" style=\"padding:4px;\"><button style=\"padding:2px;font-size:11px\" type=\"button\" class=\"btn btn-default dropdown-toggle\" data-toggle=\"dropdown\" aria-expanded=\"false\"> &nbsp;Phish/Hack (2701)&nbsp;&nbsp;<i class=\"fa fa-angle-down\"></i></button><ul Class=\"dropdown-menu\" role=\"menu\" style=\"font-size:11px\"><li><a href=\"/accounts?l=Phish/Hack\">Accounts (2700)</a></li><li><a href=\"/tokens?l=Phish/Hack\">Tokens (1)</a></li></ul></div></div><div class=\"col-xs-6 col-sm-4 col-md-3 secondary-container\"><div class=\"btn-group\" style=\"padding:4px;\"><button style=\"padding:2px;font-size:11px\" type=\"button\" class=\"btn btn-default dropdown-toggle\" data-toggle=\"dropdown\" aria-expanded=\"false\"> &nbsp;Platform (39)&nbsp;&nbsp;<i class=\"fa fa-angle-down\"></i></button><ul Class=\"dropdown-menu\" role=\"menu\" style=\"font-size:11px\"><li><a href=\"/tokens?l=Platform\">Tokens (39)</a></li></ul></div></div><div class=\"col-xs-6 col-sm-4 col-md-3 secondary-container\"><div class=\"btn-group\" style=\"padding:4px;\"><button style=\"padding:2px;font-size:11px\" type=\"button\" class=\"btn btn-default dropdown-toggle\" data-toggle=\"dropdown\" aria-expanded=\"false\"> &nbsp;Poloniex (18)&nbsp;&nbsp;<i class=\"fa fa-angle-down\"></i></button><ul Class=\"dropdown-menu\" role=\"menu\" style=\"font-size:11px\"><li><a href=\"/accounts?l=Poloniex\">Accounts (18)</a></li></ul></div></div><div class=\"col-xs-6 col-sm-4 col-md-3 secondary-container\"><div class=\"btn-group\" style=\"padding:4px;\"><button style=\"padding:2px;font-size:11px\" type=\"button\" class=\"btn btn-default dropdown-toggle\" data-toggle=\"dropdown\" aria-expanded=\"false\"> &nbsp;Portfolio Tracker (1)&nbsp;&nbsp;<i class=\"fa fa-angle-down\"></i></button><ul Class=\"dropdown-menu\" role=\"menu\" style=\"font-size:11px\"><li><a href=\"/tokens?l=Portfolio Tracker\">Tokens (1)</a></li></ul></div></div><div class=\"col-xs-6 col-sm-4 col-md-3 secondary-container\"><div class=\"btn-group\" style=\"padding:4px;\"><button style=\"padding:2px;font-size:11px\" type=\"button\" class=\"btn btn-default dropdown-toggle\" data-toggle=\"dropdown\" aria-expanded=\"false\"> &nbsp;POS (1)&nbsp;&nbsp;<i class=\"fa fa-angle-down\"></i></button><ul Class=\"dropdown-menu\" role=\"menu\" style=\"font-size:11px\"><li><a href=\"/tokens?l=POS\">Tokens (1)</a></li></ul></div></div><div class=\"col-xs-6 col-sm-4 col-md-3 secondary-container\"><div class=\"btn-group\" style=\"padding:4px;\"><button style=\"padding:2px;font-size:11px\" type=\"button\" class=\"btn btn-default dropdown-toggle\" data-toggle=\"dropdown\" aria-expanded=\"false\"> &nbsp;Prediction Market (7)&nbsp;&nbsp;<i class=\"fa fa-angle-down\"></i></button><ul Class=\"dropdown-menu\" role=\"menu\" style=\"font-size:11px\"><li><a href=\"/accounts?l=Prediction Market\">Accounts (1)</a></li><li><a href=\"/tokens?l=Prediction Market\">Tokens (6)</a></li></ul></div></div><div class=\"col-xs-6 col-sm-4 col-md-3 secondary-container\"><div class=\"btn-group\" style=\"padding:4px;\"><button style=\"padding:2px;font-size:11px\" type=\"button\" class=\"btn btn-default dropdown-toggle\" data-toggle=\"dropdown\" aria-expanded=\"false\"> &nbsp;Protocol (7)&nbsp;&nbsp;<i class=\"fa fa-angle-down\"></i></button><ul Class=\"dropdown-menu\" role=\"menu\" style=\"font-size:11px\"><li><a href=\"/tokens?l=Protocol\">Tokens (7)</a></li></ul></div></div><div class=\"col-xs-6 col-sm-4 col-md-3 secondary-container\"><div class=\"btn-group\" style=\"padding:4px;\"><button style=\"padding:2px;font-size:11px\" type=\"button\" class=\"btn btn-default dropdown-toggle\" data-toggle=\"dropdown\" aria-expanded=\"false\"> &nbsp;Radio (1)&nbsp;&nbsp;<i class=\"fa fa-angle-down\"></i></button><ul Class=\"dropdown-menu\" role=\"menu\" style=\"font-size:11px\"><li><a href=\"/tokens?l=Radio\">Tokens (1)</a></li></ul></div></div><div class=\"col-xs-6 col-sm-4 col-md-3 secondary-container\"><div class=\"btn-group\" style=\"padding:4px;\"><button style=\"padding:2px;font-size:11px\" type=\"button\" class=\"btn btn-default dropdown-toggle\" data-toggle=\"dropdown\" aria-expanded=\"false\"> &nbsp;Rating (1)&nbsp;&nbsp;<i class=\"fa fa-angle-down\"></i></button><ul Class=\"dropdown-menu\" role=\"menu\" style=\"font-size:11px\"><li><a href=\"/tokens?l=Rating\">Tokens (1)</a></li></ul></div></div><div class=\"col-xs-6 col-sm-4 col-md-3 secondary-container\"><div class=\"btn-group\" style=\"padding:4px;\"><button style=\"padding:2px;font-size:11px\" type=\"button\" class=\"btn btn-default dropdown-toggle\" data-toggle=\"dropdown\" aria-expanded=\"false\"> &nbsp;Real Estate (11)&nbsp;&nbsp;<i class=\"fa fa-angle-down\"></i></button><ul Class=\"dropdown-menu\" role=\"menu\" style=\"font-size:11px\"><li><a href=\"/tokens?l=Real Estate\">Tokens (11)</a></li></ul></div></div><div class=\"col-xs-6 col-sm-4 col-md-3 secondary-container\"><div class=\"btn-group\" style=\"padding:4px;\"><button style=\"padding:2px;font-size:11px\" type=\"button\" class=\"btn btn-default dropdown-toggle\" data-toggle=\"dropdown\" aria-expanded=\"false\"> &nbsp;Remittance (1)&nbsp;&nbsp;<i class=\"fa fa-angle-down\"></i></button><ul Class=\"dropdown-menu\" role=\"menu\" style=\"font-size:11px\"><li><a href=\"/tokens?l=Remittance \">Tokens (1)</a></li></ul></div></div><div class=\"col-xs-6 col-sm-4 col-md-3 secondary-container\"><div class=\"btn-group\" style=\"padding:4px;\"><button style=\"padding:2px;font-size:11px\" type=\"button\" class=\"btn btn-default dropdown-toggle\" data-toggle=\"dropdown\" aria-expanded=\"false\"> &nbsp;Rent (4)&nbsp;&nbsp;<i class=\"fa fa-angle-down\"></i></button><ul Class=\"dropdown-menu\" role=\"menu\" style=\"font-size:11px\"><li><a href=\"/tokens?l=Rent\">Tokens (4)</a></li></ul></div></div><div class=\"col-xs-6 col-sm-4 col-md-3 secondary-container\"><div class=\"btn-group\" style=\"padding:4px;\"><button style=\"padding:2px;font-size:11px\" type=\"button\" class=\"btn btn-default dropdown-toggle\" data-toggle=\"dropdown\" aria-expanded=\"false\"> &nbsp;Reputation (2)&nbsp;&nbsp;<i class=\"fa fa-angle-down\"></i></button><ul Class=\"dropdown-menu\" role=\"menu\" style=\"font-size:11px\"><li><a href=\"/tokens?l=Reputation\">Tokens (2)</a></li></ul></div></div><div class=\"col-xs-6 col-sm-4 col-md-3 secondary-container\"><div class=\"btn-group\" style=\"padding:4px;\"><button style=\"padding:2px;font-size:11px\" type=\"button\" class=\"btn btn-default dropdown-toggle\" data-toggle=\"dropdown\" aria-expanded=\"false\"> &nbsp;Research (1)&nbsp;&nbsp;<i class=\"fa fa-angle-down\"></i></button><ul Class=\"dropdown-menu\" role=\"menu\" style=\"font-size:11px\"><li><a href=\"/accounts?l=Research\">Accounts (1)</a></li></ul></div></div><div class=\"col-xs-6 col-sm-4 col-md-3 secondary-container\"><div class=\"btn-group\" style=\"padding:4px;\"><button style=\"padding:2px;font-size:11px\" type=\"button\" class=\"btn btn-default dropdown-toggle\" data-toggle=\"dropdown\" aria-expanded=\"false\"> &nbsp;Retail (10)&nbsp;&nbsp;<i class=\"fa fa-angle-down\"></i></button><ul Class=\"dropdown-menu\" role=\"menu\" style=\"font-size:11px\"><li><a href=\"/tokens?l=Retail\">Tokens (10)</a></li></ul></div></div><div class=\"col-xs-6 col-sm-4 col-md-3 secondary-container\"><div class=\"btn-group\" style=\"padding:4px;\"><button style=\"padding:2px;font-size:11px\" type=\"button\" class=\"btn btn-default dropdown-toggle\" data-toggle=\"dropdown\" aria-expanded=\"false\"> &nbsp;Ridesharing (3)&nbsp;&nbsp;<i class=\"fa fa-angle-down\"></i></button><ul Class=\"dropdown-menu\" role=\"menu\" style=\"font-size:11px\"><li><a href=\"/tokens?l=Ridesharing\">Tokens (3)</a></li></ul></div></div><div class=\"col-xs-6 col-sm-4 col-md-3 secondary-container\"><div class=\"btn-group\" style=\"padding:4px;\"><button style=\"padding:2px;font-size:11px\" type=\"button\" class=\"btn btn-default dropdown-toggle\" data-toggle=\"dropdown\" aria-expanded=\"false\"> &nbsp;Security (2)&nbsp;&nbsp;<i class=\"fa fa-angle-down\"></i></button><ul Class=\"dropdown-menu\" role=\"menu\" style=\"font-size:11px\"><li><a href=\"/tokens?l=Security\">Tokens (2)</a></li></ul></div></div><div class=\"col-xs-6 col-sm-4 col-md-3 secondary-container\"><div class=\"btn-group\" style=\"padding:4px;\"><button style=\"padding:2px;font-size:11px\" type=\"button\" class=\"btn btn-default dropdown-toggle\" data-toggle=\"dropdown\" aria-expanded=\"false\"> &nbsp;Security Token (1)&nbsp;&nbsp;<i class=\"fa fa-angle-down\"></i></button><ul Class=\"dropdown-menu\" role=\"menu\" style=\"font-size:11px\"><li><a href=\"/tokens?l=Security Token\">Tokens (1)</a></li></ul></div></div><div class=\"col-xs-6 col-sm-4 col-md-3 secondary-container\"><div class=\"btn-group\" style=\"padding:4px;\"><button style=\"padding:2px;font-size:11px\" type=\"button\" class=\"btn btn-default dropdown-toggle\" data-toggle=\"dropdown\" aria-expanded=\"false\"> &nbsp;Services (1)&nbsp;&nbsp;<i class=\"fa fa-angle-down\"></i></button><ul Class=\"dropdown-menu\" role=\"menu\" style=\"font-size:11px\"><li><a href=\"/tokens?l=Services\">Tokens (1)</a></li></ul></div></div><div class=\"col-xs-6 col-sm-4 col-md-3 secondary-container\"><div class=\"btn-group\" style=\"padding:4px;\"><button style=\"padding:2px;font-size:11px\" type=\"button\" class=\"btn btn-default dropdown-toggle\" data-toggle=\"dropdown\" aria-expanded=\"false\"> &nbsp;Sharing (8)&nbsp;&nbsp;<i class=\"fa fa-angle-down\"></i></button><ul Class=\"dropdown-menu\" role=\"menu\" style=\"font-size:11px\"><li><a href=\"/tokens?l=Sharing\">Tokens (8)</a></li></ul></div></div><div class=\"col-xs-6 col-sm-4 col-md-3 secondary-container\"><div class=\"btn-group\" style=\"padding:4px;\"><button style=\"padding:2px;font-size:11px\" type=\"button\" class=\"btn btn-default dropdown-toggle\" data-toggle=\"dropdown\" aria-expanded=\"false\"> &nbsp;Shipping (2)&nbsp;&nbsp;<i class=\"fa fa-angle-down\"></i></button><ul Class=\"dropdown-menu\" role=\"menu\" style=\"font-size:11px\"><li><a href=\"/tokens?l=Shipping\">Tokens (2)</a></li></ul></div></div><div class=\"col-xs-6 col-sm-4 col-md-3 secondary-container\"><div class=\"btn-group\" style=\"padding:4px;\"><button style=\"padding:2px;font-size:11px\" type=\"button\" class=\"btn btn-default dropdown-toggle\" data-toggle=\"dropdown\" aria-expanded=\"false\"> &nbsp;Smart Contract (12)&nbsp;&nbsp;<i class=\"fa fa-angle-down\"></i></button><ul Class=\"dropdown-menu\" role=\"menu\" style=\"font-size:11px\"><li><a href=\"/tokens?l=Smart Contract\">Tokens (12)</a></li></ul></div></div><div class=\"col-xs-6 col-sm-4 col-md-3 secondary-container\"><div class=\"btn-group\" style=\"padding:4px;\"><button style=\"padding:2px;font-size:11px\" type=\"button\" class=\"btn btn-default dropdown-toggle\" data-toggle=\"dropdown\" aria-expanded=\"false\"> &nbsp;Social (28)&nbsp;&nbsp;<i class=\"fa fa-angle-down\"></i></button><ul Class=\"dropdown-menu\" role=\"menu\" style=\"font-size:11px\"><li><a href=\"/tokens?l=Social\">Tokens (28)</a></li></ul></div></div><div class=\"col-xs-6 col-sm-4 col-md-3 secondary-container\"><div class=\"btn-group\" style=\"padding:4px;\"><button style=\"padding:2px;font-size:11px\" type=\"button\" class=\"btn btn-default dropdown-toggle\" data-toggle=\"dropdown\" aria-expanded=\"false\"> &nbsp;Software (1)&nbsp;&nbsp;<i class=\"fa fa-angle-down\"></i></button><ul Class=\"dropdown-menu\" role=\"menu\" style=\"font-size:11px\"><li><a href=\"/tokens?l=Software\">Tokens (1)</a></li></ul></div></div><div class=\"col-xs-6 col-sm-4 col-md-3 secondary-container\"><div class=\"btn-group\" style=\"padding:4px;\"><button style=\"padding:2px;font-size:11px\" type=\"button\" class=\"btn btn-default dropdown-toggle\" data-toggle=\"dropdown\" aria-expanded=\"false\"> &nbsp;Spam Token (29)&nbsp;&nbsp;<i class=\"fa fa-angle-down\"></i></button><ul Class=\"dropdown-menu\" role=\"menu\" style=\"font-size:11px\"><li><a href=\"/accounts?l=Spam Token\">Accounts (9)</a></li><li><a href=\"/tokens?l=Spam Token\">Tokens (20)</a></li></ul></div></div><div class=\"col-xs-6 col-sm-4 col-md-3 secondary-container\"><div class=\"btn-group\" style=\"padding:4px;\"><button style=\"padding:2px;font-size:11px\" type=\"button\" class=\"btn btn-default dropdown-toggle\" data-toggle=\"dropdown\" aria-expanded=\"false\"> &nbsp;Sports (5)&nbsp;&nbsp;<i class=\"fa fa-angle-down\"></i></button><ul Class=\"dropdown-menu\" role=\"menu\" style=\"font-size:11px\"><li><a href=\"/tokens?l=Sports\">Tokens (5)</a></li></ul></div></div><div class=\"col-xs-6 col-sm-4 col-md-3 secondary-container\"><div class=\"btn-group\" style=\"padding:4px;\"><button style=\"padding:2px;font-size:11px\" type=\"button\" class=\"btn btn-default dropdown-toggle\" data-toggle=\"dropdown\" aria-expanded=\"false\"> &nbsp;Stablecoin (14)&nbsp;&nbsp;<i class=\"fa fa-angle-down\"></i></button><ul Class=\"dropdown-menu\" role=\"menu\" style=\"font-size:11px\"><li><a href=\"/accounts?l=Stablecoin\">Accounts (1)</a></li><li><a href=\"/tokens?l=Stablecoin\">Tokens (13)</a></li></ul></div></div><div class=\"col-xs-6 col-sm-4 col-md-3 secondary-container\"><div class=\"btn-group\" style=\"padding:4px;\"><button style=\"padding:2px;font-size:11px\" type=\"button\" class=\"btn btn-default dropdown-toggle\" data-toggle=\"dropdown\" aria-expanded=\"false\"> &nbsp;Storage (4)&nbsp;&nbsp;<i class=\"fa fa-angle-down\"></i></button><ul Class=\"dropdown-menu\" role=\"menu\" style=\"font-size:11px\"><li><a href=\"/tokens?l=Storage\">Tokens (4)</a></li></ul></div></div><div class=\"col-xs-6 col-sm-4 col-md-3 secondary-container\"><div class=\"btn-group\" style=\"padding:4px;\"><button style=\"padding:2px;font-size:11px\" type=\"button\" class=\"btn btn-default dropdown-toggle\" data-toggle=\"dropdown\" aria-expanded=\"false\"> &nbsp;Supply Chain (5)&nbsp;&nbsp;<i class=\"fa fa-angle-down\"></i></button><ul Class=\"dropdown-menu\" role=\"menu\" style=\"font-size:11px\"><li><a href=\"/tokens?l=Supply Chain\">Tokens (5)</a></li></ul></div></div><div class=\"col-xs-6 col-sm-4 col-md-3 secondary-container\"><div class=\"btn-group\" style=\"padding:4px;\"><button style=\"padding:2px;font-size:11px\" type=\"button\" class=\"btn btn-default dropdown-toggle\" data-toggle=\"dropdown\" aria-expanded=\"false\"> &nbsp;Surveillance (1)&nbsp;&nbsp;<i class=\"fa fa-angle-down\"></i></button><ul Class=\"dropdown-menu\" role=\"menu\" style=\"font-size:11px\"><li><a href=\"/tokens?l=Surveillance\">Tokens (1)</a></li></ul></div></div><div class=\"col-xs-6 col-sm-4 col-md-3 secondary-container\"><div class=\"btn-group\" style=\"padding:4px;\"><button style=\"padding:2px;font-size:11px\" type=\"button\" class=\"btn btn-default dropdown-toggle\" data-toggle=\"dropdown\" aria-expanded=\"false\"> &nbsp;Telecommunications (3)&nbsp;&nbsp;<i class=\"fa fa-angle-down\"></i></button><ul Class=\"dropdown-menu\" role=\"menu\" style=\"font-size:11px\"><li><a href=\"/tokens?l=Telecommunications\">Tokens (3)</a></li></ul></div></div><div class=\"col-xs-6 col-sm-4 col-md-3 secondary-container\"><div class=\"btn-group\" style=\"padding:4px;\"><button style=\"padding:2px;font-size:11px\" type=\"button\" class=\"btn btn-default dropdown-toggle\" data-toggle=\"dropdown\" aria-expanded=\"false\"> &nbsp;Ticketing (2)&nbsp;&nbsp;<i class=\"fa fa-angle-down\"></i></button><ul Class=\"dropdown-menu\" role=\"menu\" style=\"font-size:11px\"><li><a href=\"/tokens?l=Ticketing\">Tokens (2)</a></li></ul></div></div><div class=\"col-xs-6 col-sm-4 col-md-3 secondary-container\"><div class=\"btn-group\" style=\"padding:4px;\"><button style=\"padding:2px;font-size:11px\" type=\"button\" class=\"btn btn-default dropdown-toggle\" data-toggle=\"dropdown\" aria-expanded=\"false\"> &nbsp;Token Contract (934)&nbsp;&nbsp;<i class=\"fa fa-angle-down\"></i></button><ul Class=\"dropdown-menu\" role=\"menu\" style=\"font-size:11px\"><li><a href=\"/accounts?l=Token Contract\">Accounts (930)</a></li><li><a href=\"/tokens?l=Token Contract\">Tokens (4)</a></li></ul></div></div><div class=\"col-xs-6 col-sm-4 col-md-3 secondary-container\"><div class=\"btn-group\" style=\"padding:4px;\"><button style=\"padding:2px;font-size:11px\" type=\"button\" class=\"btn btn-default dropdown-toggle\" data-toggle=\"dropdown\" aria-expanded=\"false\"> &nbsp;Token Sale (168)&nbsp;&nbsp;<i class=\"fa fa-angle-down\"></i></button><ul Class=\"dropdown-menu\" role=\"menu\" style=\"font-size:11px\"><li><a href=\"/accounts?l=Token Sale\">Accounts (168)</a></li></ul></div></div><div class=\"col-xs-6 col-sm-4 col-md-3 secondary-container\"><div class=\"btn-group\" style=\"padding:4px;\"><button style=\"padding:2px;font-size:11px\" type=\"button\" class=\"btn btn-default dropdown-toggle\" data-toggle=\"dropdown\" aria-expanded=\"false\"> &nbsp;Tokenized Asset (1)&nbsp;&nbsp;<i class=\"fa fa-angle-down\"></i></button><ul Class=\"dropdown-menu\" role=\"menu\" style=\"font-size:11px\"><li><a href=\"/tokens?l=Tokenized Asset\">Tokens (1)</a></li></ul></div></div><div class=\"col-xs-6 col-sm-4 col-md-3 secondary-container\"><div class=\"btn-group\" style=\"padding:4px;\"><button style=\"padding:2px;font-size:11px\" type=\"button\" class=\"btn btn-default dropdown-toggle\" data-toggle=\"dropdown\" aria-expanded=\"false\"> &nbsp;Tools (2)&nbsp;&nbsp;<i class=\"fa fa-angle-down\"></i></button><ul Class=\"dropdown-menu\" role=\"menu\" style=\"font-size:11px\"><li><a href=\"/tokens?l=Tools\">Tokens (2)</a></li></ul></div></div><div class=\"col-xs-6 col-sm-4 col-md-3 secondary-container\"><div class=\"btn-group\" style=\"padding:4px;\"><button style=\"padding:2px;font-size:11px\" type=\"button\" class=\"btn btn-default dropdown-toggle\" data-toggle=\"dropdown\" aria-expanded=\"false\"> &nbsp;Trading (32)&nbsp;&nbsp;<i class=\"fa fa-angle-down\"></i></button><ul Class=\"dropdown-menu\" role=\"menu\" style=\"font-size:11px\"><li><a href=\"/accounts?l=Trading\">Accounts (1)</a></li><li><a href=\"/tokens?l=Trading\">Tokens (31)</a></li></ul></div></div><div class=\"col-xs-6 col-sm-4 col-md-3 secondary-container\"><div class=\"btn-group\" style=\"padding:4px;\"><button style=\"padding:2px;font-size:11px\" type=\"button\" class=\"btn btn-default dropdown-toggle\" data-toggle=\"dropdown\" aria-expanded=\"false\"> &nbsp;Transportation (2)&nbsp;&nbsp;<i class=\"fa fa-angle-down\"></i></button><ul Class=\"dropdown-menu\" role=\"menu\" style=\"font-size:11px\"><li><a href=\"/tokens?l=Transportation\">Tokens (2)</a></li></ul></div></div><div class=\"col-xs-6 col-sm-4 col-md-3 secondary-container\"><div class=\"btn-group\" style=\"padding:4px;\"><button style=\"padding:2px;font-size:11px\" type=\"button\" class=\"btn btn-default dropdown-toggle\" data-toggle=\"dropdown\" aria-expanded=\"false\"> &nbsp;Travel (11)&nbsp;&nbsp;<i class=\"fa fa-angle-down\"></i></button><ul Class=\"dropdown-menu\" role=\"menu\" style=\"font-size:11px\"><li><a href=\"/tokens?l=Travel\">Tokens (11)</a></li></ul></div></div><div class=\"col-xs-6 col-sm-4 col-md-3 secondary-container\"><div class=\"btn-group\" style=\"padding:4px;\"><button style=\"padding:2px;font-size:11px\" type=\"button\" class=\"btn btn-default dropdown-toggle\" data-toggle=\"dropdown\" aria-expanded=\"false\"> &nbsp;Vehicle (7)&nbsp;&nbsp;<i class=\"fa fa-angle-down\"></i></button><ul Class=\"dropdown-menu\" role=\"menu\" style=\"font-size:11px\"><li><a href=\"/tokens?l=Vehicle\">Tokens (7)</a></li></ul></div></div><div class=\"col-xs-6 col-sm-4 col-md-3 secondary-container\"><div class=\"btn-group\" style=\"padding:4px;\"><button style=\"padding:2px;font-size:11px\" type=\"button\" class=\"btn btn-default dropdown-toggle\" data-toggle=\"dropdown\" aria-expanded=\"false\"> &nbsp;Video (2)&nbsp;&nbsp;<i class=\"fa fa-angle-down\"></i></button><ul Class=\"dropdown-menu\" role=\"menu\" style=\"font-size:11px\"><li><a href=\"/tokens?l=Video\">Tokens (2)</a></li></ul></div></div><div class=\"col-xs-6 col-sm-4 col-md-3 secondary-container\"><div class=\"btn-group\" style=\"padding:4px;\"><button style=\"padding:2px;font-size:11px\" type=\"button\" class=\"btn btn-default dropdown-toggle\" data-toggle=\"dropdown\" aria-expanded=\"false\"> &nbsp;VPN (2)&nbsp;&nbsp;<i class=\"fa fa-angle-down\"></i></button><ul Class=\"dropdown-menu\" role=\"menu\" style=\"font-size:11px\"><li><a href=\"/tokens?l=VPN\">Tokens (2)</a></li></ul></div></div><div class=\"col-xs-6 col-sm-4 col-md-3 secondary-container\"><div class=\"btn-group\" style=\"padding:4px;\"><button style=\"padding:2px;font-size:11px\" type=\"button\" class=\"btn btn-default dropdown-toggle\" data-toggle=\"dropdown\" aria-expanded=\"false\"> &nbsp;VR (6)&nbsp;&nbsp;<i class=\"fa fa-angle-down\"></i></button><ul Class=\"dropdown-menu\" role=\"menu\" style=\"font-size:11px\"><li><a href=\"/tokens?l=VR\">Tokens (6)</a></li></ul></div></div><div class=\"col-xs-6 col-sm-4 col-md-3 secondary-container\"><div class=\"btn-group\" style=\"padding:4px;\"><button style=\"padding:2px;font-size:11px\" type=\"button\" class=\"btn btn-default dropdown-toggle\" data-toggle=\"dropdown\" aria-expanded=\"false\"> &nbsp;Wallet App (14)&nbsp;&nbsp;<i class=\"fa fa-angle-down\"></i></button><ul Class=\"dropdown-menu\" role=\"menu\" style=\"font-size:11px\"><li><a href=\"/accounts?l=Wallet App\">Accounts (2)</a></li><li><a href=\"/tokens?l=Wallet App\">Tokens (12)</a></li></ul></div></div><div class=\"col-xs-6 col-sm-4 col-md-3 secondary-container\"><div class=\"btn-group\" style=\"padding:4px;\"><button style=\"padding:2px;font-size:11px\" type=\"button\" class=\"btn btn-default dropdown-toggle\" data-toggle=\"dropdown\" aria-expanded=\"false\"> &nbsp;White Hat (2)&nbsp;&nbsp;<i class=\"fa fa-angle-down\"></i></button><ul Class=\"dropdown-menu\" role=\"menu\" style=\"font-size:11px\"><li><a href=\"/accounts?l=White Hat\">Accounts (2)</a></li></ul></div></div><div class=\"col-xs-6 col-sm-4 col-md-3 secondary-container\"><div class=\"btn-group\" style=\"padding:4px;\"><button style=\"padding:2px;font-size:11px\" type=\"button\" class=\"btn btn-default dropdown-toggle\" data-toggle=\"dropdown\" aria-expanded=\"false\"> &nbsp;Wi-Fi (3)&nbsp;&nbsp;<i class=\"fa fa-angle-down\"></i></button><ul Class=\"dropdown-menu\" role=\"menu\" style=\"font-size:11px\"><li><a href=\"/tokens?l=Wi-Fi\">Tokens (3)</a></li></ul></div></div><div class=\"col-xs-6 col-sm-4 col-md-3 secondary-container\"><div class=\"btn-group\" style=\"padding:4px;\"><button style=\"padding:2px;font-size:11px\" type=\"button\" class=\"btn btn-default dropdown-toggle\" data-toggle=\"dropdown\" aria-expanded=\"false\"> &nbsp;Zethr (6)&nbsp;&nbsp;<i class=\"fa fa-angle-down\"></i></button><ul Class=\"dropdown-menu\" role=\"menu\" style=\"font-size:11px\"><li><a href=\"/accounts?l=Zethr\">Accounts (6)</a></li></ul></div></div><br><br><div class=\"col-md-12\" style=\"padding-left:18px\" id=\"tagfooter\"></div></div>\n",
    "<script type=\"text/javascript\">\"\"\"\n"
   ]
  },
  {
   "cell_type": "code",
   "execution_count": 36,
   "metadata": {},
   "outputs": [
    {
     "data": {
      "text/plain": [
       "['/accounts?l=0x',\n",
       " '/accounts?l=0xUniverse',\n",
       " '/accounts?l=Advertising',\n",
       " '/accounts?l=Bancor',\n",
       " '/accounts?l=Basic',\n",
       " '/accounts?l=Binance',\n",
       " '/accounts?l=Blockchain',\n",
       " '/accounts?l=Bugs',\n",
       " '/accounts?l=Collectibles',\n",
       " '/accounts?l=Compound',\n",
       " '/accounts?l=Compromised',\n",
       " '/accounts?l=Crowdfunding',\n",
       " '/accounts?l=CryptoKitties',\n",
       " '/accounts?l=Dex',\n",
       " '/accounts?l=Donate',\n",
       " '/accounts?l=dYdX',\n",
       " '/accounts?l=Education',\n",
       " '/accounts?l=Electronics',\n",
       " '/accounts?l=ENS',\n",
       " '/accounts?l=Etheremon',\n",
       " '/accounts?l=Ethereum',\n",
       " '/accounts?l=Etheroll',\n",
       " '/accounts?l=Exchange',\n",
       " '/accounts?l=Fiat',\n",
       " '/accounts?l=Fomo3D',\n",
       " '/accounts?l=Gambling',\n",
       " '/accounts?l=Gods',\n",
       " '/accounts?l=Havven',\n",
       " '/accounts?l=Heist',\n",
       " '/accounts?l=High',\n",
       " '/accounts?l=Hyper',\n",
       " '/accounts?l=ICO',\n",
       " '/accounts?l=Loans',\n",
       " '/accounts?l=Maker',\n",
       " '/accounts?l=Marketplace',\n",
       " '/accounts?l=Media',\n",
       " '/accounts?l=Melon',\n",
       " '/accounts?l=Mining',\n",
       " '/accounts?l=Music',\n",
       " '/accounts?l=NFT',\n",
       " '/accounts?l=OTC',\n",
       " '/accounts?l=Others',\n",
       " '/accounts?l=Parity',\n",
       " '/accounts?l=Phish',\n",
       " '/accounts?l=Poloniex',\n",
       " '/accounts?l=Prediction',\n",
       " '/accounts?l=Research',\n",
       " '/accounts?l=Spam',\n",
       " '/accounts?l=Stablecoin',\n",
       " '/accounts?l=Token',\n",
       " '/accounts?l=Token',\n",
       " '/accounts?l=Trading',\n",
       " '/accounts?l=Wallet',\n",
       " '/accounts?l=White',\n",
       " '/accounts?l=Zethr',\n",
       " '/tokens?l=0x',\n",
       " '/tokens?l=0xUniverse',\n",
       " '/tokens?l=Adult',\n",
       " '/tokens?l=Advertising',\n",
       " '/tokens?l=Agriculture',\n",
       " '/tokens?l=Analytics',\n",
       " '/tokens?l=Art',\n",
       " '/tokens?l=Artificial',\n",
       " '/tokens?l=Asset',\n",
       " '/tokens?l=Authentication',\n",
       " '/tokens?l=Aviation',\n",
       " '/tokens?l=Bancor',\n",
       " '/tokens?l=Banking',\n",
       " '/tokens?l=Basic',\n",
       " '/tokens?l=Beauty',\n",
       " '/tokens?l=Binance',\n",
       " '/tokens?l=Blockchain',\n",
       " '/tokens?l=Blockchain',\n",
       " '/tokens?l=Charity',\n",
       " '/tokens?l=China',\n",
       " '/tokens?l=Cloud',\n",
       " '/tokens?l=Collaboration',\n",
       " '/tokens?l=Collectibles',\n",
       " '/tokens?l=Commodity',\n",
       " '/tokens?l=Compromised',\n",
       " '/tokens?l=Computing',\n",
       " '/tokens?l=Crowdfunding',\n",
       " '/tokens?l=Crypto',\n",
       " '/tokens?l=CryptoKitties',\n",
       " '/tokens?l=Currency',\n",
       " '/tokens?l=DAO',\n",
       " '/tokens?l=Data',\n",
       " '/tokens?l=Dating',\n",
       " '/tokens?l=Decentralized',\n",
       " '/tokens?l=Dex',\n",
       " '/tokens?l=Diamonds',\n",
       " '/tokens?l=Donate',\n",
       " '/tokens?l=E',\n",
       " '/tokens?l=Education',\n",
       " '/tokens?l=Electricity',\n",
       " '/tokens?l=Electronics',\n",
       " '/tokens?l=Email',\n",
       " '/tokens?l=Energy',\n",
       " '/tokens?l=Entertainment',\n",
       " '/tokens?l=Escrow',\n",
       " '/tokens?l=Etheremon',\n",
       " '/tokens?l=Ethereum',\n",
       " '/tokens?l=Etheroll',\n",
       " '/tokens?l=Events',\n",
       " '/tokens?l=Exchange',\n",
       " '/tokens?l=Fashion',\n",
       " '/tokens?l=Fiat',\n",
       " '/tokens?l=Finance',\n",
       " '/tokens?l=Freelance',\n",
       " '/tokens?l=Fund',\n",
       " '/tokens?l=Gambling',\n",
       " '/tokens?l=Gaming',\n",
       " '/tokens?l=Gas',\n",
       " '/tokens?l=Gods',\n",
       " '/tokens?l=Gold',\n",
       " '/tokens?l=Havven',\n",
       " '/tokens?l=Healthcare',\n",
       " '/tokens?l=Hotel',\n",
       " '/tokens?l=HR',\n",
       " '/tokens?l=Hyper',\n",
       " '/tokens?l=Identity',\n",
       " '/tokens?l=Incubator',\n",
       " '/tokens?l=Insurance',\n",
       " '/tokens?l=Investment',\n",
       " '/tokens?l=Invoice',\n",
       " '/tokens?l=IoT',\n",
       " '/tokens?l=Knowledge',\n",
       " '/tokens?l=Land',\n",
       " '/tokens?l=Liquidity',\n",
       " '/tokens?l=Loans',\n",
       " '/tokens?l=Logistics',\n",
       " '/tokens?l=Loyalty',\n",
       " '/tokens?l=Maker',\n",
       " '/tokens?l=Manufacturing',\n",
       " '/tokens?l=Marketing',\n",
       " '/tokens?l=Marketplace',\n",
       " '/tokens?l=Masternode',\n",
       " '/tokens?l=Media',\n",
       " '/tokens?l=Melon',\n",
       " '/tokens?l=Microtasking',\n",
       " '/tokens?l=Mining',\n",
       " '/tokens?l=Mobile',\n",
       " '/tokens?l=Movie',\n",
       " '/tokens?l=Music',\n",
       " '/tokens?l=News',\n",
       " '/tokens?l=NFT',\n",
       " '/tokens?l=Off',\n",
       " '/tokens?l=Oil',\n",
       " '/tokens?l=Options',\n",
       " '/tokens?l=OTC',\n",
       " '/tokens?l=Others',\n",
       " '/tokens?l=Payment',\n",
       " '/tokens?l=Phish',\n",
       " '/tokens?l=Platform',\n",
       " '/tokens?l=Portfolio',\n",
       " '/tokens?l=POS',\n",
       " '/tokens?l=Prediction',\n",
       " '/tokens?l=Protocol',\n",
       " '/tokens?l=Radio',\n",
       " '/tokens?l=Rating',\n",
       " '/tokens?l=Real',\n",
       " '/tokens?l=Remittance',\n",
       " '/tokens?l=Rent',\n",
       " '/tokens?l=Reputation',\n",
       " '/tokens?l=Retail',\n",
       " '/tokens?l=Ridesharing',\n",
       " '/tokens?l=Security',\n",
       " '/tokens?l=Security',\n",
       " '/tokens?l=Services',\n",
       " '/tokens?l=Sharing',\n",
       " '/tokens?l=Shipping',\n",
       " '/tokens?l=Smart',\n",
       " '/tokens?l=Social',\n",
       " '/tokens?l=Software',\n",
       " '/tokens?l=Spam',\n",
       " '/tokens?l=Sports',\n",
       " '/tokens?l=Stablecoin',\n",
       " '/tokens?l=Storage',\n",
       " '/tokens?l=Supply',\n",
       " '/tokens?l=Surveillance',\n",
       " '/tokens?l=Telecommunications',\n",
       " '/tokens?l=Ticketing',\n",
       " '/tokens?l=Token',\n",
       " '/tokens?l=Tokenized',\n",
       " '/tokens?l=Tools',\n",
       " '/tokens?l=Trading',\n",
       " '/tokens?l=Transportation',\n",
       " '/tokens?l=Travel',\n",
       " '/tokens?l=Vehicle',\n",
       " '/tokens?l=Video',\n",
       " '/tokens?l=VPN',\n",
       " '/tokens?l=VR',\n",
       " '/tokens?l=Wallet',\n",
       " '/tokens?l=Wi']"
      ]
     },
     "execution_count": 36,
     "metadata": {},
     "output_type": "execute_result"
    }
   ],
   "source": [
    "accounts_list = re.findall(r\"\\\"/accounts\\?l=\\w{0,20}\", source)\n",
    "tokens_list = re.findall(r\"\\\"/tokens\\?l=\\w{0,20}\", source)\n",
    "accounts_list_final = []\n",
    "tokens_list_final = []\n",
    "all_address_dict = {}\n",
    "\n",
    "for string in accounts_list:\n",
    "    accounts_list_final.append(string.replace(\"\\\"\", \"\"))\n",
    "for string in tokens_list:\n",
    "    tokens_list_final.append(string.replace(\"\\\"\", \"\"))\n",
    "\n",
    "links_list_final = accounts_list_final + tokens_list_final\n",
    "links_list_final"
   ]
  },
  {
   "cell_type": "code",
   "execution_count": 37,
   "metadata": {},
   "outputs": [
    {
     "data": {
      "text/plain": [
       "'https://etherscan.io/accounts?l=0x'"
      ]
     },
     "execution_count": 37,
     "metadata": {},
     "output_type": "execute_result"
    },
    {
     "data": {
      "text/plain": [
       "'https://etherscan.io/accounts?l=0xUniverse'"
      ]
     },
     "execution_count": 37,
     "metadata": {},
     "output_type": "execute_result"
    },
    {
     "data": {
      "text/plain": [
       "'https://etherscan.io/accounts?l=Advertising'"
      ]
     },
     "execution_count": 37,
     "metadata": {},
     "output_type": "execute_result"
    },
    {
     "data": {
      "text/plain": [
       "'https://etherscan.io/accounts?l=Bancor'"
      ]
     },
     "execution_count": 37,
     "metadata": {},
     "output_type": "execute_result"
    },
    {
     "data": {
      "text/plain": [
       "'https://etherscan.io/accounts?l=Basic'"
      ]
     },
     "execution_count": 37,
     "metadata": {},
     "output_type": "execute_result"
    },
    {
     "data": {
      "text/plain": [
       "'https://etherscan.io/accounts?l=Binance'"
      ]
     },
     "execution_count": 37,
     "metadata": {},
     "output_type": "execute_result"
    },
    {
     "data": {
      "text/plain": [
       "'https://etherscan.io/accounts?l=Blockchain'"
      ]
     },
     "execution_count": 37,
     "metadata": {},
     "output_type": "execute_result"
    },
    {
     "data": {
      "text/plain": [
       "'https://etherscan.io/accounts?l=Bugs'"
      ]
     },
     "execution_count": 37,
     "metadata": {},
     "output_type": "execute_result"
    },
    {
     "data": {
      "text/plain": [
       "'https://etherscan.io/accounts?l=Collectibles'"
      ]
     },
     "execution_count": 37,
     "metadata": {},
     "output_type": "execute_result"
    },
    {
     "data": {
      "text/plain": [
       "'https://etherscan.io/accounts?l=Compound'"
      ]
     },
     "execution_count": 37,
     "metadata": {},
     "output_type": "execute_result"
    },
    {
     "data": {
      "text/plain": [
       "'https://etherscan.io/accounts?l=Compromised'"
      ]
     },
     "execution_count": 37,
     "metadata": {},
     "output_type": "execute_result"
    },
    {
     "data": {
      "text/plain": [
       "'https://etherscan.io/accounts?l=Crowdfunding'"
      ]
     },
     "execution_count": 37,
     "metadata": {},
     "output_type": "execute_result"
    },
    {
     "data": {
      "text/plain": [
       "'https://etherscan.io/accounts?l=CryptoKitties'"
      ]
     },
     "execution_count": 37,
     "metadata": {},
     "output_type": "execute_result"
    },
    {
     "data": {
      "text/plain": [
       "'https://etherscan.io/accounts?l=Dex'"
      ]
     },
     "execution_count": 37,
     "metadata": {},
     "output_type": "execute_result"
    },
    {
     "data": {
      "text/plain": [
       "'https://etherscan.io/accounts?l=Donate'"
      ]
     },
     "execution_count": 37,
     "metadata": {},
     "output_type": "execute_result"
    },
    {
     "data": {
      "text/plain": [
       "'https://etherscan.io/accounts?l=dYdX'"
      ]
     },
     "execution_count": 37,
     "metadata": {},
     "output_type": "execute_result"
    },
    {
     "data": {
      "text/plain": [
       "'https://etherscan.io/accounts?l=Education'"
      ]
     },
     "execution_count": 37,
     "metadata": {},
     "output_type": "execute_result"
    },
    {
     "data": {
      "text/plain": [
       "'https://etherscan.io/accounts?l=Electronics'"
      ]
     },
     "execution_count": 37,
     "metadata": {},
     "output_type": "execute_result"
    },
    {
     "data": {
      "text/plain": [
       "'https://etherscan.io/accounts?l=ENS'"
      ]
     },
     "execution_count": 37,
     "metadata": {},
     "output_type": "execute_result"
    },
    {
     "data": {
      "text/plain": [
       "'https://etherscan.io/accounts?l=Etheremon'"
      ]
     },
     "execution_count": 37,
     "metadata": {},
     "output_type": "execute_result"
    },
    {
     "data": {
      "text/plain": [
       "'https://etherscan.io/accounts?l=Ethereum'"
      ]
     },
     "execution_count": 37,
     "metadata": {},
     "output_type": "execute_result"
    },
    {
     "data": {
      "text/plain": [
       "'https://etherscan.io/accounts?l=Etheroll'"
      ]
     },
     "execution_count": 37,
     "metadata": {},
     "output_type": "execute_result"
    },
    {
     "data": {
      "text/plain": [
       "'https://etherscan.io/accounts?l=Exchange'"
      ]
     },
     "execution_count": 37,
     "metadata": {},
     "output_type": "execute_result"
    },
    {
     "data": {
      "text/plain": [
       "'https://etherscan.io/accounts?l=Fiat'"
      ]
     },
     "execution_count": 37,
     "metadata": {},
     "output_type": "execute_result"
    },
    {
     "data": {
      "text/plain": [
       "'https://etherscan.io/accounts?l=Fomo3D'"
      ]
     },
     "execution_count": 37,
     "metadata": {},
     "output_type": "execute_result"
    },
    {
     "data": {
      "text/plain": [
       "'https://etherscan.io/accounts?l=Gambling'"
      ]
     },
     "execution_count": 37,
     "metadata": {},
     "output_type": "execute_result"
    },
    {
     "data": {
      "text/plain": [
       "'https://etherscan.io/accounts?l=Gods'"
      ]
     },
     "execution_count": 37,
     "metadata": {},
     "output_type": "execute_result"
    },
    {
     "data": {
      "text/plain": [
       "'https://etherscan.io/accounts?l=Havven'"
      ]
     },
     "execution_count": 37,
     "metadata": {},
     "output_type": "execute_result"
    },
    {
     "data": {
      "text/plain": [
       "'https://etherscan.io/accounts?l=Heist'"
      ]
     },
     "execution_count": 37,
     "metadata": {},
     "output_type": "execute_result"
    },
    {
     "data": {
      "text/plain": [
       "'https://etherscan.io/accounts?l=High'"
      ]
     },
     "execution_count": 37,
     "metadata": {},
     "output_type": "execute_result"
    },
    {
     "data": {
      "text/plain": [
       "'https://etherscan.io/accounts?l=Hyper'"
      ]
     },
     "execution_count": 37,
     "metadata": {},
     "output_type": "execute_result"
    },
    {
     "data": {
      "text/plain": [
       "'https://etherscan.io/accounts?l=ICO'"
      ]
     },
     "execution_count": 37,
     "metadata": {},
     "output_type": "execute_result"
    },
    {
     "data": {
      "text/plain": [
       "'https://etherscan.io/accounts?l=Loans'"
      ]
     },
     "execution_count": 37,
     "metadata": {},
     "output_type": "execute_result"
    },
    {
     "data": {
      "text/plain": [
       "'https://etherscan.io/accounts?l=Maker'"
      ]
     },
     "execution_count": 37,
     "metadata": {},
     "output_type": "execute_result"
    },
    {
     "data": {
      "text/plain": [
       "'https://etherscan.io/accounts?l=Marketplace'"
      ]
     },
     "execution_count": 37,
     "metadata": {},
     "output_type": "execute_result"
    },
    {
     "data": {
      "text/plain": [
       "'https://etherscan.io/accounts?l=Media'"
      ]
     },
     "execution_count": 37,
     "metadata": {},
     "output_type": "execute_result"
    },
    {
     "data": {
      "text/plain": [
       "'https://etherscan.io/accounts?l=Melon'"
      ]
     },
     "execution_count": 37,
     "metadata": {},
     "output_type": "execute_result"
    },
    {
     "data": {
      "text/plain": [
       "'https://etherscan.io/accounts?l=Mining'"
      ]
     },
     "execution_count": 37,
     "metadata": {},
     "output_type": "execute_result"
    },
    {
     "data": {
      "text/plain": [
       "'https://etherscan.io/accounts?l=Music'"
      ]
     },
     "execution_count": 37,
     "metadata": {},
     "output_type": "execute_result"
    },
    {
     "data": {
      "text/plain": [
       "'https://etherscan.io/accounts?l=NFT'"
      ]
     },
     "execution_count": 37,
     "metadata": {},
     "output_type": "execute_result"
    },
    {
     "data": {
      "text/plain": [
       "'https://etherscan.io/accounts?l=OTC'"
      ]
     },
     "execution_count": 37,
     "metadata": {},
     "output_type": "execute_result"
    },
    {
     "data": {
      "text/plain": [
       "'https://etherscan.io/accounts?l=Others'"
      ]
     },
     "execution_count": 37,
     "metadata": {},
     "output_type": "execute_result"
    },
    {
     "data": {
      "text/plain": [
       "'https://etherscan.io/accounts?l=Parity'"
      ]
     },
     "execution_count": 37,
     "metadata": {},
     "output_type": "execute_result"
    },
    {
     "data": {
      "text/plain": [
       "'https://etherscan.io/accounts?l=Phish'"
      ]
     },
     "execution_count": 37,
     "metadata": {},
     "output_type": "execute_result"
    },
    {
     "data": {
      "text/plain": [
       "'https://etherscan.io/accounts?l=Poloniex'"
      ]
     },
     "execution_count": 37,
     "metadata": {},
     "output_type": "execute_result"
    },
    {
     "data": {
      "text/plain": [
       "'https://etherscan.io/accounts?l=Prediction'"
      ]
     },
     "execution_count": 37,
     "metadata": {},
     "output_type": "execute_result"
    },
    {
     "data": {
      "text/plain": [
       "'https://etherscan.io/accounts?l=Research'"
      ]
     },
     "execution_count": 37,
     "metadata": {},
     "output_type": "execute_result"
    },
    {
     "data": {
      "text/plain": [
       "'https://etherscan.io/accounts?l=Spam'"
      ]
     },
     "execution_count": 37,
     "metadata": {},
     "output_type": "execute_result"
    },
    {
     "data": {
      "text/plain": [
       "'https://etherscan.io/accounts?l=Stablecoin'"
      ]
     },
     "execution_count": 37,
     "metadata": {},
     "output_type": "execute_result"
    },
    {
     "data": {
      "text/plain": [
       "'https://etherscan.io/accounts?l=Token'"
      ]
     },
     "execution_count": 37,
     "metadata": {},
     "output_type": "execute_result"
    },
    {
     "data": {
      "text/plain": [
       "'https://etherscan.io/accounts?l=Token'"
      ]
     },
     "execution_count": 37,
     "metadata": {},
     "output_type": "execute_result"
    },
    {
     "data": {
      "text/plain": [
       "'https://etherscan.io/accounts?l=Trading'"
      ]
     },
     "execution_count": 37,
     "metadata": {},
     "output_type": "execute_result"
    },
    {
     "data": {
      "text/plain": [
       "'https://etherscan.io/accounts?l=Wallet'"
      ]
     },
     "execution_count": 37,
     "metadata": {},
     "output_type": "execute_result"
    },
    {
     "data": {
      "text/plain": [
       "'https://etherscan.io/accounts?l=White'"
      ]
     },
     "execution_count": 37,
     "metadata": {},
     "output_type": "execute_result"
    },
    {
     "data": {
      "text/plain": [
       "'https://etherscan.io/accounts?l=Zethr'"
      ]
     },
     "execution_count": 37,
     "metadata": {},
     "output_type": "execute_result"
    },
    {
     "data": {
      "text/plain": [
       "'https://etherscan.io/tokens?l=0x'"
      ]
     },
     "execution_count": 37,
     "metadata": {},
     "output_type": "execute_result"
    },
    {
     "data": {
      "text/plain": [
       "'https://etherscan.io/tokens?l=0xUniverse'"
      ]
     },
     "execution_count": 37,
     "metadata": {},
     "output_type": "execute_result"
    },
    {
     "data": {
      "text/plain": [
       "'https://etherscan.io/tokens?l=Adult'"
      ]
     },
     "execution_count": 37,
     "metadata": {},
     "output_type": "execute_result"
    },
    {
     "data": {
      "text/plain": [
       "'https://etherscan.io/tokens?l=Advertising'"
      ]
     },
     "execution_count": 37,
     "metadata": {},
     "output_type": "execute_result"
    },
    {
     "data": {
      "text/plain": [
       "'https://etherscan.io/tokens?l=Agriculture'"
      ]
     },
     "execution_count": 37,
     "metadata": {},
     "output_type": "execute_result"
    },
    {
     "data": {
      "text/plain": [
       "'https://etherscan.io/tokens?l=Analytics'"
      ]
     },
     "execution_count": 37,
     "metadata": {},
     "output_type": "execute_result"
    },
    {
     "data": {
      "text/plain": [
       "'https://etherscan.io/tokens?l=Art'"
      ]
     },
     "execution_count": 37,
     "metadata": {},
     "output_type": "execute_result"
    },
    {
     "data": {
      "text/plain": [
       "'https://etherscan.io/tokens?l=Artificial'"
      ]
     },
     "execution_count": 37,
     "metadata": {},
     "output_type": "execute_result"
    },
    {
     "data": {
      "text/plain": [
       "'https://etherscan.io/tokens?l=Asset'"
      ]
     },
     "execution_count": 37,
     "metadata": {},
     "output_type": "execute_result"
    },
    {
     "data": {
      "text/plain": [
       "'https://etherscan.io/tokens?l=Authentication'"
      ]
     },
     "execution_count": 37,
     "metadata": {},
     "output_type": "execute_result"
    },
    {
     "data": {
      "text/plain": [
       "'https://etherscan.io/tokens?l=Aviation'"
      ]
     },
     "execution_count": 37,
     "metadata": {},
     "output_type": "execute_result"
    },
    {
     "data": {
      "text/plain": [
       "'https://etherscan.io/tokens?l=Bancor'"
      ]
     },
     "execution_count": 37,
     "metadata": {},
     "output_type": "execute_result"
    },
    {
     "data": {
      "text/plain": [
       "'https://etherscan.io/tokens?l=Banking'"
      ]
     },
     "execution_count": 37,
     "metadata": {},
     "output_type": "execute_result"
    },
    {
     "data": {
      "text/plain": [
       "'https://etherscan.io/tokens?l=Basic'"
      ]
     },
     "execution_count": 37,
     "metadata": {},
     "output_type": "execute_result"
    },
    {
     "data": {
      "text/plain": [
       "'https://etherscan.io/tokens?l=Beauty'"
      ]
     },
     "execution_count": 37,
     "metadata": {},
     "output_type": "execute_result"
    },
    {
     "data": {
      "text/plain": [
       "'https://etherscan.io/tokens?l=Binance'"
      ]
     },
     "execution_count": 37,
     "metadata": {},
     "output_type": "execute_result"
    },
    {
     "data": {
      "text/plain": [
       "'https://etherscan.io/tokens?l=Blockchain'"
      ]
     },
     "execution_count": 37,
     "metadata": {},
     "output_type": "execute_result"
    },
    {
     "data": {
      "text/plain": [
       "'https://etherscan.io/tokens?l=Blockchain'"
      ]
     },
     "execution_count": 37,
     "metadata": {},
     "output_type": "execute_result"
    },
    {
     "data": {
      "text/plain": [
       "'https://etherscan.io/tokens?l=Charity'"
      ]
     },
     "execution_count": 37,
     "metadata": {},
     "output_type": "execute_result"
    },
    {
     "data": {
      "text/plain": [
       "'https://etherscan.io/tokens?l=China'"
      ]
     },
     "execution_count": 37,
     "metadata": {},
     "output_type": "execute_result"
    },
    {
     "data": {
      "text/plain": [
       "'https://etherscan.io/tokens?l=Cloud'"
      ]
     },
     "execution_count": 37,
     "metadata": {},
     "output_type": "execute_result"
    },
    {
     "data": {
      "text/plain": [
       "'https://etherscan.io/tokens?l=Collaboration'"
      ]
     },
     "execution_count": 37,
     "metadata": {},
     "output_type": "execute_result"
    },
    {
     "data": {
      "text/plain": [
       "'https://etherscan.io/tokens?l=Collectibles'"
      ]
     },
     "execution_count": 37,
     "metadata": {},
     "output_type": "execute_result"
    },
    {
     "data": {
      "text/plain": [
       "'https://etherscan.io/tokens?l=Commodity'"
      ]
     },
     "execution_count": 37,
     "metadata": {},
     "output_type": "execute_result"
    },
    {
     "data": {
      "text/plain": [
       "'https://etherscan.io/tokens?l=Compromised'"
      ]
     },
     "execution_count": 37,
     "metadata": {},
     "output_type": "execute_result"
    },
    {
     "data": {
      "text/plain": [
       "'https://etherscan.io/tokens?l=Computing'"
      ]
     },
     "execution_count": 37,
     "metadata": {},
     "output_type": "execute_result"
    },
    {
     "data": {
      "text/plain": [
       "'https://etherscan.io/tokens?l=Crowdfunding'"
      ]
     },
     "execution_count": 37,
     "metadata": {},
     "output_type": "execute_result"
    },
    {
     "data": {
      "text/plain": [
       "'https://etherscan.io/tokens?l=Crypto'"
      ]
     },
     "execution_count": 37,
     "metadata": {},
     "output_type": "execute_result"
    },
    {
     "data": {
      "text/plain": [
       "'https://etherscan.io/tokens?l=CryptoKitties'"
      ]
     },
     "execution_count": 37,
     "metadata": {},
     "output_type": "execute_result"
    },
    {
     "data": {
      "text/plain": [
       "'https://etherscan.io/tokens?l=Currency'"
      ]
     },
     "execution_count": 37,
     "metadata": {},
     "output_type": "execute_result"
    },
    {
     "data": {
      "text/plain": [
       "'https://etherscan.io/tokens?l=DAO'"
      ]
     },
     "execution_count": 37,
     "metadata": {},
     "output_type": "execute_result"
    },
    {
     "data": {
      "text/plain": [
       "'https://etherscan.io/tokens?l=Data'"
      ]
     },
     "execution_count": 37,
     "metadata": {},
     "output_type": "execute_result"
    },
    {
     "data": {
      "text/plain": [
       "'https://etherscan.io/tokens?l=Dating'"
      ]
     },
     "execution_count": 37,
     "metadata": {},
     "output_type": "execute_result"
    },
    {
     "data": {
      "text/plain": [
       "'https://etherscan.io/tokens?l=Decentralized'"
      ]
     },
     "execution_count": 37,
     "metadata": {},
     "output_type": "execute_result"
    },
    {
     "data": {
      "text/plain": [
       "'https://etherscan.io/tokens?l=Dex'"
      ]
     },
     "execution_count": 37,
     "metadata": {},
     "output_type": "execute_result"
    },
    {
     "data": {
      "text/plain": [
       "'https://etherscan.io/tokens?l=Diamonds'"
      ]
     },
     "execution_count": 37,
     "metadata": {},
     "output_type": "execute_result"
    },
    {
     "data": {
      "text/plain": [
       "'https://etherscan.io/tokens?l=Donate'"
      ]
     },
     "execution_count": 37,
     "metadata": {},
     "output_type": "execute_result"
    },
    {
     "data": {
      "text/plain": [
       "'https://etherscan.io/tokens?l=E'"
      ]
     },
     "execution_count": 37,
     "metadata": {},
     "output_type": "execute_result"
    },
    {
     "data": {
      "text/plain": [
       "'https://etherscan.io/tokens?l=Education'"
      ]
     },
     "execution_count": 37,
     "metadata": {},
     "output_type": "execute_result"
    },
    {
     "data": {
      "text/plain": [
       "'https://etherscan.io/tokens?l=Electricity'"
      ]
     },
     "execution_count": 37,
     "metadata": {},
     "output_type": "execute_result"
    },
    {
     "data": {
      "text/plain": [
       "'https://etherscan.io/tokens?l=Electronics'"
      ]
     },
     "execution_count": 37,
     "metadata": {},
     "output_type": "execute_result"
    },
    {
     "data": {
      "text/plain": [
       "'https://etherscan.io/tokens?l=Email'"
      ]
     },
     "execution_count": 37,
     "metadata": {},
     "output_type": "execute_result"
    },
    {
     "data": {
      "text/plain": [
       "'https://etherscan.io/tokens?l=Energy'"
      ]
     },
     "execution_count": 37,
     "metadata": {},
     "output_type": "execute_result"
    },
    {
     "data": {
      "text/plain": [
       "'https://etherscan.io/tokens?l=Entertainment'"
      ]
     },
     "execution_count": 37,
     "metadata": {},
     "output_type": "execute_result"
    },
    {
     "data": {
      "text/plain": [
       "'https://etherscan.io/tokens?l=Escrow'"
      ]
     },
     "execution_count": 37,
     "metadata": {},
     "output_type": "execute_result"
    },
    {
     "data": {
      "text/plain": [
       "'https://etherscan.io/tokens?l=Etheremon'"
      ]
     },
     "execution_count": 37,
     "metadata": {},
     "output_type": "execute_result"
    },
    {
     "data": {
      "text/plain": [
       "'https://etherscan.io/tokens?l=Ethereum'"
      ]
     },
     "execution_count": 37,
     "metadata": {},
     "output_type": "execute_result"
    },
    {
     "data": {
      "text/plain": [
       "'https://etherscan.io/tokens?l=Etheroll'"
      ]
     },
     "execution_count": 37,
     "metadata": {},
     "output_type": "execute_result"
    },
    {
     "data": {
      "text/plain": [
       "'https://etherscan.io/tokens?l=Events'"
      ]
     },
     "execution_count": 37,
     "metadata": {},
     "output_type": "execute_result"
    },
    {
     "data": {
      "text/plain": [
       "'https://etherscan.io/tokens?l=Exchange'"
      ]
     },
     "execution_count": 37,
     "metadata": {},
     "output_type": "execute_result"
    },
    {
     "data": {
      "text/plain": [
       "'https://etherscan.io/tokens?l=Fashion'"
      ]
     },
     "execution_count": 37,
     "metadata": {},
     "output_type": "execute_result"
    },
    {
     "data": {
      "text/plain": [
       "'https://etherscan.io/tokens?l=Fiat'"
      ]
     },
     "execution_count": 37,
     "metadata": {},
     "output_type": "execute_result"
    },
    {
     "data": {
      "text/plain": [
       "'https://etherscan.io/tokens?l=Finance'"
      ]
     },
     "execution_count": 37,
     "metadata": {},
     "output_type": "execute_result"
    },
    {
     "data": {
      "text/plain": [
       "'https://etherscan.io/tokens?l=Freelance'"
      ]
     },
     "execution_count": 37,
     "metadata": {},
     "output_type": "execute_result"
    },
    {
     "data": {
      "text/plain": [
       "'https://etherscan.io/tokens?l=Fund'"
      ]
     },
     "execution_count": 37,
     "metadata": {},
     "output_type": "execute_result"
    },
    {
     "data": {
      "text/plain": [
       "'https://etherscan.io/tokens?l=Gambling'"
      ]
     },
     "execution_count": 37,
     "metadata": {},
     "output_type": "execute_result"
    },
    {
     "data": {
      "text/plain": [
       "'https://etherscan.io/tokens?l=Gaming'"
      ]
     },
     "execution_count": 37,
     "metadata": {},
     "output_type": "execute_result"
    },
    {
     "data": {
      "text/plain": [
       "'https://etherscan.io/tokens?l=Gas'"
      ]
     },
     "execution_count": 37,
     "metadata": {},
     "output_type": "execute_result"
    },
    {
     "data": {
      "text/plain": [
       "'https://etherscan.io/tokens?l=Gods'"
      ]
     },
     "execution_count": 37,
     "metadata": {},
     "output_type": "execute_result"
    },
    {
     "data": {
      "text/plain": [
       "'https://etherscan.io/tokens?l=Gold'"
      ]
     },
     "execution_count": 37,
     "metadata": {},
     "output_type": "execute_result"
    },
    {
     "data": {
      "text/plain": [
       "'https://etherscan.io/tokens?l=Havven'"
      ]
     },
     "execution_count": 37,
     "metadata": {},
     "output_type": "execute_result"
    },
    {
     "data": {
      "text/plain": [
       "'https://etherscan.io/tokens?l=Healthcare'"
      ]
     },
     "execution_count": 37,
     "metadata": {},
     "output_type": "execute_result"
    },
    {
     "data": {
      "text/plain": [
       "'https://etherscan.io/tokens?l=Hotel'"
      ]
     },
     "execution_count": 37,
     "metadata": {},
     "output_type": "execute_result"
    },
    {
     "data": {
      "text/plain": [
       "'https://etherscan.io/tokens?l=HR'"
      ]
     },
     "execution_count": 37,
     "metadata": {},
     "output_type": "execute_result"
    },
    {
     "data": {
      "text/plain": [
       "'https://etherscan.io/tokens?l=Hyper'"
      ]
     },
     "execution_count": 37,
     "metadata": {},
     "output_type": "execute_result"
    },
    {
     "data": {
      "text/plain": [
       "'https://etherscan.io/tokens?l=Identity'"
      ]
     },
     "execution_count": 37,
     "metadata": {},
     "output_type": "execute_result"
    },
    {
     "data": {
      "text/plain": [
       "'https://etherscan.io/tokens?l=Incubator'"
      ]
     },
     "execution_count": 37,
     "metadata": {},
     "output_type": "execute_result"
    },
    {
     "data": {
      "text/plain": [
       "'https://etherscan.io/tokens?l=Insurance'"
      ]
     },
     "execution_count": 37,
     "metadata": {},
     "output_type": "execute_result"
    },
    {
     "data": {
      "text/plain": [
       "'https://etherscan.io/tokens?l=Investment'"
      ]
     },
     "execution_count": 37,
     "metadata": {},
     "output_type": "execute_result"
    },
    {
     "data": {
      "text/plain": [
       "'https://etherscan.io/tokens?l=Invoice'"
      ]
     },
     "execution_count": 37,
     "metadata": {},
     "output_type": "execute_result"
    },
    {
     "data": {
      "text/plain": [
       "'https://etherscan.io/tokens?l=IoT'"
      ]
     },
     "execution_count": 37,
     "metadata": {},
     "output_type": "execute_result"
    },
    {
     "data": {
      "text/plain": [
       "'https://etherscan.io/tokens?l=Knowledge'"
      ]
     },
     "execution_count": 37,
     "metadata": {},
     "output_type": "execute_result"
    },
    {
     "data": {
      "text/plain": [
       "'https://etherscan.io/tokens?l=Land'"
      ]
     },
     "execution_count": 37,
     "metadata": {},
     "output_type": "execute_result"
    },
    {
     "data": {
      "text/plain": [
       "'https://etherscan.io/tokens?l=Liquidity'"
      ]
     },
     "execution_count": 37,
     "metadata": {},
     "output_type": "execute_result"
    },
    {
     "data": {
      "text/plain": [
       "'https://etherscan.io/tokens?l=Loans'"
      ]
     },
     "execution_count": 37,
     "metadata": {},
     "output_type": "execute_result"
    },
    {
     "data": {
      "text/plain": [
       "'https://etherscan.io/tokens?l=Logistics'"
      ]
     },
     "execution_count": 37,
     "metadata": {},
     "output_type": "execute_result"
    },
    {
     "data": {
      "text/plain": [
       "'https://etherscan.io/tokens?l=Loyalty'"
      ]
     },
     "execution_count": 37,
     "metadata": {},
     "output_type": "execute_result"
    },
    {
     "data": {
      "text/plain": [
       "'https://etherscan.io/tokens?l=Maker'"
      ]
     },
     "execution_count": 37,
     "metadata": {},
     "output_type": "execute_result"
    },
    {
     "data": {
      "text/plain": [
       "'https://etherscan.io/tokens?l=Manufacturing'"
      ]
     },
     "execution_count": 37,
     "metadata": {},
     "output_type": "execute_result"
    },
    {
     "data": {
      "text/plain": [
       "'https://etherscan.io/tokens?l=Marketing'"
      ]
     },
     "execution_count": 37,
     "metadata": {},
     "output_type": "execute_result"
    },
    {
     "data": {
      "text/plain": [
       "'https://etherscan.io/tokens?l=Marketplace'"
      ]
     },
     "execution_count": 37,
     "metadata": {},
     "output_type": "execute_result"
    },
    {
     "data": {
      "text/plain": [
       "'https://etherscan.io/tokens?l=Masternode'"
      ]
     },
     "execution_count": 37,
     "metadata": {},
     "output_type": "execute_result"
    },
    {
     "data": {
      "text/plain": [
       "'https://etherscan.io/tokens?l=Media'"
      ]
     },
     "execution_count": 37,
     "metadata": {},
     "output_type": "execute_result"
    },
    {
     "data": {
      "text/plain": [
       "'https://etherscan.io/tokens?l=Melon'"
      ]
     },
     "execution_count": 37,
     "metadata": {},
     "output_type": "execute_result"
    },
    {
     "data": {
      "text/plain": [
       "'https://etherscan.io/tokens?l=Microtasking'"
      ]
     },
     "execution_count": 37,
     "metadata": {},
     "output_type": "execute_result"
    },
    {
     "data": {
      "text/plain": [
       "'https://etherscan.io/tokens?l=Mining'"
      ]
     },
     "execution_count": 37,
     "metadata": {},
     "output_type": "execute_result"
    },
    {
     "data": {
      "text/plain": [
       "'https://etherscan.io/tokens?l=Mobile'"
      ]
     },
     "execution_count": 37,
     "metadata": {},
     "output_type": "execute_result"
    },
    {
     "data": {
      "text/plain": [
       "'https://etherscan.io/tokens?l=Movie'"
      ]
     },
     "execution_count": 37,
     "metadata": {},
     "output_type": "execute_result"
    },
    {
     "data": {
      "text/plain": [
       "'https://etherscan.io/tokens?l=Music'"
      ]
     },
     "execution_count": 37,
     "metadata": {},
     "output_type": "execute_result"
    },
    {
     "data": {
      "text/plain": [
       "'https://etherscan.io/tokens?l=News'"
      ]
     },
     "execution_count": 37,
     "metadata": {},
     "output_type": "execute_result"
    },
    {
     "data": {
      "text/plain": [
       "'https://etherscan.io/tokens?l=NFT'"
      ]
     },
     "execution_count": 37,
     "metadata": {},
     "output_type": "execute_result"
    },
    {
     "data": {
      "text/plain": [
       "'https://etherscan.io/tokens?l=Off'"
      ]
     },
     "execution_count": 37,
     "metadata": {},
     "output_type": "execute_result"
    },
    {
     "data": {
      "text/plain": [
       "'https://etherscan.io/tokens?l=Oil'"
      ]
     },
     "execution_count": 37,
     "metadata": {},
     "output_type": "execute_result"
    },
    {
     "data": {
      "text/plain": [
       "'https://etherscan.io/tokens?l=Options'"
      ]
     },
     "execution_count": 37,
     "metadata": {},
     "output_type": "execute_result"
    },
    {
     "data": {
      "text/plain": [
       "'https://etherscan.io/tokens?l=OTC'"
      ]
     },
     "execution_count": 37,
     "metadata": {},
     "output_type": "execute_result"
    },
    {
     "data": {
      "text/plain": [
       "'https://etherscan.io/tokens?l=Others'"
      ]
     },
     "execution_count": 37,
     "metadata": {},
     "output_type": "execute_result"
    },
    {
     "data": {
      "text/plain": [
       "'https://etherscan.io/tokens?l=Payment'"
      ]
     },
     "execution_count": 37,
     "metadata": {},
     "output_type": "execute_result"
    },
    {
     "data": {
      "text/plain": [
       "'https://etherscan.io/tokens?l=Phish'"
      ]
     },
     "execution_count": 37,
     "metadata": {},
     "output_type": "execute_result"
    },
    {
     "data": {
      "text/plain": [
       "'https://etherscan.io/tokens?l=Platform'"
      ]
     },
     "execution_count": 37,
     "metadata": {},
     "output_type": "execute_result"
    },
    {
     "data": {
      "text/plain": [
       "'https://etherscan.io/tokens?l=Portfolio'"
      ]
     },
     "execution_count": 37,
     "metadata": {},
     "output_type": "execute_result"
    },
    {
     "data": {
      "text/plain": [
       "'https://etherscan.io/tokens?l=POS'"
      ]
     },
     "execution_count": 37,
     "metadata": {},
     "output_type": "execute_result"
    },
    {
     "data": {
      "text/plain": [
       "'https://etherscan.io/tokens?l=Prediction'"
      ]
     },
     "execution_count": 37,
     "metadata": {},
     "output_type": "execute_result"
    },
    {
     "data": {
      "text/plain": [
       "'https://etherscan.io/tokens?l=Protocol'"
      ]
     },
     "execution_count": 37,
     "metadata": {},
     "output_type": "execute_result"
    },
    {
     "data": {
      "text/plain": [
       "'https://etherscan.io/tokens?l=Radio'"
      ]
     },
     "execution_count": 37,
     "metadata": {},
     "output_type": "execute_result"
    },
    {
     "data": {
      "text/plain": [
       "'https://etherscan.io/tokens?l=Rating'"
      ]
     },
     "execution_count": 37,
     "metadata": {},
     "output_type": "execute_result"
    },
    {
     "data": {
      "text/plain": [
       "'https://etherscan.io/tokens?l=Real'"
      ]
     },
     "execution_count": 37,
     "metadata": {},
     "output_type": "execute_result"
    },
    {
     "data": {
      "text/plain": [
       "'https://etherscan.io/tokens?l=Remittance'"
      ]
     },
     "execution_count": 37,
     "metadata": {},
     "output_type": "execute_result"
    },
    {
     "data": {
      "text/plain": [
       "'https://etherscan.io/tokens?l=Rent'"
      ]
     },
     "execution_count": 37,
     "metadata": {},
     "output_type": "execute_result"
    },
    {
     "data": {
      "text/plain": [
       "'https://etherscan.io/tokens?l=Reputation'"
      ]
     },
     "execution_count": 37,
     "metadata": {},
     "output_type": "execute_result"
    },
    {
     "data": {
      "text/plain": [
       "'https://etherscan.io/tokens?l=Retail'"
      ]
     },
     "execution_count": 37,
     "metadata": {},
     "output_type": "execute_result"
    },
    {
     "data": {
      "text/plain": [
       "'https://etherscan.io/tokens?l=Ridesharing'"
      ]
     },
     "execution_count": 37,
     "metadata": {},
     "output_type": "execute_result"
    },
    {
     "data": {
      "text/plain": [
       "'https://etherscan.io/tokens?l=Security'"
      ]
     },
     "execution_count": 37,
     "metadata": {},
     "output_type": "execute_result"
    },
    {
     "data": {
      "text/plain": [
       "'https://etherscan.io/tokens?l=Security'"
      ]
     },
     "execution_count": 37,
     "metadata": {},
     "output_type": "execute_result"
    },
    {
     "data": {
      "text/plain": [
       "'https://etherscan.io/tokens?l=Services'"
      ]
     },
     "execution_count": 37,
     "metadata": {},
     "output_type": "execute_result"
    },
    {
     "data": {
      "text/plain": [
       "'https://etherscan.io/tokens?l=Sharing'"
      ]
     },
     "execution_count": 37,
     "metadata": {},
     "output_type": "execute_result"
    },
    {
     "data": {
      "text/plain": [
       "'https://etherscan.io/tokens?l=Shipping'"
      ]
     },
     "execution_count": 37,
     "metadata": {},
     "output_type": "execute_result"
    },
    {
     "data": {
      "text/plain": [
       "'https://etherscan.io/tokens?l=Smart'"
      ]
     },
     "execution_count": 37,
     "metadata": {},
     "output_type": "execute_result"
    },
    {
     "data": {
      "text/plain": [
       "'https://etherscan.io/tokens?l=Social'"
      ]
     },
     "execution_count": 37,
     "metadata": {},
     "output_type": "execute_result"
    },
    {
     "data": {
      "text/plain": [
       "'https://etherscan.io/tokens?l=Software'"
      ]
     },
     "execution_count": 37,
     "metadata": {},
     "output_type": "execute_result"
    },
    {
     "data": {
      "text/plain": [
       "'https://etherscan.io/tokens?l=Spam'"
      ]
     },
     "execution_count": 37,
     "metadata": {},
     "output_type": "execute_result"
    },
    {
     "data": {
      "text/plain": [
       "'https://etherscan.io/tokens?l=Sports'"
      ]
     },
     "execution_count": 37,
     "metadata": {},
     "output_type": "execute_result"
    },
    {
     "data": {
      "text/plain": [
       "'https://etherscan.io/tokens?l=Stablecoin'"
      ]
     },
     "execution_count": 37,
     "metadata": {},
     "output_type": "execute_result"
    },
    {
     "data": {
      "text/plain": [
       "'https://etherscan.io/tokens?l=Storage'"
      ]
     },
     "execution_count": 37,
     "metadata": {},
     "output_type": "execute_result"
    },
    {
     "data": {
      "text/plain": [
       "'https://etherscan.io/tokens?l=Supply'"
      ]
     },
     "execution_count": 37,
     "metadata": {},
     "output_type": "execute_result"
    },
    {
     "data": {
      "text/plain": [
       "'https://etherscan.io/tokens?l=Surveillance'"
      ]
     },
     "execution_count": 37,
     "metadata": {},
     "output_type": "execute_result"
    },
    {
     "data": {
      "text/plain": [
       "'https://etherscan.io/tokens?l=Telecommunications'"
      ]
     },
     "execution_count": 37,
     "metadata": {},
     "output_type": "execute_result"
    },
    {
     "data": {
      "text/plain": [
       "'https://etherscan.io/tokens?l=Ticketing'"
      ]
     },
     "execution_count": 37,
     "metadata": {},
     "output_type": "execute_result"
    },
    {
     "data": {
      "text/plain": [
       "'https://etherscan.io/tokens?l=Token'"
      ]
     },
     "execution_count": 37,
     "metadata": {},
     "output_type": "execute_result"
    },
    {
     "data": {
      "text/plain": [
       "'https://etherscan.io/tokens?l=Tokenized'"
      ]
     },
     "execution_count": 37,
     "metadata": {},
     "output_type": "execute_result"
    },
    {
     "data": {
      "text/plain": [
       "'https://etherscan.io/tokens?l=Tools'"
      ]
     },
     "execution_count": 37,
     "metadata": {},
     "output_type": "execute_result"
    },
    {
     "data": {
      "text/plain": [
       "'https://etherscan.io/tokens?l=Trading'"
      ]
     },
     "execution_count": 37,
     "metadata": {},
     "output_type": "execute_result"
    },
    {
     "data": {
      "text/plain": [
       "'https://etherscan.io/tokens?l=Transportation'"
      ]
     },
     "execution_count": 37,
     "metadata": {},
     "output_type": "execute_result"
    },
    {
     "data": {
      "text/plain": [
       "'https://etherscan.io/tokens?l=Travel'"
      ]
     },
     "execution_count": 37,
     "metadata": {},
     "output_type": "execute_result"
    },
    {
     "data": {
      "text/plain": [
       "'https://etherscan.io/tokens?l=Vehicle'"
      ]
     },
     "execution_count": 37,
     "metadata": {},
     "output_type": "execute_result"
    },
    {
     "data": {
      "text/plain": [
       "'https://etherscan.io/tokens?l=Video'"
      ]
     },
     "execution_count": 37,
     "metadata": {},
     "output_type": "execute_result"
    },
    {
     "data": {
      "text/plain": [
       "'https://etherscan.io/tokens?l=VPN'"
      ]
     },
     "execution_count": 37,
     "metadata": {},
     "output_type": "execute_result"
    },
    {
     "data": {
      "text/plain": [
       "'https://etherscan.io/tokens?l=VR'"
      ]
     },
     "execution_count": 37,
     "metadata": {},
     "output_type": "execute_result"
    },
    {
     "data": {
      "text/plain": [
       "'https://etherscan.io/tokens?l=Wallet'"
      ]
     },
     "execution_count": 37,
     "metadata": {},
     "output_type": "execute_result"
    },
    {
     "data": {
      "text/plain": [
       "'https://etherscan.io/tokens?l=Wi'"
      ]
     },
     "execution_count": 37,
     "metadata": {},
     "output_type": "execute_result"
    }
   ],
   "source": [
    "#set up request\n",
    "for link in links_list_final:\n",
    "    address_list_final = []\n",
    "    base_url + link\n",
    "    response = requests.get(base_url+link,) #Open a new web-request\n",
    "    data = response.text #Read the HTML source-code out of the webpage data\n",
    "    address_list = re.findall(r\"address/\\w{0,42}\", data)\n",
    "    for string in address_list:  \n",
    "        address_list_final.append(string.replace(\"address/\", \"\"))\n",
    "    link = link.replace(\"/accounts?l=\", \"\")\n",
    "    all_address_dict[link] = address_list_final\n",
    "    time.sleep(1)"
   ]
  },
  {
   "cell_type": "code",
   "execution_count": 38,
   "metadata": {},
   "outputs": [
    {
     "data": {
      "text/plain": [
       "{'0x': ['0x35bfd2cfe27ef7af2029d584b9b6c2ca27d9b3c7',\n",
       "  '0xcc70db1ac810677c06d9cc1cdd8c953b12edd3fa',\n",
       "  '0xcc70db1ac810677c06d9cc1cdd8c953b12edd3fa',\n",
       "  '0xcb52c65c53ec7e6f029504c895049a8fb80391cd',\n",
       "  '0x71c7656ec7ab88b098defb751b7401b5f6d8976f'],\n",
       " '0xUniverse': ['0x06a6a7af298129e3a2ab396c9c06f91d3c54aba8',\n",
       "  '0xe73480759efb6731d133b382ab8df02774e3a265',\n",
       "  '0xf91d60c576fc809bea7a08d45ee3d6d77fbf5ff7',\n",
       "  '0xe658e6eb4b478da2cf36d9e3712ba0c1b33786a1',\n",
       "  '0xa36a81e47d032cb5608175cf884d079ff7b2fb42',\n",
       "  '0x28fbe46d43ae10f0afe84e393368b891a3de98ea',\n",
       "  '0x35bfd2cfe27ef7af2029d584b9b6c2ca27d9b3c7',\n",
       "  '0xcc70db1ac810677c06d9cc1cdd8c953b12edd3fa',\n",
       "  '0xcc70db1ac810677c06d9cc1cdd8c953b12edd3fa',\n",
       "  '0xcb52c65c53ec7e6f029504c895049a8fb80391cd',\n",
       "  '0x71c7656ec7ab88b098defb751b7401b5f6d8976f'],\n",
       " 'Advertising': ['0xac4fd2d9ce342bc6fdc7e0ce539f365e4ec1fe4a',\n",
       "  '0x35bfd2cfe27ef7af2029d584b9b6c2ca27d9b3c7',\n",
       "  '0xcc70db1ac810677c06d9cc1cdd8c953b12edd3fa',\n",
       "  '0xcc70db1ac810677c06d9cc1cdd8c953b12edd3fa',\n",
       "  '0xcb52c65c53ec7e6f029504c895049a8fb80391cd',\n",
       "  '0x71c7656ec7ab88b098defb751b7401b5f6d8976f'],\n",
       " 'Bancor': ['0x1f573d6fb3f13d689ff844b4ce37794d79a7ff1c',\n",
       "  '0x77a77eca75445841875ebb67a33d0a97dc34d924',\n",
       "  '0xca83bd8c4c7b1c0409b25fbd7e70b1ef57629ff4',\n",
       "  '0x3839416bd0095d97be9b354cbfb0f6807d4d609e',\n",
       "  '0x079cf5c7b29067708bf653fbb93d7f619d9287a9',\n",
       "  '0x7bac8115f3789f4d7a3bfe241eb1bcb4d7f71665',\n",
       "  '0xa6f89e1d3de44691ef031706e13c1ad091fd60f6',\n",
       "  '0x38a3fc625df834dd34e8ede60e10cd3024a6650e',\n",
       "  '0xc11cce040583640001f5a7e945dfd82f662cc0ae',\n",
       "  '0xef21c67740da0b286ab3a431f1dd5409a41eff2d',\n",
       "  '0xd0c1bdb51514f144f11169140d408c26bd89f9e5',\n",
       "  '0x6c722b811ea96f2ea89436aeea70a3bcd91f669b',\n",
       "  '0x8cfcd76160a695303ec6f8dfacaa347fd6ae6f6f',\n",
       "  '0x0c41f4e6339e9c8635062f39d976789dbd832b09',\n",
       "  '0xaa8cec9cbd7d051ba86d9deff1ec0775bd4b13c5',\n",
       "  '0xedcc9346d266c78364f21b1aca88641be7ca73e1',\n",
       "  '0x3b0116363e435d9e4ef24eca6282a21b7cc662df',\n",
       "  '0x46ffcdc6d8e6ed69f124d944bbfe0ac74f8fcf7f',\n",
       "  '0xc02d4bd00f642d2821e4279c810dd7b6e49264f8',\n",
       "  '0x99f357f722ec3e456af0eb530c1c14a3251305ad',\n",
       "  '0x751b934e7496e437503d74d0679a45e49c0b7071',\n",
       "  '0x3167cc146d228c6977dcbada380df926b39865b1',\n",
       "  '0x5142127a6703f5fc80bf11b7b57ff68998f218e4',\n",
       "  '0x73314db8f62312e6a1fb365c3a98599119a91c74',\n",
       "  '0xc18166e01970be040d8c7761cdd1c3372ae1edf0',\n",
       "  '0x35bfd2cfe27ef7af2029d584b9b6c2ca27d9b3c7',\n",
       "  '0xcc70db1ac810677c06d9cc1cdd8c953b12edd3fa',\n",
       "  '0xcc70db1ac810677c06d9cc1cdd8c953b12edd3fa',\n",
       "  '0xcb52c65c53ec7e6f029504c895049a8fb80391cd',\n",
       "  '0x71c7656ec7ab88b098defb751b7401b5f6d8976f'],\n",
       " 'Basic': ['0x35bfd2cfe27ef7af2029d584b9b6c2ca27d9b3c7',\n",
       "  '0xcc70db1ac810677c06d9cc1cdd8c953b12edd3fa',\n",
       "  '0xcc70db1ac810677c06d9cc1cdd8c953b12edd3fa',\n",
       "  '0xcb52c65c53ec7e6f029504c895049a8fb80391cd',\n",
       "  '0x71c7656ec7ab88b098defb751b7401b5f6d8976f'],\n",
       " 'Binance': ['0xb8c77482e45f1f44de1745f52c74426c631bdd52',\n",
       "  '0x3f5ce5fbfe3e9af3971dd833d26ba9b5c936f0be',\n",
       "  '0xd551234ae421e3bcba99a0da6d736074f22192ff',\n",
       "  '0x564286362092d8e7936f0549571a803b203aaced',\n",
       "  '0x0681d8db095565fe8a346fa0277bffde9c0edbbf',\n",
       "  '0xfe9e8709d3215310075d67e3ed32a380ccf451c8',\n",
       "  '0x4e9ce36e442e55ecd9025b9a6e0d88485d628a67',\n",
       "  '0x35bfd2cfe27ef7af2029d584b9b6c2ca27d9b3c7',\n",
       "  '0xcc70db1ac810677c06d9cc1cdd8c953b12edd3fa',\n",
       "  '0xcc70db1ac810677c06d9cc1cdd8c953b12edd3fa',\n",
       "  '0xcb52c65c53ec7e6f029504c895049a8fb80391cd',\n",
       "  '0x71c7656ec7ab88b098defb751b7401b5f6d8976f'],\n",
       " 'Blockchain': ['0x35bfd2cfe27ef7af2029d584b9b6c2ca27d9b3c7',\n",
       "  '0xcc70db1ac810677c06d9cc1cdd8c953b12edd3fa',\n",
       "  '0xcc70db1ac810677c06d9cc1cdd8c953b12edd3fa',\n",
       "  '0xcb52c65c53ec7e6f029504c895049a8fb80391cd',\n",
       "  '0x71c7656ec7ab88b098defb751b7401b5f6d8976f'],\n",
       " 'Bugs': ['0x4509008d923ef571fc1d29fd66d3135fa02f0b64',\n",
       "  '0x35bfd2cfe27ef7af2029d584b9b6c2ca27d9b3c7',\n",
       "  '0xcc70db1ac810677c06d9cc1cdd8c953b12edd3fa',\n",
       "  '0xcc70db1ac810677c06d9cc1cdd8c953b12edd3fa',\n",
       "  '0xcb52c65c53ec7e6f029504c895049a8fb80391cd',\n",
       "  '0x71c7656ec7ab88b098defb751b7401b5f6d8976f'],\n",
       " 'Collectibles': ['0x7be8076f4ea4a4ad08075c2508e481d6c946d12b',\n",
       "  '0x35bfd2cfe27ef7af2029d584b9b6c2ca27d9b3c7',\n",
       "  '0xcc70db1ac810677c06d9cc1cdd8c953b12edd3fa',\n",
       "  '0xcc70db1ac810677c06d9cc1cdd8c953b12edd3fa',\n",
       "  '0xcb52c65c53ec7e6f029504c895049a8fb80391cd',\n",
       "  '0x71c7656ec7ab88b098defb751b7401b5f6d8976f'],\n",
       " 'Compound': ['0x3fda67f7583380e67ef93072294a7fac882fd7e7',\n",
       "  '0x02557a5e05defeffd4cae6d83ea3d173b272c904',\n",
       "  '0xd25c029a607ee888bdbdbe054515e25ec6f3fff9',\n",
       "  '0x0a97f822272519d5296e21de278a86cd3ce3c96a',\n",
       "  '0x16c2a19edbc68780dfc03708bc9021ef34db2e33',\n",
       "  '0x35bfd2cfe27ef7af2029d584b9b6c2ca27d9b3c7',\n",
       "  '0xcc70db1ac810677c06d9cc1cdd8c953b12edd3fa',\n",
       "  '0xcc70db1ac810677c06d9cc1cdd8c953b12edd3fa',\n",
       "  '0xcb52c65c53ec7e6f029504c895049a8fb80391cd',\n",
       "  '0x71c7656ec7ab88b098defb751b7401b5f6d8976f'],\n",
       " 'Compromised': ['0xce9f93eb7f78fcb7e7d222c81f258535dc218d4b',\n",
       "  '0x9f82984f02f42b31f24d37799c9d63604f9a6f15',\n",
       "  '0xb3740cefcc201d5cf1fa59143976332563314d82',\n",
       "  '0xb4e63046001074b223872137174eec63a7e12cf5',\n",
       "  '0x164c2b90f83b67d897ff00899695430841e38536',\n",
       "  '0x7f379a0d99d224d487ae4751cbf261ae6037153e',\n",
       "  '0xb32db51ba30c80a21a775635c1b6d6a01754fd06',\n",
       "  '0xd74401db32ddd23127e7823887c5ca4d81631793',\n",
       "  '0x327bb6e6fff2c05e542c63b0fcfdd270734738ef',\n",
       "  '0x3b135dbf827508d8ed170548f157bdcd2dc857d3',\n",
       "  '0x6a164122d5cf7c840d26e829b46dcc4ed6c0ae48',\n",
       "  '0x2f30ff3428d62748a1d993f2cc6c9b55df40b4d7',\n",
       "  '0x80e4f014c98320eab524ae16b0aaf1603f4dc01d',\n",
       "  '0x27f706edde3ad952ef647dd67e24e38cd0803dd6',\n",
       "  '0x35bfd2cfe27ef7af2029d584b9b6c2ca27d9b3c7',\n",
       "  '0xcc70db1ac810677c06d9cc1cdd8c953b12edd3fa',\n",
       "  '0xcc70db1ac810677c06d9cc1cdd8c953b12edd3fa',\n",
       "  '0xcb52c65c53ec7e6f029504c895049a8fb80391cd',\n",
       "  '0x71c7656ec7ab88b098defb751b7401b5f6d8976f'],\n",
       " 'Crowdfunding': ['0x35bfd2cfe27ef7af2029d584b9b6c2ca27d9b3c7',\n",
       "  '0xcc70db1ac810677c06d9cc1cdd8c953b12edd3fa',\n",
       "  '0xcc70db1ac810677c06d9cc1cdd8c953b12edd3fa',\n",
       "  '0xcb52c65c53ec7e6f029504c895049a8fb80391cd',\n",
       "  '0x71c7656ec7ab88b098defb751b7401b5f6d8976f'],\n",
       " 'CryptoKitties': ['0x06012c8cf97bead5deae237070f9587f8e7a266d',\n",
       "  '0xb1690c08e213a35ed9bab7b318de14420fb57d8c',\n",
       "  '0xc7af99fe5513eb6710e6d5f44f9989da40f27f26',\n",
       "  '0x35bfd2cfe27ef7af2029d584b9b6c2ca27d9b3c7',\n",
       "  '0xcc70db1ac810677c06d9cc1cdd8c953b12edd3fa',\n",
       "  '0xcc70db1ac810677c06d9cc1cdd8c953b12edd3fa',\n",
       "  '0xcb52c65c53ec7e6f029504c895049a8fb80391cd',\n",
       "  '0x71c7656ec7ab88b098defb751b7401b5f6d8976f'],\n",
       " 'Dex': ['0x0e8ba001a821f3ce0734763d008c9d7c957f5852',\n",
       "  '0x5dd835a893734b8d556eccf87800b76dda5aedc5',\n",
       "  '0x39fbd1140cd1fc298f00c3ea64b3591de94c67e7',\n",
       "  '0xe269e891a2ec8585a378882ffa531141205e92e9',\n",
       "  '0x7600977eb9effa627d6bd0da2e5be35e11566341',\n",
       "  '0x58a5959a6c528c5d5e03f7b9e5102350e24005f1',\n",
       "  '0x4aea7cf559f67cedcad07e12ae6bc00f07e8cf65',\n",
       "  '0x8d12a197cb00d4747a1fe03395095ce2a5cc6819',\n",
       "  '0x2a0c0dbecc7e4d658f48e01e3fa353f44050c208',\n",
       "  '0xa7a7899d944fe658c4b0a1803bab2f490bd3849e',\n",
       "  '0x2cc42d1cd65af27cc999e41ef93d1a763dc821f8',\n",
       "  '0x04f062809b244e37e7fdc21d9409469c989c2342',\n",
       "  '0x4524baa98f9a3b9dec57caae7633936ef96bd708',\n",
       "  '0x14fbca95be7e99c15cc2996c6c9d841e54b79425',\n",
       "  '0xc22d5b2951db72b44cfb8089bb8cd374a3c354ea',\n",
       "  '0xd2045edc40199019e221d71c0913343f7908d0d5',\n",
       "  '0xa258b39954cef5cb142fd567a46cddb31a670124',\n",
       "  '0x55890b06f0877a01bb5349d93b202961f8e27a9b',\n",
       "  '0x0681e844593a051e2882ec897ecd5444efe19ff2',\n",
       "  '0x7219612be7036d1bfa933e16ca1246008f38c5fe',\n",
       "  '0x5e150a33ffa97a8d22f59c77ae5487b089ef62e9',\n",
       "  '0x6f7ae872e995f98fcd2a7d3ba17b7ddfb884305f',\n",
       "  '0x1ce7ae555139c5ef5a57cc8d814a867ee6ee33d8',\n",
       "  '0x35bfd2cfe27ef7af2029d584b9b6c2ca27d9b3c7',\n",
       "  '0xcc70db1ac810677c06d9cc1cdd8c953b12edd3fa',\n",
       "  '0xcc70db1ac810677c06d9cc1cdd8c953b12edd3fa',\n",
       "  '0xcb52c65c53ec7e6f029504c895049a8fb80391cd',\n",
       "  '0x71c7656ec7ab88b098defb751b7401b5f6d8976f'],\n",
       " 'Donate': ['0x635599b0ab4b5c6b1392e0a2d1d69cf7d1dddf02',\n",
       "  '0x0e7e676328921e8a0f871bb87a9258be0e047055',\n",
       "  '0xaf5cdbbabdeaa5f79eb7dbac4c2884a54ba5bc05',\n",
       "  '0x8ce1ef31ee55326cb4a8234a1bd9df3562644520',\n",
       "  '0xea7263feb7d8a8ab0a11eedd8f1ce04412ab0820',\n",
       "  '0x8d35067233605bef6069191ae0922d134ff80d48',\n",
       "  '0xdb0387a01592c6a5cb4efc368c1acc0081de86e0',\n",
       "  '0x71c7656ec7ab88b098defb751b7401b5f6d8976f',\n",
       "  '0x0de0bcb0703ff8f1aeb8c892edbe692683bd8030',\n",
       "  '0xfb6916095ca1df60bb79ce92ce3ea74c37c5d359',\n",
       "  '0x4183c5f2ff12ef8d98c635f07f10dae20c9ccd6b',\n",
       "  '0xc48e23c5f6e1ea0baef6530734edc3968f79af2e',\n",
       "  '0xcf07042ad1d220f4d0018c7a92f56fcea2c416ee',\n",
       "  '0x4bbeeb066ed09b7aed07bf39eee0460dfa261520',\n",
       "  '0xdecaf9cd2367cdbb726e904cd6397edfcae6068d',\n",
       "  '0xd556caf704e39fc728058557a113b226207d2212',\n",
       "  '0xe96e2181f6166a37ea4c04f6e6e2bd672d72acc1',\n",
       "  '0x35bfd2cfe27ef7af2029d584b9b6c2ca27d9b3c7',\n",
       "  '0xcc70db1ac810677c06d9cc1cdd8c953b12edd3fa',\n",
       "  '0xcc70db1ac810677c06d9cc1cdd8c953b12edd3fa',\n",
       "  '0xcb52c65c53ec7e6f029504c895049a8fb80391cd',\n",
       "  '0x71c7656ec7ab88b098defb751b7401b5f6d8976f'],\n",
       " 'dYdX': ['0x57b98aa8a8b69c6295195d153fe6edd0b0d176ac',\n",
       "  '0xfbc08a66f8bac391f21472d9625c1092ff41cc04',\n",
       "  '0x686f7d0b698b6780a8ce1d6ae13bb8c813552ff3',\n",
       "  '0x2657eca107d7c2abcf72c7a97c8eeef863c22507',\n",
       "  '0x5be497a12e92b8deb68da9d0ed9943f8dc3067ca',\n",
       "  '0xc72786ad71b5ef5326299409d5fe6912c05635ab',\n",
       "  '0x1098898efacd41e1824cd610f52d0f8690bdc87a',\n",
       "  '0x61fa58d7ef40d6f6853740330b62ccad34f8bc04',\n",
       "  '0x36bf21c8e661b21e6166e4385f574941fdc6caff',\n",
       "  '0xcb17e969288ae849d5e0717694c5c56e70e798ed',\n",
       "  '0xeafd335c0e72bb89857972ee7a3ba90bd5a2f7fd',\n",
       "  '0x5199071825cc1d6cd019b0d7d42b08106f6cf16d',\n",
       "  '0x8418bb725b3ac45ec8fff3791dd8b4e0480cc2a2',\n",
       "  '0x5d4b4d9f5274f72d7d4308597d0ea95b97b094cf',\n",
       "  '0xa26d16a21805b14b2977555ffdea34e5e6fc43ba',\n",
       "  '0x059550a1ca3c46a2adb803e9e3ea4585a34f004a',\n",
       "  '0x35bfd2cfe27ef7af2029d584b9b6c2ca27d9b3c7',\n",
       "  '0xcc70db1ac810677c06d9cc1cdd8c953b12edd3fa',\n",
       "  '0xcc70db1ac810677c06d9cc1cdd8c953b12edd3fa',\n",
       "  '0xcb52c65c53ec7e6f029504c895049a8fb80391cd',\n",
       "  '0x71c7656ec7ab88b098defb751b7401b5f6d8976f'],\n",
       " 'Education': ['0x35bfd2cfe27ef7af2029d584b9b6c2ca27d9b3c7',\n",
       "  '0xcc70db1ac810677c06d9cc1cdd8c953b12edd3fa',\n",
       "  '0xcc70db1ac810677c06d9cc1cdd8c953b12edd3fa',\n",
       "  '0xcb52c65c53ec7e6f029504c895049a8fb80391cd',\n",
       "  '0x71c7656ec7ab88b098defb751b7401b5f6d8976f'],\n",
       " 'Electronics': ['0x35bfd2cfe27ef7af2029d584b9b6c2ca27d9b3c7',\n",
       "  '0xcc70db1ac810677c06d9cc1cdd8c953b12edd3fa',\n",
       "  '0xcc70db1ac810677c06d9cc1cdd8c953b12edd3fa',\n",
       "  '0xcb52c65c53ec7e6f029504c895049a8fb80391cd',\n",
       "  '0x71c7656ec7ab88b098defb751b7401b5f6d8976f'],\n",
       " 'ENS': ['0x000000000000000000000000000000000000dead',\n",
       "  '0x314159265dd8dbb310642f98f50c066173c1259b',\n",
       "  '0x1da022710df5002339274aadee8d58218e9d6ab5',\n",
       "  '0x6090a6e47849629b7245dfa1ca21d94cd15878ef',\n",
       "  '0x9062c0a6dbd6108336bcbe4593a3d1ce05512069',\n",
       "  '0xddb8c99ddde24195c6155463a1bc7ca95e42c883',\n",
       "  '0x35bfd2cfe27ef7af2029d584b9b6c2ca27d9b3c7',\n",
       "  '0xcc70db1ac810677c06d9cc1cdd8c953b12edd3fa',\n",
       "  '0xcc70db1ac810677c06d9cc1cdd8c953b12edd3fa',\n",
       "  '0xcb52c65c53ec7e6f029504c895049a8fb80391cd',\n",
       "  '0x71c7656ec7ab88b098defb751b7401b5f6d8976f'],\n",
       " 'Etheremon': ['0x9fdc0bb3622b933aaf4c6f0f653e35e76dcb76d0',\n",
       "  '0xb5f8ed7a761200d80a9971268302ef3ff1aafbec',\n",
       "  '0x5df892a4d541cb55c62280125f0c38b46d9f55df',\n",
       "  '0x635b1194853b58e916f34f4223c81df0e99f4430',\n",
       "  '0xbfde6246df72d3ca86419628cac46a9d2b60393c',\n",
       "  '0x95daaab98046846bf4b2853e23cba236fa394a31',\n",
       "  '0xb67b88a25708a35ae7c2d736d398d268ce4f7f83',\n",
       "  '0xcdf7cfc9f7c129a0d7aec376bc205ab87fc878e1',\n",
       "  '0x41f3d85e9b8497fca552523047bf4dac7beea64a',\n",
       "  '0xd76e916901c278dc445e4a808d87a4b34edaee25',\n",
       "  '0xa7c4681c701ac82c8524cfc66e0101ea16e1e00f',\n",
       "  '0xa2c51d751a3fcbaf3ff3cd1dc4adf72469cf9d74',\n",
       "  '0x50067c62078579cdc0c76fc04fd28fb6fe3afcd4',\n",
       "  '0xb2c0782ae4a299f7358758b2d15da9bf29e1dd99',\n",
       "  '0x0c28bf52d0d4d9447e86d7e7f0e317f273d3c9a3',\n",
       "  '0xdf6164efd12678bf6a7d5a1ddf73c831493f6574',\n",
       "  '0xe171783da2c451186b4256727481fa30203fef86',\n",
       "  '0x65ca30af89af5a048cc8b715101171fbca6452b5',\n",
       "  '0x0fa8051dbdbbcc32d602803d5f1de1e6f92a0bbd',\n",
       "  '0x75aa01dc00f6aeefe14bd58a5b6cbb091c6dc57b',\n",
       "  '0xb902e19f24950c43ae69cfee20876283fa842b03',\n",
       "  '0xf35a3215e8098544f1c352ef57c3c745e224fb38',\n",
       "  '0x3ebbebb8198c90c7460a8a60736481726b40297a',\n",
       "  '0x7582562aeeb50d6e48fa5415d47d5ccd9bd221c4',\n",
       "  '0x6482ccfc48cd7ff95bb4def3355617fe0d507052',\n",
       "  '0x35bfd2cfe27ef7af2029d584b9b6c2ca27d9b3c7',\n",
       "  '0xcc70db1ac810677c06d9cc1cdd8c953b12edd3fa',\n",
       "  '0xcc70db1ac810677c06d9cc1cdd8c953b12edd3fa',\n",
       "  '0xcb52c65c53ec7e6f029504c895049a8fb80391cd',\n",
       "  '0x71c7656ec7ab88b098defb751b7401b5f6d8976f'],\n",
       " 'Ethereum': ['0x35bfd2cfe27ef7af2029d584b9b6c2ca27d9b3c7',\n",
       "  '0xcc70db1ac810677c06d9cc1cdd8c953b12edd3fa',\n",
       "  '0xcc70db1ac810677c06d9cc1cdd8c953b12edd3fa',\n",
       "  '0xcb52c65c53ec7e6f029504c895049a8fb80391cd',\n",
       "  '0x71c7656ec7ab88b098defb751b7401b5f6d8976f'],\n",
       " 'Etheroll': ['0xa52e014b3f5cc48287c2d483a3e026c32cc76e6d',\n",
       "  '0x24c3235558572cff8054b5a419251d3b0d43e91b',\n",
       "  '0xa86a60d53e6f474e049be54824551bb99f05adee',\n",
       "  '0xe709c6c933bda30963274d5bdd1e556c655c59fe',\n",
       "  '0x805129c7144688224c122c924e3855d5b4fa01d8',\n",
       "  '0xece701c76bd00d1c3f96410a0c69ea8dfcf5f34e',\n",
       "  '0xd91e45416bfbbec6e2d1ae4ac83b788a21acf583',\n",
       "  '0x2e071d2966aa7d8decb1005885ba1977d6038a65',\n",
       "  '0x35bfd2cfe27ef7af2029d584b9b6c2ca27d9b3c7',\n",
       "  '0xcc70db1ac810677c06d9cc1cdd8c953b12edd3fa',\n",
       "  '0xcc70db1ac810677c06d9cc1cdd8c953b12edd3fa',\n",
       "  '0xcb52c65c53ec7e6f029504c895049a8fb80391cd',\n",
       "  '0x71c7656ec7ab88b098defb751b7401b5f6d8976f'],\n",
       " 'Exchange': ['0xff6b1cdfd2d3e37977d7938aa06b6d89d6675e27',\n",
       "  '0x7a10ec7d68a048bdae36a70e93532d31423170fa',\n",
       "  '0xce1bf8e51f8b39e51c6184e059786d1c0eaf360f',\n",
       "  '0xf73c3c65bde10bf26c2e1763104e609a41702efe',\n",
       "  '0xd4dcd2459bb78d7a645aa7e196857d421b10d93f',\n",
       "  '0xa30d8157911ef23c46c0eb71889efe6a648a41f7',\n",
       "  '0xf7793d27a1b76cdf14db7c83e82c772cf7c92910',\n",
       "  '0x3f5ce5fbfe3e9af3971dd833d26ba9b5c936f0be',\n",
       "  '0xd551234ae421e3bcba99a0da6d736074f22192ff',\n",
       "  '0x564286362092d8e7936f0549571a803b203aaced',\n",
       "  '0x0681d8db095565fe8a346fa0277bffde9c0edbbf',\n",
       "  '0xfe9e8709d3215310075d67e3ed32a380ccf451c8',\n",
       "  '0x4e9ce36e442e55ecd9025b9a6e0d88485d628a67',\n",
       "  '0xdf5021a4c1401f1125cd347e394d977630e17cf7',\n",
       "  '0x1151314c646ce4e0efd76d1af4760ae66a9fe30f',\n",
       "  '0x7727e5113d1d161373623e5f49fd568b4f543a9e',\n",
       "  '0x4fdd5eb2fb260149a3903859043e962ab89d8ed4',\n",
       "  '0x876eabf441b2ee5b5b0554fd502a8e0600950cfa',\n",
       "  '0x742d35cc6634c0532925a3b844bc454e4438f44e',\n",
       "  '0x03bdf69b1322d623836afbd27679a1c0afa067e9',\n",
       "  '0x4b1a99467a284cc690e3237bc69105956816f762',\n",
       "  '0xfbb1b73c4f0bda4f67dca266ce6ef42f520fbb98',\n",
       "  '0xe94b04a0fed112f3664e45adb2b8915693dd5ff3',\n",
       "  '0xaa90b4aae74cee41e004bc45e45a427406c4dcae',\n",
       "  '0xf8d04a720520d0bcbc722b1d21ca194aa22699f2',\n",
       "  '0x35bfd2cfe27ef7af2029d584b9b6c2ca27d9b3c7',\n",
       "  '0xcc70db1ac810677c06d9cc1cdd8c953b12edd3fa',\n",
       "  '0xcc70db1ac810677c06d9cc1cdd8c953b12edd3fa',\n",
       "  '0xcb52c65c53ec7e6f029504c895049a8fb80391cd',\n",
       "  '0x71c7656ec7ab88b098defb751b7401b5f6d8976f'],\n",
       " 'Fiat': ['0x35bfd2cfe27ef7af2029d584b9b6c2ca27d9b3c7',\n",
       "  '0xcc70db1ac810677c06d9cc1cdd8c953b12edd3fa',\n",
       "  '0xcc70db1ac810677c06d9cc1cdd8c953b12edd3fa',\n",
       "  '0xcb52c65c53ec7e6f029504c895049a8fb80391cd',\n",
       "  '0x71c7656ec7ab88b098defb751b7401b5f6d8976f'],\n",
       " 'Fomo3D': ['0xa62142888aba8370742be823c1782d17a0389da1',\n",
       "  '0x4e8ecf79ade5e2c49b9e30d795517a81e0bf00b8',\n",
       "  '0x51a5271ec514c3065d9de2d8e95051989f7d53ab',\n",
       "  '0xd60d353610d9a5ca478769d371b53cefaa7b6e4c',\n",
       "  '0xc7029ed9eba97a096e72607f4340c34049c7af48',\n",
       "  '0xdd4950f977ee28d2c132f1353d1595035db444ee',\n",
       "  '0xb3775fb83f7d12a36e0475abdd1fca35c091efbe',\n",
       "  '0x35bfd2cfe27ef7af2029d584b9b6c2ca27d9b3c7',\n",
       "  '0xcc70db1ac810677c06d9cc1cdd8c953b12edd3fa',\n",
       "  '0xcc70db1ac810677c06d9cc1cdd8c953b12edd3fa',\n",
       "  '0xcb52c65c53ec7e6f029504c895049a8fb80391cd',\n",
       "  '0x71c7656ec7ab88b098defb751b7401b5f6d8976f'],\n",
       " 'Gambling': ['0x2239df7104fd3f4a5e464e108506e76c47858a20',\n",
       "  '0xd1ceeeeee83f8bcf3bedad437202b6154e9f5405',\n",
       "  '0x9919d97e50397b7483e9ea61e027e4c4419c8171',\n",
       "  '0x2faa316fc4624ec39adc2ef7b5301124cfb68777',\n",
       "  '0xa52e014b3f5cc48287c2d483a3e026c32cc76e6d',\n",
       "  '0xfef5497bc53a69875e02ae5b14eeff668f09a729',\n",
       "  '0xa62142888aba8370742be823c1782d17a0389da1',\n",
       "  '0x4e8ecf79ade5e2c49b9e30d795517a81e0bf00b8',\n",
       "  '0x39ffccecc551f35f8dfcb52c8c01060919aed1ea',\n",
       "  '0xe6517b766e6ee07f91b517435ed855926bcb1aae',\n",
       "  '0xa74642aeae3e2fd79150c910eb5368b64f864b1e',\n",
       "  '0xb3775fb83f7d12a36e0475abdd1fca35c091efbe',\n",
       "  '0x4fac33dabfd83d160717dfee4175d9caaa249ca5',\n",
       "  '0x29488e24cfdaa52a0b837217926c0c0853db7962',\n",
       "  '0xe1f338e069f202f2113d32c8a5d1046d83c92ca4',\n",
       "  '0xd48b633045af65ff636f3c6edd744748351e020d',\n",
       "  '0x35bfd2cfe27ef7af2029d584b9b6c2ca27d9b3c7',\n",
       "  '0xcc70db1ac810677c06d9cc1cdd8c953b12edd3fa',\n",
       "  '0xcc70db1ac810677c06d9cc1cdd8c953b12edd3fa',\n",
       "  '0xcb52c65c53ec7e6f029504c895049a8fb80391cd',\n",
       "  '0x71c7656ec7ab88b098defb751b7401b5f6d8976f'],\n",
       " 'Gods': ['0x35bfd2cfe27ef7af2029d584b9b6c2ca27d9b3c7',\n",
       "  '0xcc70db1ac810677c06d9cc1cdd8c953b12edd3fa',\n",
       "  '0xcc70db1ac810677c06d9cc1cdd8c953b12edd3fa',\n",
       "  '0xcb52c65c53ec7e6f029504c895049a8fb80391cd',\n",
       "  '0x71c7656ec7ab88b098defb751b7401b5f6d8976f'],\n",
       " 'Havven': ['0x35bfd2cfe27ef7af2029d584b9b6c2ca27d9b3c7',\n",
       "  '0xcc70db1ac810677c06d9cc1cdd8c953b12edd3fa',\n",
       "  '0xcc70db1ac810677c06d9cc1cdd8c953b12edd3fa',\n",
       "  '0xcb52c65c53ec7e6f029504c895049a8fb80391cd',\n",
       "  '0x71c7656ec7ab88b098defb751b7401b5f6d8976f'],\n",
       " 'Heist': ['0xbceaa0040764009fdcff407e82ad1f06465fd2c4',\n",
       "  '0xf6884686a999f5ae6c1af03db92bab9c6d7dc8de',\n",
       "  '0x6ca33486eed915816560630b883a047c4e2b92df',\n",
       "  '0xd4914762f9bd566bd0882b71af5439c0476d2ff6',\n",
       "  '0x1342a001544b8b7ae4a5d374e33114c66d78bd5f',\n",
       "  '0xc062dceed93087c9112ff7b02d53e928e49cec09',\n",
       "  '0x04786aada9deea2150deab7b3b8911c309f5ed90',\n",
       "  '0xb3764761e297d6f121e79c32a65829cd1ddb4d32',\n",
       "  '0xcf267ea3f1ebae3c29fea0a3253f94f3122c2199',\n",
       "  '0x35bfd2cfe27ef7af2029d584b9b6c2ca27d9b3c7',\n",
       "  '0xcc70db1ac810677c06d9cc1cdd8c953b12edd3fa',\n",
       "  '0xcc70db1ac810677c06d9cc1cdd8c953b12edd3fa',\n",
       "  '0xcb52c65c53ec7e6f029504c895049a8fb80391cd',\n",
       "  '0x71c7656ec7ab88b098defb751b7401b5f6d8976f'],\n",
       " 'High': ['0x35bfd2cfe27ef7af2029d584b9b6c2ca27d9b3c7',\n",
       "  '0xcc70db1ac810677c06d9cc1cdd8c953b12edd3fa',\n",
       "  '0xcc70db1ac810677c06d9cc1cdd8c953b12edd3fa',\n",
       "  '0xcb52c65c53ec7e6f029504c895049a8fb80391cd',\n",
       "  '0x71c7656ec7ab88b098defb751b7401b5f6d8976f'],\n",
       " 'Hyper': ['0x35bfd2cfe27ef7af2029d584b9b6c2ca27d9b3c7',\n",
       "  '0xcc70db1ac810677c06d9cc1cdd8c953b12edd3fa',\n",
       "  '0xcc70db1ac810677c06d9cc1cdd8c953b12edd3fa',\n",
       "  '0xcb52c65c53ec7e6f029504c895049a8fb80391cd',\n",
       "  '0x71c7656ec7ab88b098defb751b7401b5f6d8976f'],\n",
       " 'ICO': ['0x35bfd2cfe27ef7af2029d584b9b6c2ca27d9b3c7',\n",
       "  '0xcc70db1ac810677c06d9cc1cdd8c953b12edd3fa',\n",
       "  '0xcc70db1ac810677c06d9cc1cdd8c953b12edd3fa',\n",
       "  '0xcb52c65c53ec7e6f029504c895049a8fb80391cd',\n",
       "  '0x71c7656ec7ab88b098defb751b7401b5f6d8976f'],\n",
       " 'Loans': ['0x3fda67f7583380e67ef93072294a7fac882fd7e7',\n",
       "  '0x35bfd2cfe27ef7af2029d584b9b6c2ca27d9b3c7',\n",
       "  '0xcc70db1ac810677c06d9cc1cdd8c953b12edd3fa',\n",
       "  '0xcc70db1ac810677c06d9cc1cdd8c953b12edd3fa',\n",
       "  '0xcb52c65c53ec7e6f029504c895049a8fb80391cd',\n",
       "  '0x71c7656ec7ab88b098defb751b7401b5f6d8976f'],\n",
       " 'Maker': ['0x89d24a6b4ccb1b6faa2625fe562bdd9a23260359',\n",
       "  '0x9f8f72aa9304c8b593d555f12ef6589cc3a579a2',\n",
       "  '0xc66ea802717bfb9833400264dd12c2bceaa34a6d',\n",
       "  '0x448a5065aebb8e423f0896e6c5d525c040f59af3',\n",
       "  '0xbda109309f9fafa6dd6a9cb9f1df4085b27ee8ef',\n",
       "  '0x9b0f70df76165442ca6092939132bbaea77f2d7a',\n",
       "  '0x9b0ccf7c8994e19f39b2b4cf708e0a7df65fa8a3',\n",
       "  '0x14fbca95be7e99c15cc2996c6c9d841e54b79425',\n",
       "  '0x59adcf176ed2f6788a41b8ea4c4904518e62b6a4',\n",
       "  '0x35bfd2cfe27ef7af2029d584b9b6c2ca27d9b3c7',\n",
       "  '0xcc70db1ac810677c06d9cc1cdd8c953b12edd3fa',\n",
       "  '0xcc70db1ac810677c06d9cc1cdd8c953b12edd3fa',\n",
       "  '0xcb52c65c53ec7e6f029504c895049a8fb80391cd',\n",
       "  '0x71c7656ec7ab88b098defb751b7401b5f6d8976f'],\n",
       " 'Marketplace': ['0x867ffb5a3871b500f65bdfafe0136f9667deae06',\n",
       "  '0x7be8076f4ea4a4ad08075c2508e481d6c946d12b',\n",
       "  '0x35bfd2cfe27ef7af2029d584b9b6c2ca27d9b3c7',\n",
       "  '0xcc70db1ac810677c06d9cc1cdd8c953b12edd3fa',\n",
       "  '0xcc70db1ac810677c06d9cc1cdd8c953b12edd3fa',\n",
       "  '0xcb52c65c53ec7e6f029504c895049a8fb80391cd',\n",
       "  '0x71c7656ec7ab88b098defb751b7401b5f6d8976f'],\n",
       " 'Media': ['0x35bfd2cfe27ef7af2029d584b9b6c2ca27d9b3c7',\n",
       "  '0xcc70db1ac810677c06d9cc1cdd8c953b12edd3fa',\n",
       "  '0xcc70db1ac810677c06d9cc1cdd8c953b12edd3fa',\n",
       "  '0xcb52c65c53ec7e6f029504c895049a8fb80391cd',\n",
       "  '0x71c7656ec7ab88b098defb751b7401b5f6d8976f'],\n",
       " 'Melon': ['0xbeb9ef514a379b997e0798fdcc901ee474b6d9a1',\n",
       "  '0x2c7cf699e9e2bf78020ad8a6b4faa28ee6722b7b',\n",
       "  '0x3875151e877cb7c048d9b8f5045debf46babe02b',\n",
       "  '0x9c76c260d4e72b87b398635313d3fab11e83b7b3',\n",
       "  '0x0d580ae50b58fe08514deab4e38c0dfdb0d30adc',\n",
       "  '0x630f5e265112db10d1e7820e26718172a12bd084',\n",
       "  '0x752e85ae6297b17f42c1619008ad8c2271f1c30f',\n",
       "  '0xb4daca5ea0de976da3304ba86e806ecb293d49bf',\n",
       "  '0xe52ee3db0587170deb20b1c71b17229a28b79a9b',\n",
       "  '0xdb0e414f86f94e69b5be00b5df8a85f793f94aca',\n",
       "  '0x073c4ea5a89d0e5aa0408a1b6dd8bbfcdba985c0',\n",
       "  '0x4a3943269c581efcbd0875a7c60da1c35a7c85c2',\n",
       "  '0x3bf541f87056d134e0109be1be92978b26cb09e0',\n",
       "  '0x35bfd2cfe27ef7af2029d584b9b6c2ca27d9b3c7',\n",
       "  '0xcc70db1ac810677c06d9cc1cdd8c953b12edd3fa',\n",
       "  '0xcc70db1ac810677c06d9cc1cdd8c953b12edd3fa',\n",
       "  '0xcb52c65c53ec7e6f029504c895049a8fb80391cd',\n",
       "  '0x71c7656ec7ab88b098defb751b7401b5f6d8976f'],\n",
       " 'Mining': ['0x00192fb10df37c9fb26829eb2cc623cd1bf599e8',\n",
       "  '0x002e08000acbbae2155fab7ac01929564949070d',\n",
       "  '0xc839ee5542b4e8413246b3634c5c739fea949562',\n",
       "  '0xf3b9d2c81f2b24b0fa0acaaa865b7d9ced5fc2fb',\n",
       "  '0x68795c4aa09d6f4ed3e5deddf8c2ad3049a601da',\n",
       "  '0xf8b483dba2c3b7176a3da549ad41a48bb3121069',\n",
       "  '0xa42af2c70d316684e57aefcc6e393fecb1c7e84e',\n",
       "  '0x6a7a43be33ba930fe58f34e07d0ad6ba7adb9b1f',\n",
       "  '0x2a65aca4d5fc5b5c859090a6c34d164135398226',\n",
       "  '0x151255dd9e38e44db38ea06ec66d0d113d6cbe37',\n",
       "  '0xa027231f42c80ca4125b5cb962a21cd4f812e88f',\n",
       "  '0x8d35067233605bef6069191ae0922d134ff80d48',\n",
       "  '0x9d551f41fed6fc27b719777c224dfecce170004d',\n",
       "  '0xea674fdde714fd979de3edf0f56aa9716b898ec8',\n",
       "  '0xe6a7a1d47ff21b6321162aea7c6cb457d5476bca',\n",
       "  '0x4bb96091ee9d802ed039c4d1a5f6216f90f81b01',\n",
       "  '0x6537b65a50a862391515455272f9b6c7168afe94',\n",
       "  '0x61c808d82a3ac53231750dadc13c777b59310bd9',\n",
       "  '0x829bd824b016326a401d083b33d092293333a830',\n",
       "  '0x464b0b37db1ee1b5fbe27300acfbf172fd5e4f53',\n",
       "  '0x4e4e23ac3c11789e23169025503ea4373b01417b',\n",
       "  '0x09ab1303d3ccaf5f018cd511146b07a240c70294',\n",
       "  '0xb2930b35844a230f00e51431acae96fe543a0347',\n",
       "  '0x52bc44d5378309ee2abf1539bf71de1b7d7be3b5',\n",
       "  '0xd5bbb4264b70ca4f58c45d27b9d7e11190754a54',\n",
       "  '0x35bfd2cfe27ef7af2029d584b9b6c2ca27d9b3c7',\n",
       "  '0xcc70db1ac810677c06d9cc1cdd8c953b12edd3fa',\n",
       "  '0xcc70db1ac810677c06d9cc1cdd8c953b12edd3fa',\n",
       "  '0xcb52c65c53ec7e6f029504c895049a8fb80391cd',\n",
       "  '0x71c7656ec7ab88b098defb751b7401b5f6d8976f'],\n",
       " 'Music': ['0x35bfd2cfe27ef7af2029d584b9b6c2ca27d9b3c7',\n",
       "  '0xcc70db1ac810677c06d9cc1cdd8c953b12edd3fa',\n",
       "  '0xcc70db1ac810677c06d9cc1cdd8c953b12edd3fa',\n",
       "  '0xcb52c65c53ec7e6f029504c895049a8fb80391cd',\n",
       "  '0x71c7656ec7ab88b098defb751b7401b5f6d8976f'],\n",
       " 'NFT': ['0x7be8076f4ea4a4ad08075c2508e481d6c946d12b',\n",
       "  '0x35bfd2cfe27ef7af2029d584b9b6c2ca27d9b3c7',\n",
       "  '0xcc70db1ac810677c06d9cc1cdd8c953b12edd3fa',\n",
       "  '0xcc70db1ac810677c06d9cc1cdd8c953b12edd3fa',\n",
       "  '0xcb52c65c53ec7e6f029504c895049a8fb80391cd',\n",
       "  '0x71c7656ec7ab88b098defb751b7401b5f6d8976f'],\n",
       " 'OTC': ['0x867ffb5a3871b500f65bdfafe0136f9667deae06',\n",
       "  '0x35bfd2cfe27ef7af2029d584b9b6c2ca27d9b3c7',\n",
       "  '0xcc70db1ac810677c06d9cc1cdd8c953b12edd3fa',\n",
       "  '0xcc70db1ac810677c06d9cc1cdd8c953b12edd3fa',\n",
       "  '0xcb52c65c53ec7e6f029504c895049a8fb80391cd',\n",
       "  '0x71c7656ec7ab88b098defb751b7401b5f6d8976f'],\n",
       " 'Others': ['0x35bfd2cfe27ef7af2029d584b9b6c2ca27d9b3c7',\n",
       "  '0xcc70db1ac810677c06d9cc1cdd8c953b12edd3fa',\n",
       "  '0xcc70db1ac810677c06d9cc1cdd8c953b12edd3fa',\n",
       "  '0xcb52c65c53ec7e6f029504c895049a8fb80391cd',\n",
       "  '0x71c7656ec7ab88b098defb751b7401b5f6d8976f'],\n",
       " 'Parity': ['0x35bfd2cfe27ef7af2029d584b9b6c2ca27d9b3c7',\n",
       "  '0xcc70db1ac810677c06d9cc1cdd8c953b12edd3fa',\n",
       "  '0xcc70db1ac810677c06d9cc1cdd8c953b12edd3fa',\n",
       "  '0xcb52c65c53ec7e6f029504c895049a8fb80391cd',\n",
       "  '0x71c7656ec7ab88b098defb751b7401b5f6d8976f'],\n",
       " 'Phish': ['0x35bfd2cfe27ef7af2029d584b9b6c2ca27d9b3c7',\n",
       "  '0xcc70db1ac810677c06d9cc1cdd8c953b12edd3fa',\n",
       "  '0xcc70db1ac810677c06d9cc1cdd8c953b12edd3fa',\n",
       "  '0xcb52c65c53ec7e6f029504c895049a8fb80391cd',\n",
       "  '0x71c7656ec7ab88b098defb751b7401b5f6d8976f'],\n",
       " 'Poloniex': ['0x32be343b94f860124dc4fee278fdcbd38c102d88',\n",
       "  '0x209c4784ab1e8183cf58ca33cb740efbf3fc18ef',\n",
       "  '0xb794f5ea0ba39494ce839613fffba74279579268',\n",
       "  '0xaa9fa73dfe17ecaa2c89b39f0bb2779613c5fc3b',\n",
       "  '0x2fa2bc2ce6a4f92952921a4caa46b3727d24a1ec',\n",
       "  '0x31a2feb9b5d3b5f4e76c71d6c92fc46ebb3cb1c1',\n",
       "  '0x6b71834d65c5c4d8ed158d54b47e6ea4ff4e5437',\n",
       "  '0x48d466b7c0d32b61e8a82cd2bcf060f7c3f966df',\n",
       "  '0x0536806df512d6cdde913cf95c9886f65b1d3462',\n",
       "  '0x8d451ae5ee8f557a9ce7a9d7be8a8cb40002d5cb',\n",
       "  '0xbd2ec7c608a06fe975dbdca729e84dedb34ecc21',\n",
       "  '0xc0e30823e5e628df8bc9bf2636a347e1512f0ecb',\n",
       "  '0x65f9b2e4d7aaeb40ffea8c6f5844d5ad7da257e0',\n",
       "  '0x36b01066b7fa4a0fdb2968ea0256c848e9135674',\n",
       "  '0xab11204cfeaccffa63c2d23aef2ea9accdb0a0d5',\n",
       "  '0x6795cf8eb25585eadc356ae32ac6641016c550f2',\n",
       "  '0xfbf2173154f7625713be22e0504404ebfe021eae',\n",
       "  '0x6f803466bcd17f44fa18975bf7c509ba64bf3825',\n",
       "  '0xead6be34ce315940264519f250d8160f369fa5cd',\n",
       "  '0x35bfd2cfe27ef7af2029d584b9b6c2ca27d9b3c7',\n",
       "  '0xcc70db1ac810677c06d9cc1cdd8c953b12edd3fa',\n",
       "  '0xcc70db1ac810677c06d9cc1cdd8c953b12edd3fa',\n",
       "  '0xcb52c65c53ec7e6f029504c895049a8fb80391cd',\n",
       "  '0x71c7656ec7ab88b098defb751b7401b5f6d8976f'],\n",
       " 'Prediction': ['0x35bfd2cfe27ef7af2029d584b9b6c2ca27d9b3c7',\n",
       "  '0xcc70db1ac810677c06d9cc1cdd8c953b12edd3fa',\n",
       "  '0xcc70db1ac810677c06d9cc1cdd8c953b12edd3fa',\n",
       "  '0xcb52c65c53ec7e6f029504c895049a8fb80391cd',\n",
       "  '0x71c7656ec7ab88b098defb751b7401b5f6d8976f'],\n",
       " 'Research': ['0x64391a1f01c49ae731e258b451afe387f6f57df4',\n",
       "  '0x35bfd2cfe27ef7af2029d584b9b6c2ca27d9b3c7',\n",
       "  '0xcc70db1ac810677c06d9cc1cdd8c953b12edd3fa',\n",
       "  '0xcc70db1ac810677c06d9cc1cdd8c953b12edd3fa',\n",
       "  '0xcb52c65c53ec7e6f029504c895049a8fb80391cd',\n",
       "  '0x71c7656ec7ab88b098defb751b7401b5f6d8976f'],\n",
       " 'Spam': ['0x35bfd2cfe27ef7af2029d584b9b6c2ca27d9b3c7',\n",
       "  '0xcc70db1ac810677c06d9cc1cdd8c953b12edd3fa',\n",
       "  '0xcc70db1ac810677c06d9cc1cdd8c953b12edd3fa',\n",
       "  '0xcb52c65c53ec7e6f029504c895049a8fb80391cd',\n",
       "  '0x71c7656ec7ab88b098defb751b7401b5f6d8976f'],\n",
       " 'Stablecoin': ['0x35bfd2cfe27ef7af2029d584b9b6c2ca27d9b3c7',\n",
       "  '0xcc70db1ac810677c06d9cc1cdd8c953b12edd3fa',\n",
       "  '0xcc70db1ac810677c06d9cc1cdd8c953b12edd3fa',\n",
       "  '0xcb52c65c53ec7e6f029504c895049a8fb80391cd',\n",
       "  '0x71c7656ec7ab88b098defb751b7401b5f6d8976f'],\n",
       " 'Token': ['0x35bfd2cfe27ef7af2029d584b9b6c2ca27d9b3c7',\n",
       "  '0xcc70db1ac810677c06d9cc1cdd8c953b12edd3fa',\n",
       "  '0xcc70db1ac810677c06d9cc1cdd8c953b12edd3fa',\n",
       "  '0xcb52c65c53ec7e6f029504c895049a8fb80391cd',\n",
       "  '0x71c7656ec7ab88b098defb751b7401b5f6d8976f'],\n",
       " 'Trading': ['0x059550a1ca3c46a2adb803e9e3ea4585a34f004a',\n",
       "  '0x35bfd2cfe27ef7af2029d584b9b6c2ca27d9b3c7',\n",
       "  '0xcc70db1ac810677c06d9cc1cdd8c953b12edd3fa',\n",
       "  '0xcc70db1ac810677c06d9cc1cdd8c953b12edd3fa',\n",
       "  '0xcb52c65c53ec7e6f029504c895049a8fb80391cd',\n",
       "  '0x71c7656ec7ab88b098defb751b7401b5f6d8976f'],\n",
       " 'Wallet': ['0x35bfd2cfe27ef7af2029d584b9b6c2ca27d9b3c7',\n",
       "  '0xcc70db1ac810677c06d9cc1cdd8c953b12edd3fa',\n",
       "  '0xcc70db1ac810677c06d9cc1cdd8c953b12edd3fa',\n",
       "  '0xcb52c65c53ec7e6f029504c895049a8fb80391cd',\n",
       "  '0x71c7656ec7ab88b098defb751b7401b5f6d8976f'],\n",
       " 'White': ['0x35bfd2cfe27ef7af2029d584b9b6c2ca27d9b3c7',\n",
       "  '0xcc70db1ac810677c06d9cc1cdd8c953b12edd3fa',\n",
       "  '0xcc70db1ac810677c06d9cc1cdd8c953b12edd3fa',\n",
       "  '0xcb52c65c53ec7e6f029504c895049a8fb80391cd',\n",
       "  '0x71c7656ec7ab88b098defb751b7401b5f6d8976f'],\n",
       " 'Zethr': ['0xd48b633045af65ff636f3c6edd744748351e020d',\n",
       "  '0x7430984e1d05d5f447c747123dd26845f6f17544',\n",
       "  '0x5986d909b2fd4e8a613160ffa58e1cf067763133',\n",
       "  '0xe69c6002f218d6939e13eefbb3d984b22c4e0448',\n",
       "  '0x5a1dbff1a772bc35f53c77509b4dc1624c65e6ec',\n",
       "  '0xb7e5f473e5550d7ca9857561269531787094b715',\n",
       "  '0x35bfd2cfe27ef7af2029d584b9b6c2ca27d9b3c7',\n",
       "  '0xcc70db1ac810677c06d9cc1cdd8c953b12edd3fa',\n",
       "  '0xcc70db1ac810677c06d9cc1cdd8c953b12edd3fa',\n",
       "  '0xcb52c65c53ec7e6f029504c895049a8fb80391cd',\n",
       "  '0x71c7656ec7ab88b098defb751b7401b5f6d8976f'],\n",
       " '/tokens?l=0x': ['0x35bfd2cfe27ef7af2029d584b9b6c2ca27d9b3c7',\n",
       "  '0xcc70db1ac810677c06d9cc1cdd8c953b12edd3fa',\n",
       "  '0xcc70db1ac810677c06d9cc1cdd8c953b12edd3fa',\n",
       "  '0xcb52c65c53ec7e6f029504c895049a8fb80391cd',\n",
       "  '0x71c7656ec7ab88b098defb751b7401b5f6d8976f'],\n",
       " '/tokens?l=0xUniverse': ['0x35bfd2cfe27ef7af2029d584b9b6c2ca27d9b3c7',\n",
       "  '0xcc70db1ac810677c06d9cc1cdd8c953b12edd3fa',\n",
       "  '0xcc70db1ac810677c06d9cc1cdd8c953b12edd3fa',\n",
       "  '0xcb52c65c53ec7e6f029504c895049a8fb80391cd',\n",
       "  '0x71c7656ec7ab88b098defb751b7401b5f6d8976f'],\n",
       " '/tokens?l=Adult': ['0x35bfd2cfe27ef7af2029d584b9b6c2ca27d9b3c7',\n",
       "  '0xcc70db1ac810677c06d9cc1cdd8c953b12edd3fa',\n",
       "  '0xcc70db1ac810677c06d9cc1cdd8c953b12edd3fa',\n",
       "  '0xcb52c65c53ec7e6f029504c895049a8fb80391cd',\n",
       "  '0x71c7656ec7ab88b098defb751b7401b5f6d8976f'],\n",
       " '/tokens?l=Advertising': ['0x35bfd2cfe27ef7af2029d584b9b6c2ca27d9b3c7',\n",
       "  '0xcc70db1ac810677c06d9cc1cdd8c953b12edd3fa',\n",
       "  '0xcc70db1ac810677c06d9cc1cdd8c953b12edd3fa',\n",
       "  '0xcb52c65c53ec7e6f029504c895049a8fb80391cd',\n",
       "  '0x71c7656ec7ab88b098defb751b7401b5f6d8976f'],\n",
       " '/tokens?l=Agriculture': ['0x35bfd2cfe27ef7af2029d584b9b6c2ca27d9b3c7',\n",
       "  '0xcc70db1ac810677c06d9cc1cdd8c953b12edd3fa',\n",
       "  '0xcc70db1ac810677c06d9cc1cdd8c953b12edd3fa',\n",
       "  '0xcb52c65c53ec7e6f029504c895049a8fb80391cd',\n",
       "  '0x71c7656ec7ab88b098defb751b7401b5f6d8976f'],\n",
       " '/tokens?l=Analytics': ['0x35bfd2cfe27ef7af2029d584b9b6c2ca27d9b3c7',\n",
       "  '0xcc70db1ac810677c06d9cc1cdd8c953b12edd3fa',\n",
       "  '0xcc70db1ac810677c06d9cc1cdd8c953b12edd3fa',\n",
       "  '0xcb52c65c53ec7e6f029504c895049a8fb80391cd',\n",
       "  '0x71c7656ec7ab88b098defb751b7401b5f6d8976f'],\n",
       " '/tokens?l=Art': ['0x35bfd2cfe27ef7af2029d584b9b6c2ca27d9b3c7',\n",
       "  '0xcc70db1ac810677c06d9cc1cdd8c953b12edd3fa',\n",
       "  '0xcc70db1ac810677c06d9cc1cdd8c953b12edd3fa',\n",
       "  '0xcb52c65c53ec7e6f029504c895049a8fb80391cd',\n",
       "  '0x71c7656ec7ab88b098defb751b7401b5f6d8976f'],\n",
       " '/tokens?l=Artificial': ['0x35bfd2cfe27ef7af2029d584b9b6c2ca27d9b3c7',\n",
       "  '0xcc70db1ac810677c06d9cc1cdd8c953b12edd3fa',\n",
       "  '0xcc70db1ac810677c06d9cc1cdd8c953b12edd3fa',\n",
       "  '0xcb52c65c53ec7e6f029504c895049a8fb80391cd',\n",
       "  '0x71c7656ec7ab88b098defb751b7401b5f6d8976f'],\n",
       " '/tokens?l=Asset': ['0x35bfd2cfe27ef7af2029d584b9b6c2ca27d9b3c7',\n",
       "  '0xcc70db1ac810677c06d9cc1cdd8c953b12edd3fa',\n",
       "  '0xcc70db1ac810677c06d9cc1cdd8c953b12edd3fa',\n",
       "  '0xcb52c65c53ec7e6f029504c895049a8fb80391cd',\n",
       "  '0x71c7656ec7ab88b098defb751b7401b5f6d8976f'],\n",
       " '/tokens?l=Authentication': ['0x35bfd2cfe27ef7af2029d584b9b6c2ca27d9b3c7',\n",
       "  '0xcc70db1ac810677c06d9cc1cdd8c953b12edd3fa',\n",
       "  '0xcc70db1ac810677c06d9cc1cdd8c953b12edd3fa',\n",
       "  '0xcb52c65c53ec7e6f029504c895049a8fb80391cd',\n",
       "  '0x71c7656ec7ab88b098defb751b7401b5f6d8976f'],\n",
       " '/tokens?l=Aviation': ['0x35bfd2cfe27ef7af2029d584b9b6c2ca27d9b3c7',\n",
       "  '0xcc70db1ac810677c06d9cc1cdd8c953b12edd3fa',\n",
       "  '0xcc70db1ac810677c06d9cc1cdd8c953b12edd3fa',\n",
       "  '0xcb52c65c53ec7e6f029504c895049a8fb80391cd',\n",
       "  '0x71c7656ec7ab88b098defb751b7401b5f6d8976f'],\n",
       " '/tokens?l=Bancor': ['0x35bfd2cfe27ef7af2029d584b9b6c2ca27d9b3c7',\n",
       "  '0xcc70db1ac810677c06d9cc1cdd8c953b12edd3fa',\n",
       "  '0xcc70db1ac810677c06d9cc1cdd8c953b12edd3fa',\n",
       "  '0xcb52c65c53ec7e6f029504c895049a8fb80391cd',\n",
       "  '0x71c7656ec7ab88b098defb751b7401b5f6d8976f'],\n",
       " '/tokens?l=Banking': ['0x35bfd2cfe27ef7af2029d584b9b6c2ca27d9b3c7',\n",
       "  '0xcc70db1ac810677c06d9cc1cdd8c953b12edd3fa',\n",
       "  '0xcc70db1ac810677c06d9cc1cdd8c953b12edd3fa',\n",
       "  '0xcb52c65c53ec7e6f029504c895049a8fb80391cd',\n",
       "  '0x71c7656ec7ab88b098defb751b7401b5f6d8976f'],\n",
       " '/tokens?l=Basic': ['0x35bfd2cfe27ef7af2029d584b9b6c2ca27d9b3c7',\n",
       "  '0xcc70db1ac810677c06d9cc1cdd8c953b12edd3fa',\n",
       "  '0xcc70db1ac810677c06d9cc1cdd8c953b12edd3fa',\n",
       "  '0xcb52c65c53ec7e6f029504c895049a8fb80391cd',\n",
       "  '0x71c7656ec7ab88b098defb751b7401b5f6d8976f'],\n",
       " '/tokens?l=Beauty': ['0x35bfd2cfe27ef7af2029d584b9b6c2ca27d9b3c7',\n",
       "  '0xcc70db1ac810677c06d9cc1cdd8c953b12edd3fa',\n",
       "  '0xcc70db1ac810677c06d9cc1cdd8c953b12edd3fa',\n",
       "  '0xcb52c65c53ec7e6f029504c895049a8fb80391cd',\n",
       "  '0x71c7656ec7ab88b098defb751b7401b5f6d8976f'],\n",
       " '/tokens?l=Binance': ['0x35bfd2cfe27ef7af2029d584b9b6c2ca27d9b3c7',\n",
       "  '0xcc70db1ac810677c06d9cc1cdd8c953b12edd3fa',\n",
       "  '0xcc70db1ac810677c06d9cc1cdd8c953b12edd3fa',\n",
       "  '0xcb52c65c53ec7e6f029504c895049a8fb80391cd',\n",
       "  '0x71c7656ec7ab88b098defb751b7401b5f6d8976f'],\n",
       " '/tokens?l=Blockchain': ['0x35bfd2cfe27ef7af2029d584b9b6c2ca27d9b3c7',\n",
       "  '0xcc70db1ac810677c06d9cc1cdd8c953b12edd3fa',\n",
       "  '0xcc70db1ac810677c06d9cc1cdd8c953b12edd3fa',\n",
       "  '0xcb52c65c53ec7e6f029504c895049a8fb80391cd',\n",
       "  '0x71c7656ec7ab88b098defb751b7401b5f6d8976f'],\n",
       " '/tokens?l=Charity': ['0x35bfd2cfe27ef7af2029d584b9b6c2ca27d9b3c7',\n",
       "  '0xcc70db1ac810677c06d9cc1cdd8c953b12edd3fa',\n",
       "  '0xcc70db1ac810677c06d9cc1cdd8c953b12edd3fa',\n",
       "  '0xcb52c65c53ec7e6f029504c895049a8fb80391cd',\n",
       "  '0x71c7656ec7ab88b098defb751b7401b5f6d8976f'],\n",
       " '/tokens?l=China': ['0x35bfd2cfe27ef7af2029d584b9b6c2ca27d9b3c7',\n",
       "  '0xcc70db1ac810677c06d9cc1cdd8c953b12edd3fa',\n",
       "  '0xcc70db1ac810677c06d9cc1cdd8c953b12edd3fa',\n",
       "  '0xcb52c65c53ec7e6f029504c895049a8fb80391cd',\n",
       "  '0x71c7656ec7ab88b098defb751b7401b5f6d8976f'],\n",
       " '/tokens?l=Cloud': ['0x35bfd2cfe27ef7af2029d584b9b6c2ca27d9b3c7',\n",
       "  '0xcc70db1ac810677c06d9cc1cdd8c953b12edd3fa',\n",
       "  '0xcc70db1ac810677c06d9cc1cdd8c953b12edd3fa',\n",
       "  '0xcb52c65c53ec7e6f029504c895049a8fb80391cd',\n",
       "  '0x71c7656ec7ab88b098defb751b7401b5f6d8976f'],\n",
       " '/tokens?l=Collaboration': ['0x35bfd2cfe27ef7af2029d584b9b6c2ca27d9b3c7',\n",
       "  '0xcc70db1ac810677c06d9cc1cdd8c953b12edd3fa',\n",
       "  '0xcc70db1ac810677c06d9cc1cdd8c953b12edd3fa',\n",
       "  '0xcb52c65c53ec7e6f029504c895049a8fb80391cd',\n",
       "  '0x71c7656ec7ab88b098defb751b7401b5f6d8976f'],\n",
       " '/tokens?l=Collectibles': ['0x35bfd2cfe27ef7af2029d584b9b6c2ca27d9b3c7',\n",
       "  '0xcc70db1ac810677c06d9cc1cdd8c953b12edd3fa',\n",
       "  '0xcc70db1ac810677c06d9cc1cdd8c953b12edd3fa',\n",
       "  '0xcb52c65c53ec7e6f029504c895049a8fb80391cd',\n",
       "  '0x71c7656ec7ab88b098defb751b7401b5f6d8976f'],\n",
       " '/tokens?l=Commodity': ['0x35bfd2cfe27ef7af2029d584b9b6c2ca27d9b3c7',\n",
       "  '0xcc70db1ac810677c06d9cc1cdd8c953b12edd3fa',\n",
       "  '0xcc70db1ac810677c06d9cc1cdd8c953b12edd3fa',\n",
       "  '0xcb52c65c53ec7e6f029504c895049a8fb80391cd',\n",
       "  '0x71c7656ec7ab88b098defb751b7401b5f6d8976f'],\n",
       " '/tokens?l=Compromised': ['0x35bfd2cfe27ef7af2029d584b9b6c2ca27d9b3c7',\n",
       "  '0xcc70db1ac810677c06d9cc1cdd8c953b12edd3fa',\n",
       "  '0xcc70db1ac810677c06d9cc1cdd8c953b12edd3fa',\n",
       "  '0xcb52c65c53ec7e6f029504c895049a8fb80391cd',\n",
       "  '0x71c7656ec7ab88b098defb751b7401b5f6d8976f'],\n",
       " '/tokens?l=Computing': ['0x35bfd2cfe27ef7af2029d584b9b6c2ca27d9b3c7',\n",
       "  '0xcc70db1ac810677c06d9cc1cdd8c953b12edd3fa',\n",
       "  '0xcc70db1ac810677c06d9cc1cdd8c953b12edd3fa',\n",
       "  '0xcb52c65c53ec7e6f029504c895049a8fb80391cd',\n",
       "  '0x71c7656ec7ab88b098defb751b7401b5f6d8976f'],\n",
       " '/tokens?l=Crowdfunding': ['0x35bfd2cfe27ef7af2029d584b9b6c2ca27d9b3c7',\n",
       "  '0xcc70db1ac810677c06d9cc1cdd8c953b12edd3fa',\n",
       "  '0xcc70db1ac810677c06d9cc1cdd8c953b12edd3fa',\n",
       "  '0xcb52c65c53ec7e6f029504c895049a8fb80391cd',\n",
       "  '0x71c7656ec7ab88b098defb751b7401b5f6d8976f'],\n",
       " '/tokens?l=Crypto': ['0x35bfd2cfe27ef7af2029d584b9b6c2ca27d9b3c7',\n",
       "  '0xcc70db1ac810677c06d9cc1cdd8c953b12edd3fa',\n",
       "  '0xcc70db1ac810677c06d9cc1cdd8c953b12edd3fa',\n",
       "  '0xcb52c65c53ec7e6f029504c895049a8fb80391cd',\n",
       "  '0x71c7656ec7ab88b098defb751b7401b5f6d8976f'],\n",
       " '/tokens?l=CryptoKitties': ['0x35bfd2cfe27ef7af2029d584b9b6c2ca27d9b3c7',\n",
       "  '0xcc70db1ac810677c06d9cc1cdd8c953b12edd3fa',\n",
       "  '0xcc70db1ac810677c06d9cc1cdd8c953b12edd3fa',\n",
       "  '0xcb52c65c53ec7e6f029504c895049a8fb80391cd',\n",
       "  '0x71c7656ec7ab88b098defb751b7401b5f6d8976f'],\n",
       " '/tokens?l=Currency': ['0x35bfd2cfe27ef7af2029d584b9b6c2ca27d9b3c7',\n",
       "  '0xcc70db1ac810677c06d9cc1cdd8c953b12edd3fa',\n",
       "  '0xcc70db1ac810677c06d9cc1cdd8c953b12edd3fa',\n",
       "  '0xcb52c65c53ec7e6f029504c895049a8fb80391cd',\n",
       "  '0x71c7656ec7ab88b098defb751b7401b5f6d8976f'],\n",
       " '/tokens?l=DAO': ['0x35bfd2cfe27ef7af2029d584b9b6c2ca27d9b3c7',\n",
       "  '0xcc70db1ac810677c06d9cc1cdd8c953b12edd3fa',\n",
       "  '0xcc70db1ac810677c06d9cc1cdd8c953b12edd3fa',\n",
       "  '0xcb52c65c53ec7e6f029504c895049a8fb80391cd',\n",
       "  '0x71c7656ec7ab88b098defb751b7401b5f6d8976f'],\n",
       " '/tokens?l=Data': ['0x35bfd2cfe27ef7af2029d584b9b6c2ca27d9b3c7',\n",
       "  '0xcc70db1ac810677c06d9cc1cdd8c953b12edd3fa',\n",
       "  '0xcc70db1ac810677c06d9cc1cdd8c953b12edd3fa',\n",
       "  '0xcb52c65c53ec7e6f029504c895049a8fb80391cd',\n",
       "  '0x71c7656ec7ab88b098defb751b7401b5f6d8976f'],\n",
       " '/tokens?l=Dating': ['0x35bfd2cfe27ef7af2029d584b9b6c2ca27d9b3c7',\n",
       "  '0xcc70db1ac810677c06d9cc1cdd8c953b12edd3fa',\n",
       "  '0xcc70db1ac810677c06d9cc1cdd8c953b12edd3fa',\n",
       "  '0xcb52c65c53ec7e6f029504c895049a8fb80391cd',\n",
       "  '0x71c7656ec7ab88b098defb751b7401b5f6d8976f'],\n",
       " '/tokens?l=Decentralized': ['0x35bfd2cfe27ef7af2029d584b9b6c2ca27d9b3c7',\n",
       "  '0xcc70db1ac810677c06d9cc1cdd8c953b12edd3fa',\n",
       "  '0xcc70db1ac810677c06d9cc1cdd8c953b12edd3fa',\n",
       "  '0xcb52c65c53ec7e6f029504c895049a8fb80391cd',\n",
       "  '0x71c7656ec7ab88b098defb751b7401b5f6d8976f'],\n",
       " '/tokens?l=Dex': ['0x35bfd2cfe27ef7af2029d584b9b6c2ca27d9b3c7',\n",
       "  '0xcc70db1ac810677c06d9cc1cdd8c953b12edd3fa',\n",
       "  '0xcc70db1ac810677c06d9cc1cdd8c953b12edd3fa',\n",
       "  '0xcb52c65c53ec7e6f029504c895049a8fb80391cd',\n",
       "  '0x71c7656ec7ab88b098defb751b7401b5f6d8976f'],\n",
       " '/tokens?l=Diamonds': ['0x35bfd2cfe27ef7af2029d584b9b6c2ca27d9b3c7',\n",
       "  '0xcc70db1ac810677c06d9cc1cdd8c953b12edd3fa',\n",
       "  '0xcc70db1ac810677c06d9cc1cdd8c953b12edd3fa',\n",
       "  '0xcb52c65c53ec7e6f029504c895049a8fb80391cd',\n",
       "  '0x71c7656ec7ab88b098defb751b7401b5f6d8976f'],\n",
       " '/tokens?l=Donate': ['0x35bfd2cfe27ef7af2029d584b9b6c2ca27d9b3c7',\n",
       "  '0xcc70db1ac810677c06d9cc1cdd8c953b12edd3fa',\n",
       "  '0xcc70db1ac810677c06d9cc1cdd8c953b12edd3fa',\n",
       "  '0xcb52c65c53ec7e6f029504c895049a8fb80391cd',\n",
       "  '0x71c7656ec7ab88b098defb751b7401b5f6d8976f'],\n",
       " '/tokens?l=E': ['0x35bfd2cfe27ef7af2029d584b9b6c2ca27d9b3c7',\n",
       "  '0xcc70db1ac810677c06d9cc1cdd8c953b12edd3fa',\n",
       "  '0xcc70db1ac810677c06d9cc1cdd8c953b12edd3fa',\n",
       "  '0xcb52c65c53ec7e6f029504c895049a8fb80391cd',\n",
       "  '0x71c7656ec7ab88b098defb751b7401b5f6d8976f'],\n",
       " '/tokens?l=Education': ['0x35bfd2cfe27ef7af2029d584b9b6c2ca27d9b3c7',\n",
       "  '0xcc70db1ac810677c06d9cc1cdd8c953b12edd3fa',\n",
       "  '0xcc70db1ac810677c06d9cc1cdd8c953b12edd3fa',\n",
       "  '0xcb52c65c53ec7e6f029504c895049a8fb80391cd',\n",
       "  '0x71c7656ec7ab88b098defb751b7401b5f6d8976f'],\n",
       " '/tokens?l=Electricity': ['0x35bfd2cfe27ef7af2029d584b9b6c2ca27d9b3c7',\n",
       "  '0xcc70db1ac810677c06d9cc1cdd8c953b12edd3fa',\n",
       "  '0xcc70db1ac810677c06d9cc1cdd8c953b12edd3fa',\n",
       "  '0xcb52c65c53ec7e6f029504c895049a8fb80391cd',\n",
       "  '0x71c7656ec7ab88b098defb751b7401b5f6d8976f'],\n",
       " '/tokens?l=Electronics': ['0x35bfd2cfe27ef7af2029d584b9b6c2ca27d9b3c7',\n",
       "  '0xcc70db1ac810677c06d9cc1cdd8c953b12edd3fa',\n",
       "  '0xcc70db1ac810677c06d9cc1cdd8c953b12edd3fa',\n",
       "  '0xcb52c65c53ec7e6f029504c895049a8fb80391cd',\n",
       "  '0x71c7656ec7ab88b098defb751b7401b5f6d8976f'],\n",
       " '/tokens?l=Email': ['0x35bfd2cfe27ef7af2029d584b9b6c2ca27d9b3c7',\n",
       "  '0xcc70db1ac810677c06d9cc1cdd8c953b12edd3fa',\n",
       "  '0xcc70db1ac810677c06d9cc1cdd8c953b12edd3fa',\n",
       "  '0xcb52c65c53ec7e6f029504c895049a8fb80391cd',\n",
       "  '0x71c7656ec7ab88b098defb751b7401b5f6d8976f'],\n",
       " '/tokens?l=Energy': ['0x35bfd2cfe27ef7af2029d584b9b6c2ca27d9b3c7',\n",
       "  '0xcc70db1ac810677c06d9cc1cdd8c953b12edd3fa',\n",
       "  '0xcc70db1ac810677c06d9cc1cdd8c953b12edd3fa',\n",
       "  '0xcb52c65c53ec7e6f029504c895049a8fb80391cd',\n",
       "  '0x71c7656ec7ab88b098defb751b7401b5f6d8976f'],\n",
       " '/tokens?l=Entertainment': ['0x35bfd2cfe27ef7af2029d584b9b6c2ca27d9b3c7',\n",
       "  '0xcc70db1ac810677c06d9cc1cdd8c953b12edd3fa',\n",
       "  '0xcc70db1ac810677c06d9cc1cdd8c953b12edd3fa',\n",
       "  '0xcb52c65c53ec7e6f029504c895049a8fb80391cd',\n",
       "  '0x71c7656ec7ab88b098defb751b7401b5f6d8976f'],\n",
       " '/tokens?l=Escrow': ['0x35bfd2cfe27ef7af2029d584b9b6c2ca27d9b3c7',\n",
       "  '0xcc70db1ac810677c06d9cc1cdd8c953b12edd3fa',\n",
       "  '0xcc70db1ac810677c06d9cc1cdd8c953b12edd3fa',\n",
       "  '0xcb52c65c53ec7e6f029504c895049a8fb80391cd',\n",
       "  '0x71c7656ec7ab88b098defb751b7401b5f6d8976f'],\n",
       " '/tokens?l=Etheremon': ['0x35bfd2cfe27ef7af2029d584b9b6c2ca27d9b3c7',\n",
       "  '0xcc70db1ac810677c06d9cc1cdd8c953b12edd3fa',\n",
       "  '0xcc70db1ac810677c06d9cc1cdd8c953b12edd3fa',\n",
       "  '0xcb52c65c53ec7e6f029504c895049a8fb80391cd',\n",
       "  '0x71c7656ec7ab88b098defb751b7401b5f6d8976f'],\n",
       " '/tokens?l=Ethereum': ['0x35bfd2cfe27ef7af2029d584b9b6c2ca27d9b3c7',\n",
       "  '0xcc70db1ac810677c06d9cc1cdd8c953b12edd3fa',\n",
       "  '0xcc70db1ac810677c06d9cc1cdd8c953b12edd3fa',\n",
       "  '0xcb52c65c53ec7e6f029504c895049a8fb80391cd',\n",
       "  '0x71c7656ec7ab88b098defb751b7401b5f6d8976f'],\n",
       " '/tokens?l=Etheroll': ['0x35bfd2cfe27ef7af2029d584b9b6c2ca27d9b3c7',\n",
       "  '0xcc70db1ac810677c06d9cc1cdd8c953b12edd3fa',\n",
       "  '0xcc70db1ac810677c06d9cc1cdd8c953b12edd3fa',\n",
       "  '0xcb52c65c53ec7e6f029504c895049a8fb80391cd',\n",
       "  '0x71c7656ec7ab88b098defb751b7401b5f6d8976f'],\n",
       " '/tokens?l=Events': ['0x35bfd2cfe27ef7af2029d584b9b6c2ca27d9b3c7',\n",
       "  '0xcc70db1ac810677c06d9cc1cdd8c953b12edd3fa',\n",
       "  '0xcc70db1ac810677c06d9cc1cdd8c953b12edd3fa',\n",
       "  '0xcb52c65c53ec7e6f029504c895049a8fb80391cd',\n",
       "  '0x71c7656ec7ab88b098defb751b7401b5f6d8976f'],\n",
       " '/tokens?l=Exchange': ['0x35bfd2cfe27ef7af2029d584b9b6c2ca27d9b3c7',\n",
       "  '0xcc70db1ac810677c06d9cc1cdd8c953b12edd3fa',\n",
       "  '0xcc70db1ac810677c06d9cc1cdd8c953b12edd3fa',\n",
       "  '0xcb52c65c53ec7e6f029504c895049a8fb80391cd',\n",
       "  '0x71c7656ec7ab88b098defb751b7401b5f6d8976f'],\n",
       " '/tokens?l=Fashion': ['0x35bfd2cfe27ef7af2029d584b9b6c2ca27d9b3c7',\n",
       "  '0xcc70db1ac810677c06d9cc1cdd8c953b12edd3fa',\n",
       "  '0xcc70db1ac810677c06d9cc1cdd8c953b12edd3fa',\n",
       "  '0xcb52c65c53ec7e6f029504c895049a8fb80391cd',\n",
       "  '0x71c7656ec7ab88b098defb751b7401b5f6d8976f'],\n",
       " '/tokens?l=Fiat': ['0x35bfd2cfe27ef7af2029d584b9b6c2ca27d9b3c7',\n",
       "  '0xcc70db1ac810677c06d9cc1cdd8c953b12edd3fa',\n",
       "  '0xcc70db1ac810677c06d9cc1cdd8c953b12edd3fa',\n",
       "  '0xcb52c65c53ec7e6f029504c895049a8fb80391cd',\n",
       "  '0x71c7656ec7ab88b098defb751b7401b5f6d8976f'],\n",
       " '/tokens?l=Finance': ['0x35bfd2cfe27ef7af2029d584b9b6c2ca27d9b3c7',\n",
       "  '0xcc70db1ac810677c06d9cc1cdd8c953b12edd3fa',\n",
       "  '0xcc70db1ac810677c06d9cc1cdd8c953b12edd3fa',\n",
       "  '0xcb52c65c53ec7e6f029504c895049a8fb80391cd',\n",
       "  '0x71c7656ec7ab88b098defb751b7401b5f6d8976f'],\n",
       " '/tokens?l=Freelance': ['0x35bfd2cfe27ef7af2029d584b9b6c2ca27d9b3c7',\n",
       "  '0xcc70db1ac810677c06d9cc1cdd8c953b12edd3fa',\n",
       "  '0xcc70db1ac810677c06d9cc1cdd8c953b12edd3fa',\n",
       "  '0xcb52c65c53ec7e6f029504c895049a8fb80391cd',\n",
       "  '0x71c7656ec7ab88b098defb751b7401b5f6d8976f'],\n",
       " '/tokens?l=Fund': ['0x35bfd2cfe27ef7af2029d584b9b6c2ca27d9b3c7',\n",
       "  '0xcc70db1ac810677c06d9cc1cdd8c953b12edd3fa',\n",
       "  '0xcc70db1ac810677c06d9cc1cdd8c953b12edd3fa',\n",
       "  '0xcb52c65c53ec7e6f029504c895049a8fb80391cd',\n",
       "  '0x71c7656ec7ab88b098defb751b7401b5f6d8976f'],\n",
       " '/tokens?l=Gambling': ['0x35bfd2cfe27ef7af2029d584b9b6c2ca27d9b3c7',\n",
       "  '0xcc70db1ac810677c06d9cc1cdd8c953b12edd3fa',\n",
       "  '0xcc70db1ac810677c06d9cc1cdd8c953b12edd3fa',\n",
       "  '0xcb52c65c53ec7e6f029504c895049a8fb80391cd',\n",
       "  '0x71c7656ec7ab88b098defb751b7401b5f6d8976f'],\n",
       " '/tokens?l=Gaming': ['0x35bfd2cfe27ef7af2029d584b9b6c2ca27d9b3c7',\n",
       "  '0xcc70db1ac810677c06d9cc1cdd8c953b12edd3fa',\n",
       "  '0xcc70db1ac810677c06d9cc1cdd8c953b12edd3fa',\n",
       "  '0xcb52c65c53ec7e6f029504c895049a8fb80391cd',\n",
       "  '0x71c7656ec7ab88b098defb751b7401b5f6d8976f'],\n",
       " '/tokens?l=Gas': ['0x35bfd2cfe27ef7af2029d584b9b6c2ca27d9b3c7',\n",
       "  '0xcc70db1ac810677c06d9cc1cdd8c953b12edd3fa',\n",
       "  '0xcc70db1ac810677c06d9cc1cdd8c953b12edd3fa',\n",
       "  '0xcb52c65c53ec7e6f029504c895049a8fb80391cd',\n",
       "  '0x71c7656ec7ab88b098defb751b7401b5f6d8976f'],\n",
       " '/tokens?l=Gods': ['0x35bfd2cfe27ef7af2029d584b9b6c2ca27d9b3c7',\n",
       "  '0xcc70db1ac810677c06d9cc1cdd8c953b12edd3fa',\n",
       "  '0xcc70db1ac810677c06d9cc1cdd8c953b12edd3fa',\n",
       "  '0xcb52c65c53ec7e6f029504c895049a8fb80391cd',\n",
       "  '0x71c7656ec7ab88b098defb751b7401b5f6d8976f'],\n",
       " '/tokens?l=Gold': ['0x35bfd2cfe27ef7af2029d584b9b6c2ca27d9b3c7',\n",
       "  '0xcc70db1ac810677c06d9cc1cdd8c953b12edd3fa',\n",
       "  '0xcc70db1ac810677c06d9cc1cdd8c953b12edd3fa',\n",
       "  '0xcb52c65c53ec7e6f029504c895049a8fb80391cd',\n",
       "  '0x71c7656ec7ab88b098defb751b7401b5f6d8976f'],\n",
       " '/tokens?l=Havven': ['0x35bfd2cfe27ef7af2029d584b9b6c2ca27d9b3c7',\n",
       "  '0xcc70db1ac810677c06d9cc1cdd8c953b12edd3fa',\n",
       "  '0xcc70db1ac810677c06d9cc1cdd8c953b12edd3fa',\n",
       "  '0xcb52c65c53ec7e6f029504c895049a8fb80391cd',\n",
       "  '0x71c7656ec7ab88b098defb751b7401b5f6d8976f'],\n",
       " '/tokens?l=Healthcare': ['0x35bfd2cfe27ef7af2029d584b9b6c2ca27d9b3c7',\n",
       "  '0xcc70db1ac810677c06d9cc1cdd8c953b12edd3fa',\n",
       "  '0xcc70db1ac810677c06d9cc1cdd8c953b12edd3fa',\n",
       "  '0xcb52c65c53ec7e6f029504c895049a8fb80391cd',\n",
       "  '0x71c7656ec7ab88b098defb751b7401b5f6d8976f'],\n",
       " '/tokens?l=Hotel': ['0x35bfd2cfe27ef7af2029d584b9b6c2ca27d9b3c7',\n",
       "  '0xcc70db1ac810677c06d9cc1cdd8c953b12edd3fa',\n",
       "  '0xcc70db1ac810677c06d9cc1cdd8c953b12edd3fa',\n",
       "  '0xcb52c65c53ec7e6f029504c895049a8fb80391cd',\n",
       "  '0x71c7656ec7ab88b098defb751b7401b5f6d8976f'],\n",
       " '/tokens?l=HR': ['0x35bfd2cfe27ef7af2029d584b9b6c2ca27d9b3c7',\n",
       "  '0xcc70db1ac810677c06d9cc1cdd8c953b12edd3fa',\n",
       "  '0xcc70db1ac810677c06d9cc1cdd8c953b12edd3fa',\n",
       "  '0xcb52c65c53ec7e6f029504c895049a8fb80391cd',\n",
       "  '0x71c7656ec7ab88b098defb751b7401b5f6d8976f'],\n",
       " '/tokens?l=Hyper': ['0x35bfd2cfe27ef7af2029d584b9b6c2ca27d9b3c7',\n",
       "  '0xcc70db1ac810677c06d9cc1cdd8c953b12edd3fa',\n",
       "  '0xcc70db1ac810677c06d9cc1cdd8c953b12edd3fa',\n",
       "  '0xcb52c65c53ec7e6f029504c895049a8fb80391cd',\n",
       "  '0x71c7656ec7ab88b098defb751b7401b5f6d8976f'],\n",
       " '/tokens?l=Identity': ['0x35bfd2cfe27ef7af2029d584b9b6c2ca27d9b3c7',\n",
       "  '0xcc70db1ac810677c06d9cc1cdd8c953b12edd3fa',\n",
       "  '0xcc70db1ac810677c06d9cc1cdd8c953b12edd3fa',\n",
       "  '0xcb52c65c53ec7e6f029504c895049a8fb80391cd',\n",
       "  '0x71c7656ec7ab88b098defb751b7401b5f6d8976f'],\n",
       " '/tokens?l=Incubator': ['0x35bfd2cfe27ef7af2029d584b9b6c2ca27d9b3c7',\n",
       "  '0xcc70db1ac810677c06d9cc1cdd8c953b12edd3fa',\n",
       "  '0xcc70db1ac810677c06d9cc1cdd8c953b12edd3fa',\n",
       "  '0xcb52c65c53ec7e6f029504c895049a8fb80391cd',\n",
       "  '0x71c7656ec7ab88b098defb751b7401b5f6d8976f'],\n",
       " '/tokens?l=Insurance': ['0x35bfd2cfe27ef7af2029d584b9b6c2ca27d9b3c7',\n",
       "  '0xcc70db1ac810677c06d9cc1cdd8c953b12edd3fa',\n",
       "  '0xcc70db1ac810677c06d9cc1cdd8c953b12edd3fa',\n",
       "  '0xcb52c65c53ec7e6f029504c895049a8fb80391cd',\n",
       "  '0x71c7656ec7ab88b098defb751b7401b5f6d8976f'],\n",
       " '/tokens?l=Investment': ['0x35bfd2cfe27ef7af2029d584b9b6c2ca27d9b3c7',\n",
       "  '0xcc70db1ac810677c06d9cc1cdd8c953b12edd3fa',\n",
       "  '0xcc70db1ac810677c06d9cc1cdd8c953b12edd3fa',\n",
       "  '0xcb52c65c53ec7e6f029504c895049a8fb80391cd',\n",
       "  '0x71c7656ec7ab88b098defb751b7401b5f6d8976f'],\n",
       " '/tokens?l=Invoice': ['0x35bfd2cfe27ef7af2029d584b9b6c2ca27d9b3c7',\n",
       "  '0xcc70db1ac810677c06d9cc1cdd8c953b12edd3fa',\n",
       "  '0xcc70db1ac810677c06d9cc1cdd8c953b12edd3fa',\n",
       "  '0xcb52c65c53ec7e6f029504c895049a8fb80391cd',\n",
       "  '0x71c7656ec7ab88b098defb751b7401b5f6d8976f'],\n",
       " '/tokens?l=IoT': ['0x35bfd2cfe27ef7af2029d584b9b6c2ca27d9b3c7',\n",
       "  '0xcc70db1ac810677c06d9cc1cdd8c953b12edd3fa',\n",
       "  '0xcc70db1ac810677c06d9cc1cdd8c953b12edd3fa',\n",
       "  '0xcb52c65c53ec7e6f029504c895049a8fb80391cd',\n",
       "  '0x71c7656ec7ab88b098defb751b7401b5f6d8976f'],\n",
       " '/tokens?l=Knowledge': ['0x35bfd2cfe27ef7af2029d584b9b6c2ca27d9b3c7',\n",
       "  '0xcc70db1ac810677c06d9cc1cdd8c953b12edd3fa',\n",
       "  '0xcc70db1ac810677c06d9cc1cdd8c953b12edd3fa',\n",
       "  '0xcb52c65c53ec7e6f029504c895049a8fb80391cd',\n",
       "  '0x71c7656ec7ab88b098defb751b7401b5f6d8976f'],\n",
       " '/tokens?l=Land': ['0x35bfd2cfe27ef7af2029d584b9b6c2ca27d9b3c7',\n",
       "  '0xcc70db1ac810677c06d9cc1cdd8c953b12edd3fa',\n",
       "  '0xcc70db1ac810677c06d9cc1cdd8c953b12edd3fa',\n",
       "  '0xcb52c65c53ec7e6f029504c895049a8fb80391cd',\n",
       "  '0x71c7656ec7ab88b098defb751b7401b5f6d8976f'],\n",
       " '/tokens?l=Liquidity': ['0x35bfd2cfe27ef7af2029d584b9b6c2ca27d9b3c7',\n",
       "  '0xcc70db1ac810677c06d9cc1cdd8c953b12edd3fa',\n",
       "  '0xcc70db1ac810677c06d9cc1cdd8c953b12edd3fa',\n",
       "  '0xcb52c65c53ec7e6f029504c895049a8fb80391cd',\n",
       "  '0x71c7656ec7ab88b098defb751b7401b5f6d8976f'],\n",
       " '/tokens?l=Loans': ['0x35bfd2cfe27ef7af2029d584b9b6c2ca27d9b3c7',\n",
       "  '0xcc70db1ac810677c06d9cc1cdd8c953b12edd3fa',\n",
       "  '0xcc70db1ac810677c06d9cc1cdd8c953b12edd3fa',\n",
       "  '0xcb52c65c53ec7e6f029504c895049a8fb80391cd',\n",
       "  '0x71c7656ec7ab88b098defb751b7401b5f6d8976f'],\n",
       " '/tokens?l=Logistics': ['0x35bfd2cfe27ef7af2029d584b9b6c2ca27d9b3c7',\n",
       "  '0xcc70db1ac810677c06d9cc1cdd8c953b12edd3fa',\n",
       "  '0xcc70db1ac810677c06d9cc1cdd8c953b12edd3fa',\n",
       "  '0xcb52c65c53ec7e6f029504c895049a8fb80391cd',\n",
       "  '0x71c7656ec7ab88b098defb751b7401b5f6d8976f'],\n",
       " '/tokens?l=Loyalty': ['0x35bfd2cfe27ef7af2029d584b9b6c2ca27d9b3c7',\n",
       "  '0xcc70db1ac810677c06d9cc1cdd8c953b12edd3fa',\n",
       "  '0xcc70db1ac810677c06d9cc1cdd8c953b12edd3fa',\n",
       "  '0xcb52c65c53ec7e6f029504c895049a8fb80391cd',\n",
       "  '0x71c7656ec7ab88b098defb751b7401b5f6d8976f'],\n",
       " '/tokens?l=Maker': ['0x35bfd2cfe27ef7af2029d584b9b6c2ca27d9b3c7',\n",
       "  '0xcc70db1ac810677c06d9cc1cdd8c953b12edd3fa',\n",
       "  '0xcc70db1ac810677c06d9cc1cdd8c953b12edd3fa',\n",
       "  '0xcb52c65c53ec7e6f029504c895049a8fb80391cd',\n",
       "  '0x71c7656ec7ab88b098defb751b7401b5f6d8976f'],\n",
       " '/tokens?l=Manufacturing': ['0x35bfd2cfe27ef7af2029d584b9b6c2ca27d9b3c7',\n",
       "  '0xcc70db1ac810677c06d9cc1cdd8c953b12edd3fa',\n",
       "  '0xcc70db1ac810677c06d9cc1cdd8c953b12edd3fa',\n",
       "  '0xcb52c65c53ec7e6f029504c895049a8fb80391cd',\n",
       "  '0x71c7656ec7ab88b098defb751b7401b5f6d8976f'],\n",
       " '/tokens?l=Marketing': ['0x35bfd2cfe27ef7af2029d584b9b6c2ca27d9b3c7',\n",
       "  '0xcc70db1ac810677c06d9cc1cdd8c953b12edd3fa',\n",
       "  '0xcc70db1ac810677c06d9cc1cdd8c953b12edd3fa',\n",
       "  '0xcb52c65c53ec7e6f029504c895049a8fb80391cd',\n",
       "  '0x71c7656ec7ab88b098defb751b7401b5f6d8976f'],\n",
       " '/tokens?l=Marketplace': ['0x35bfd2cfe27ef7af2029d584b9b6c2ca27d9b3c7',\n",
       "  '0xcc70db1ac810677c06d9cc1cdd8c953b12edd3fa',\n",
       "  '0xcc70db1ac810677c06d9cc1cdd8c953b12edd3fa',\n",
       "  '0xcb52c65c53ec7e6f029504c895049a8fb80391cd',\n",
       "  '0x71c7656ec7ab88b098defb751b7401b5f6d8976f'],\n",
       " '/tokens?l=Masternode': ['0x35bfd2cfe27ef7af2029d584b9b6c2ca27d9b3c7',\n",
       "  '0xcc70db1ac810677c06d9cc1cdd8c953b12edd3fa',\n",
       "  '0xcc70db1ac810677c06d9cc1cdd8c953b12edd3fa',\n",
       "  '0xcb52c65c53ec7e6f029504c895049a8fb80391cd',\n",
       "  '0x71c7656ec7ab88b098defb751b7401b5f6d8976f'],\n",
       " '/tokens?l=Media': ['0x35bfd2cfe27ef7af2029d584b9b6c2ca27d9b3c7',\n",
       "  '0xcc70db1ac810677c06d9cc1cdd8c953b12edd3fa',\n",
       "  '0xcc70db1ac810677c06d9cc1cdd8c953b12edd3fa',\n",
       "  '0xcb52c65c53ec7e6f029504c895049a8fb80391cd',\n",
       "  '0x71c7656ec7ab88b098defb751b7401b5f6d8976f'],\n",
       " '/tokens?l=Melon': ['0x35bfd2cfe27ef7af2029d584b9b6c2ca27d9b3c7',\n",
       "  '0xcc70db1ac810677c06d9cc1cdd8c953b12edd3fa',\n",
       "  '0xcc70db1ac810677c06d9cc1cdd8c953b12edd3fa',\n",
       "  '0xcb52c65c53ec7e6f029504c895049a8fb80391cd',\n",
       "  '0x71c7656ec7ab88b098defb751b7401b5f6d8976f'],\n",
       " '/tokens?l=Microtasking': ['0x35bfd2cfe27ef7af2029d584b9b6c2ca27d9b3c7',\n",
       "  '0xcc70db1ac810677c06d9cc1cdd8c953b12edd3fa',\n",
       "  '0xcc70db1ac810677c06d9cc1cdd8c953b12edd3fa',\n",
       "  '0xcb52c65c53ec7e6f029504c895049a8fb80391cd',\n",
       "  '0x71c7656ec7ab88b098defb751b7401b5f6d8976f'],\n",
       " '/tokens?l=Mining': ['0x35bfd2cfe27ef7af2029d584b9b6c2ca27d9b3c7',\n",
       "  '0xcc70db1ac810677c06d9cc1cdd8c953b12edd3fa',\n",
       "  '0xcc70db1ac810677c06d9cc1cdd8c953b12edd3fa',\n",
       "  '0xcb52c65c53ec7e6f029504c895049a8fb80391cd',\n",
       "  '0x71c7656ec7ab88b098defb751b7401b5f6d8976f'],\n",
       " '/tokens?l=Mobile': ['0x35bfd2cfe27ef7af2029d584b9b6c2ca27d9b3c7',\n",
       "  '0xcc70db1ac810677c06d9cc1cdd8c953b12edd3fa',\n",
       "  '0xcc70db1ac810677c06d9cc1cdd8c953b12edd3fa',\n",
       "  '0xcb52c65c53ec7e6f029504c895049a8fb80391cd',\n",
       "  '0x71c7656ec7ab88b098defb751b7401b5f6d8976f'],\n",
       " '/tokens?l=Movie': ['0x35bfd2cfe27ef7af2029d584b9b6c2ca27d9b3c7',\n",
       "  '0xcc70db1ac810677c06d9cc1cdd8c953b12edd3fa',\n",
       "  '0xcc70db1ac810677c06d9cc1cdd8c953b12edd3fa',\n",
       "  '0xcb52c65c53ec7e6f029504c895049a8fb80391cd',\n",
       "  '0x71c7656ec7ab88b098defb751b7401b5f6d8976f'],\n",
       " '/tokens?l=Music': ['0x35bfd2cfe27ef7af2029d584b9b6c2ca27d9b3c7',\n",
       "  '0xcc70db1ac810677c06d9cc1cdd8c953b12edd3fa',\n",
       "  '0xcc70db1ac810677c06d9cc1cdd8c953b12edd3fa',\n",
       "  '0xcb52c65c53ec7e6f029504c895049a8fb80391cd',\n",
       "  '0x71c7656ec7ab88b098defb751b7401b5f6d8976f'],\n",
       " '/tokens?l=News': ['0x35bfd2cfe27ef7af2029d584b9b6c2ca27d9b3c7',\n",
       "  '0xcc70db1ac810677c06d9cc1cdd8c953b12edd3fa',\n",
       "  '0xcc70db1ac810677c06d9cc1cdd8c953b12edd3fa',\n",
       "  '0xcb52c65c53ec7e6f029504c895049a8fb80391cd',\n",
       "  '0x71c7656ec7ab88b098defb751b7401b5f6d8976f'],\n",
       " '/tokens?l=NFT': ['0x35bfd2cfe27ef7af2029d584b9b6c2ca27d9b3c7',\n",
       "  '0xcc70db1ac810677c06d9cc1cdd8c953b12edd3fa',\n",
       "  '0xcc70db1ac810677c06d9cc1cdd8c953b12edd3fa',\n",
       "  '0xcb52c65c53ec7e6f029504c895049a8fb80391cd',\n",
       "  '0x71c7656ec7ab88b098defb751b7401b5f6d8976f'],\n",
       " '/tokens?l=Off': ['0x35bfd2cfe27ef7af2029d584b9b6c2ca27d9b3c7',\n",
       "  '0xcc70db1ac810677c06d9cc1cdd8c953b12edd3fa',\n",
       "  '0xcc70db1ac810677c06d9cc1cdd8c953b12edd3fa',\n",
       "  '0xcb52c65c53ec7e6f029504c895049a8fb80391cd',\n",
       "  '0x71c7656ec7ab88b098defb751b7401b5f6d8976f'],\n",
       " '/tokens?l=Oil': ['0x35bfd2cfe27ef7af2029d584b9b6c2ca27d9b3c7',\n",
       "  '0xcc70db1ac810677c06d9cc1cdd8c953b12edd3fa',\n",
       "  '0xcc70db1ac810677c06d9cc1cdd8c953b12edd3fa',\n",
       "  '0xcb52c65c53ec7e6f029504c895049a8fb80391cd',\n",
       "  '0x71c7656ec7ab88b098defb751b7401b5f6d8976f'],\n",
       " '/tokens?l=Options': ['0x35bfd2cfe27ef7af2029d584b9b6c2ca27d9b3c7',\n",
       "  '0xcc70db1ac810677c06d9cc1cdd8c953b12edd3fa',\n",
       "  '0xcc70db1ac810677c06d9cc1cdd8c953b12edd3fa',\n",
       "  '0xcb52c65c53ec7e6f029504c895049a8fb80391cd',\n",
       "  '0x71c7656ec7ab88b098defb751b7401b5f6d8976f'],\n",
       " '/tokens?l=OTC': ['0x35bfd2cfe27ef7af2029d584b9b6c2ca27d9b3c7',\n",
       "  '0xcc70db1ac810677c06d9cc1cdd8c953b12edd3fa',\n",
       "  '0xcc70db1ac810677c06d9cc1cdd8c953b12edd3fa',\n",
       "  '0xcb52c65c53ec7e6f029504c895049a8fb80391cd',\n",
       "  '0x71c7656ec7ab88b098defb751b7401b5f6d8976f'],\n",
       " '/tokens?l=Others': ['0x35bfd2cfe27ef7af2029d584b9b6c2ca27d9b3c7',\n",
       "  '0xcc70db1ac810677c06d9cc1cdd8c953b12edd3fa',\n",
       "  '0xcc70db1ac810677c06d9cc1cdd8c953b12edd3fa',\n",
       "  '0xcb52c65c53ec7e6f029504c895049a8fb80391cd',\n",
       "  '0x71c7656ec7ab88b098defb751b7401b5f6d8976f'],\n",
       " '/tokens?l=Payment': ['0x35bfd2cfe27ef7af2029d584b9b6c2ca27d9b3c7',\n",
       "  '0xcc70db1ac810677c06d9cc1cdd8c953b12edd3fa',\n",
       "  '0xcc70db1ac810677c06d9cc1cdd8c953b12edd3fa',\n",
       "  '0xcb52c65c53ec7e6f029504c895049a8fb80391cd',\n",
       "  '0x71c7656ec7ab88b098defb751b7401b5f6d8976f'],\n",
       " '/tokens?l=Phish': ['0x35bfd2cfe27ef7af2029d584b9b6c2ca27d9b3c7',\n",
       "  '0xcc70db1ac810677c06d9cc1cdd8c953b12edd3fa',\n",
       "  '0xcc70db1ac810677c06d9cc1cdd8c953b12edd3fa',\n",
       "  '0xcb52c65c53ec7e6f029504c895049a8fb80391cd',\n",
       "  '0x71c7656ec7ab88b098defb751b7401b5f6d8976f'],\n",
       " '/tokens?l=Platform': ['0x35bfd2cfe27ef7af2029d584b9b6c2ca27d9b3c7',\n",
       "  '0xcc70db1ac810677c06d9cc1cdd8c953b12edd3fa',\n",
       "  '0xcc70db1ac810677c06d9cc1cdd8c953b12edd3fa',\n",
       "  '0xcb52c65c53ec7e6f029504c895049a8fb80391cd',\n",
       "  '0x71c7656ec7ab88b098defb751b7401b5f6d8976f'],\n",
       " '/tokens?l=Portfolio': ['0x35bfd2cfe27ef7af2029d584b9b6c2ca27d9b3c7',\n",
       "  '0xcc70db1ac810677c06d9cc1cdd8c953b12edd3fa',\n",
       "  '0xcc70db1ac810677c06d9cc1cdd8c953b12edd3fa',\n",
       "  '0xcb52c65c53ec7e6f029504c895049a8fb80391cd',\n",
       "  '0x71c7656ec7ab88b098defb751b7401b5f6d8976f'],\n",
       " '/tokens?l=POS': ['0x35bfd2cfe27ef7af2029d584b9b6c2ca27d9b3c7',\n",
       "  '0xcc70db1ac810677c06d9cc1cdd8c953b12edd3fa',\n",
       "  '0xcc70db1ac810677c06d9cc1cdd8c953b12edd3fa',\n",
       "  '0xcb52c65c53ec7e6f029504c895049a8fb80391cd',\n",
       "  '0x71c7656ec7ab88b098defb751b7401b5f6d8976f'],\n",
       " '/tokens?l=Prediction': ['0x35bfd2cfe27ef7af2029d584b9b6c2ca27d9b3c7',\n",
       "  '0xcc70db1ac810677c06d9cc1cdd8c953b12edd3fa',\n",
       "  '0xcc70db1ac810677c06d9cc1cdd8c953b12edd3fa',\n",
       "  '0xcb52c65c53ec7e6f029504c895049a8fb80391cd',\n",
       "  '0x71c7656ec7ab88b098defb751b7401b5f6d8976f'],\n",
       " '/tokens?l=Protocol': ['0x35bfd2cfe27ef7af2029d584b9b6c2ca27d9b3c7',\n",
       "  '0xcc70db1ac810677c06d9cc1cdd8c953b12edd3fa',\n",
       "  '0xcc70db1ac810677c06d9cc1cdd8c953b12edd3fa',\n",
       "  '0xcb52c65c53ec7e6f029504c895049a8fb80391cd',\n",
       "  '0x71c7656ec7ab88b098defb751b7401b5f6d8976f'],\n",
       " '/tokens?l=Radio': ['0x35bfd2cfe27ef7af2029d584b9b6c2ca27d9b3c7',\n",
       "  '0xcc70db1ac810677c06d9cc1cdd8c953b12edd3fa',\n",
       "  '0xcc70db1ac810677c06d9cc1cdd8c953b12edd3fa',\n",
       "  '0xcb52c65c53ec7e6f029504c895049a8fb80391cd',\n",
       "  '0x71c7656ec7ab88b098defb751b7401b5f6d8976f'],\n",
       " '/tokens?l=Rating': ['0x35bfd2cfe27ef7af2029d584b9b6c2ca27d9b3c7',\n",
       "  '0xcc70db1ac810677c06d9cc1cdd8c953b12edd3fa',\n",
       "  '0xcc70db1ac810677c06d9cc1cdd8c953b12edd3fa',\n",
       "  '0xcb52c65c53ec7e6f029504c895049a8fb80391cd',\n",
       "  '0x71c7656ec7ab88b098defb751b7401b5f6d8976f'],\n",
       " '/tokens?l=Real': ['0x35bfd2cfe27ef7af2029d584b9b6c2ca27d9b3c7',\n",
       "  '0xcc70db1ac810677c06d9cc1cdd8c953b12edd3fa',\n",
       "  '0xcc70db1ac810677c06d9cc1cdd8c953b12edd3fa',\n",
       "  '0xcb52c65c53ec7e6f029504c895049a8fb80391cd',\n",
       "  '0x71c7656ec7ab88b098defb751b7401b5f6d8976f'],\n",
       " '/tokens?l=Remittance': ['0x35bfd2cfe27ef7af2029d584b9b6c2ca27d9b3c7',\n",
       "  '0xcc70db1ac810677c06d9cc1cdd8c953b12edd3fa',\n",
       "  '0xcc70db1ac810677c06d9cc1cdd8c953b12edd3fa',\n",
       "  '0xcb52c65c53ec7e6f029504c895049a8fb80391cd',\n",
       "  '0x71c7656ec7ab88b098defb751b7401b5f6d8976f'],\n",
       " '/tokens?l=Rent': ['0x35bfd2cfe27ef7af2029d584b9b6c2ca27d9b3c7',\n",
       "  '0xcc70db1ac810677c06d9cc1cdd8c953b12edd3fa',\n",
       "  '0xcc70db1ac810677c06d9cc1cdd8c953b12edd3fa',\n",
       "  '0xcb52c65c53ec7e6f029504c895049a8fb80391cd',\n",
       "  '0x71c7656ec7ab88b098defb751b7401b5f6d8976f'],\n",
       " '/tokens?l=Reputation': ['0x35bfd2cfe27ef7af2029d584b9b6c2ca27d9b3c7',\n",
       "  '0xcc70db1ac810677c06d9cc1cdd8c953b12edd3fa',\n",
       "  '0xcc70db1ac810677c06d9cc1cdd8c953b12edd3fa',\n",
       "  '0xcb52c65c53ec7e6f029504c895049a8fb80391cd',\n",
       "  '0x71c7656ec7ab88b098defb751b7401b5f6d8976f'],\n",
       " '/tokens?l=Retail': ['0x35bfd2cfe27ef7af2029d584b9b6c2ca27d9b3c7',\n",
       "  '0xcc70db1ac810677c06d9cc1cdd8c953b12edd3fa',\n",
       "  '0xcc70db1ac810677c06d9cc1cdd8c953b12edd3fa',\n",
       "  '0xcb52c65c53ec7e6f029504c895049a8fb80391cd',\n",
       "  '0x71c7656ec7ab88b098defb751b7401b5f6d8976f'],\n",
       " '/tokens?l=Ridesharing': ['0x35bfd2cfe27ef7af2029d584b9b6c2ca27d9b3c7',\n",
       "  '0xcc70db1ac810677c06d9cc1cdd8c953b12edd3fa',\n",
       "  '0xcc70db1ac810677c06d9cc1cdd8c953b12edd3fa',\n",
       "  '0xcb52c65c53ec7e6f029504c895049a8fb80391cd',\n",
       "  '0x71c7656ec7ab88b098defb751b7401b5f6d8976f'],\n",
       " '/tokens?l=Security': ['0x35bfd2cfe27ef7af2029d584b9b6c2ca27d9b3c7',\n",
       "  '0xcc70db1ac810677c06d9cc1cdd8c953b12edd3fa',\n",
       "  '0xcc70db1ac810677c06d9cc1cdd8c953b12edd3fa',\n",
       "  '0xcb52c65c53ec7e6f029504c895049a8fb80391cd',\n",
       "  '0x71c7656ec7ab88b098defb751b7401b5f6d8976f'],\n",
       " '/tokens?l=Services': ['0x35bfd2cfe27ef7af2029d584b9b6c2ca27d9b3c7',\n",
       "  '0xcc70db1ac810677c06d9cc1cdd8c953b12edd3fa',\n",
       "  '0xcc70db1ac810677c06d9cc1cdd8c953b12edd3fa',\n",
       "  '0xcb52c65c53ec7e6f029504c895049a8fb80391cd',\n",
       "  '0x71c7656ec7ab88b098defb751b7401b5f6d8976f'],\n",
       " '/tokens?l=Sharing': ['0x35bfd2cfe27ef7af2029d584b9b6c2ca27d9b3c7',\n",
       "  '0xcc70db1ac810677c06d9cc1cdd8c953b12edd3fa',\n",
       "  '0xcc70db1ac810677c06d9cc1cdd8c953b12edd3fa',\n",
       "  '0xcb52c65c53ec7e6f029504c895049a8fb80391cd',\n",
       "  '0x71c7656ec7ab88b098defb751b7401b5f6d8976f'],\n",
       " '/tokens?l=Shipping': ['0x35bfd2cfe27ef7af2029d584b9b6c2ca27d9b3c7',\n",
       "  '0xcc70db1ac810677c06d9cc1cdd8c953b12edd3fa',\n",
       "  '0xcc70db1ac810677c06d9cc1cdd8c953b12edd3fa',\n",
       "  '0xcb52c65c53ec7e6f029504c895049a8fb80391cd',\n",
       "  '0x71c7656ec7ab88b098defb751b7401b5f6d8976f'],\n",
       " '/tokens?l=Smart': ['0x35bfd2cfe27ef7af2029d584b9b6c2ca27d9b3c7',\n",
       "  '0xcc70db1ac810677c06d9cc1cdd8c953b12edd3fa',\n",
       "  '0xcc70db1ac810677c06d9cc1cdd8c953b12edd3fa',\n",
       "  '0xcb52c65c53ec7e6f029504c895049a8fb80391cd',\n",
       "  '0x71c7656ec7ab88b098defb751b7401b5f6d8976f'],\n",
       " '/tokens?l=Social': ['0x35bfd2cfe27ef7af2029d584b9b6c2ca27d9b3c7',\n",
       "  '0xcc70db1ac810677c06d9cc1cdd8c953b12edd3fa',\n",
       "  '0xcc70db1ac810677c06d9cc1cdd8c953b12edd3fa',\n",
       "  '0xcb52c65c53ec7e6f029504c895049a8fb80391cd',\n",
       "  '0x71c7656ec7ab88b098defb751b7401b5f6d8976f'],\n",
       " '/tokens?l=Software': ['0x35bfd2cfe27ef7af2029d584b9b6c2ca27d9b3c7',\n",
       "  '0xcc70db1ac810677c06d9cc1cdd8c953b12edd3fa',\n",
       "  '0xcc70db1ac810677c06d9cc1cdd8c953b12edd3fa',\n",
       "  '0xcb52c65c53ec7e6f029504c895049a8fb80391cd',\n",
       "  '0x71c7656ec7ab88b098defb751b7401b5f6d8976f'],\n",
       " '/tokens?l=Spam': ['0x35bfd2cfe27ef7af2029d584b9b6c2ca27d9b3c7',\n",
       "  '0xcc70db1ac810677c06d9cc1cdd8c953b12edd3fa',\n",
       "  '0xcc70db1ac810677c06d9cc1cdd8c953b12edd3fa',\n",
       "  '0xcb52c65c53ec7e6f029504c895049a8fb80391cd',\n",
       "  '0x71c7656ec7ab88b098defb751b7401b5f6d8976f'],\n",
       " '/tokens?l=Sports': ['0x35bfd2cfe27ef7af2029d584b9b6c2ca27d9b3c7',\n",
       "  '0xcc70db1ac810677c06d9cc1cdd8c953b12edd3fa',\n",
       "  '0xcc70db1ac810677c06d9cc1cdd8c953b12edd3fa',\n",
       "  '0xcb52c65c53ec7e6f029504c895049a8fb80391cd',\n",
       "  '0x71c7656ec7ab88b098defb751b7401b5f6d8976f'],\n",
       " '/tokens?l=Stablecoin': ['0x35bfd2cfe27ef7af2029d584b9b6c2ca27d9b3c7',\n",
       "  '0xcc70db1ac810677c06d9cc1cdd8c953b12edd3fa',\n",
       "  '0xcc70db1ac810677c06d9cc1cdd8c953b12edd3fa',\n",
       "  '0xcb52c65c53ec7e6f029504c895049a8fb80391cd',\n",
       "  '0x71c7656ec7ab88b098defb751b7401b5f6d8976f'],\n",
       " '/tokens?l=Storage': ['0x35bfd2cfe27ef7af2029d584b9b6c2ca27d9b3c7',\n",
       "  '0xcc70db1ac810677c06d9cc1cdd8c953b12edd3fa',\n",
       "  '0xcc70db1ac810677c06d9cc1cdd8c953b12edd3fa',\n",
       "  '0xcb52c65c53ec7e6f029504c895049a8fb80391cd',\n",
       "  '0x71c7656ec7ab88b098defb751b7401b5f6d8976f'],\n",
       " '/tokens?l=Supply': ['0x35bfd2cfe27ef7af2029d584b9b6c2ca27d9b3c7',\n",
       "  '0xcc70db1ac810677c06d9cc1cdd8c953b12edd3fa',\n",
       "  '0xcc70db1ac810677c06d9cc1cdd8c953b12edd3fa',\n",
       "  '0xcb52c65c53ec7e6f029504c895049a8fb80391cd',\n",
       "  '0x71c7656ec7ab88b098defb751b7401b5f6d8976f'],\n",
       " '/tokens?l=Surveillance': ['0x35bfd2cfe27ef7af2029d584b9b6c2ca27d9b3c7',\n",
       "  '0xcc70db1ac810677c06d9cc1cdd8c953b12edd3fa',\n",
       "  '0xcc70db1ac810677c06d9cc1cdd8c953b12edd3fa',\n",
       "  '0xcb52c65c53ec7e6f029504c895049a8fb80391cd',\n",
       "  '0x71c7656ec7ab88b098defb751b7401b5f6d8976f'],\n",
       " '/tokens?l=Telecommunications': ['0x35bfd2cfe27ef7af2029d584b9b6c2ca27d9b3c7',\n",
       "  '0xcc70db1ac810677c06d9cc1cdd8c953b12edd3fa',\n",
       "  '0xcc70db1ac810677c06d9cc1cdd8c953b12edd3fa',\n",
       "  '0xcb52c65c53ec7e6f029504c895049a8fb80391cd',\n",
       "  '0x71c7656ec7ab88b098defb751b7401b5f6d8976f'],\n",
       " '/tokens?l=Ticketing': ['0x35bfd2cfe27ef7af2029d584b9b6c2ca27d9b3c7',\n",
       "  '0xcc70db1ac810677c06d9cc1cdd8c953b12edd3fa',\n",
       "  '0xcc70db1ac810677c06d9cc1cdd8c953b12edd3fa',\n",
       "  '0xcb52c65c53ec7e6f029504c895049a8fb80391cd',\n",
       "  '0x71c7656ec7ab88b098defb751b7401b5f6d8976f'],\n",
       " '/tokens?l=Token': ['0x35bfd2cfe27ef7af2029d584b9b6c2ca27d9b3c7',\n",
       "  '0xcc70db1ac810677c06d9cc1cdd8c953b12edd3fa',\n",
       "  '0xcc70db1ac810677c06d9cc1cdd8c953b12edd3fa',\n",
       "  '0xcb52c65c53ec7e6f029504c895049a8fb80391cd',\n",
       "  '0x71c7656ec7ab88b098defb751b7401b5f6d8976f'],\n",
       " '/tokens?l=Tokenized': ['0x35bfd2cfe27ef7af2029d584b9b6c2ca27d9b3c7',\n",
       "  '0xcc70db1ac810677c06d9cc1cdd8c953b12edd3fa',\n",
       "  '0xcc70db1ac810677c06d9cc1cdd8c953b12edd3fa',\n",
       "  '0xcb52c65c53ec7e6f029504c895049a8fb80391cd',\n",
       "  '0x71c7656ec7ab88b098defb751b7401b5f6d8976f'],\n",
       " '/tokens?l=Tools': ['0x35bfd2cfe27ef7af2029d584b9b6c2ca27d9b3c7',\n",
       "  '0xcc70db1ac810677c06d9cc1cdd8c953b12edd3fa',\n",
       "  '0xcc70db1ac810677c06d9cc1cdd8c953b12edd3fa',\n",
       "  '0xcb52c65c53ec7e6f029504c895049a8fb80391cd',\n",
       "  '0x71c7656ec7ab88b098defb751b7401b5f6d8976f'],\n",
       " '/tokens?l=Trading': ['0x35bfd2cfe27ef7af2029d584b9b6c2ca27d9b3c7',\n",
       "  '0xcc70db1ac810677c06d9cc1cdd8c953b12edd3fa',\n",
       "  '0xcc70db1ac810677c06d9cc1cdd8c953b12edd3fa',\n",
       "  '0xcb52c65c53ec7e6f029504c895049a8fb80391cd',\n",
       "  '0x71c7656ec7ab88b098defb751b7401b5f6d8976f'],\n",
       " '/tokens?l=Transportation': ['0x35bfd2cfe27ef7af2029d584b9b6c2ca27d9b3c7',\n",
       "  '0xcc70db1ac810677c06d9cc1cdd8c953b12edd3fa',\n",
       "  '0xcc70db1ac810677c06d9cc1cdd8c953b12edd3fa',\n",
       "  '0xcb52c65c53ec7e6f029504c895049a8fb80391cd',\n",
       "  '0x71c7656ec7ab88b098defb751b7401b5f6d8976f'],\n",
       " '/tokens?l=Travel': ['0x35bfd2cfe27ef7af2029d584b9b6c2ca27d9b3c7',\n",
       "  '0xcc70db1ac810677c06d9cc1cdd8c953b12edd3fa',\n",
       "  '0xcc70db1ac810677c06d9cc1cdd8c953b12edd3fa',\n",
       "  '0xcb52c65c53ec7e6f029504c895049a8fb80391cd',\n",
       "  '0x71c7656ec7ab88b098defb751b7401b5f6d8976f'],\n",
       " '/tokens?l=Vehicle': ['0x35bfd2cfe27ef7af2029d584b9b6c2ca27d9b3c7',\n",
       "  '0xcc70db1ac810677c06d9cc1cdd8c953b12edd3fa',\n",
       "  '0xcc70db1ac810677c06d9cc1cdd8c953b12edd3fa',\n",
       "  '0xcb52c65c53ec7e6f029504c895049a8fb80391cd',\n",
       "  '0x71c7656ec7ab88b098defb751b7401b5f6d8976f'],\n",
       " '/tokens?l=Video': ['0x35bfd2cfe27ef7af2029d584b9b6c2ca27d9b3c7',\n",
       "  '0xcc70db1ac810677c06d9cc1cdd8c953b12edd3fa',\n",
       "  '0xcc70db1ac810677c06d9cc1cdd8c953b12edd3fa',\n",
       "  '0xcb52c65c53ec7e6f029504c895049a8fb80391cd',\n",
       "  '0x71c7656ec7ab88b098defb751b7401b5f6d8976f'],\n",
       " '/tokens?l=VPN': ['0x35bfd2cfe27ef7af2029d584b9b6c2ca27d9b3c7',\n",
       "  '0xcc70db1ac810677c06d9cc1cdd8c953b12edd3fa',\n",
       "  '0xcc70db1ac810677c06d9cc1cdd8c953b12edd3fa',\n",
       "  '0xcb52c65c53ec7e6f029504c895049a8fb80391cd',\n",
       "  '0x71c7656ec7ab88b098defb751b7401b5f6d8976f'],\n",
       " '/tokens?l=VR': ['0x35bfd2cfe27ef7af2029d584b9b6c2ca27d9b3c7',\n",
       "  '0xcc70db1ac810677c06d9cc1cdd8c953b12edd3fa',\n",
       "  '0xcc70db1ac810677c06d9cc1cdd8c953b12edd3fa',\n",
       "  '0xcb52c65c53ec7e6f029504c895049a8fb80391cd',\n",
       "  '0x71c7656ec7ab88b098defb751b7401b5f6d8976f'],\n",
       " '/tokens?l=Wallet': ['0x35bfd2cfe27ef7af2029d584b9b6c2ca27d9b3c7',\n",
       "  '0xcc70db1ac810677c06d9cc1cdd8c953b12edd3fa',\n",
       "  '0xcc70db1ac810677c06d9cc1cdd8c953b12edd3fa',\n",
       "  '0xcb52c65c53ec7e6f029504c895049a8fb80391cd',\n",
       "  '0x71c7656ec7ab88b098defb751b7401b5f6d8976f'],\n",
       " '/tokens?l=Wi': ['0x35bfd2cfe27ef7af2029d584b9b6c2ca27d9b3c7',\n",
       "  '0xcc70db1ac810677c06d9cc1cdd8c953b12edd3fa',\n",
       "  '0xcc70db1ac810677c06d9cc1cdd8c953b12edd3fa',\n",
       "  '0xcb52c65c53ec7e6f029504c895049a8fb80391cd',\n",
       "  '0x71c7656ec7ab88b098defb751b7401b5f6d8976f']}"
      ]
     },
     "execution_count": 38,
     "metadata": {},
     "output_type": "execute_result"
    }
   ],
   "source": [
    "all_address_dict"
   ]
  },
  {
   "cell_type": "code",
   "execution_count": 51,
   "metadata": {},
   "outputs": [
    {
     "data": {
      "text/html": [
       "<div>\n",
       "<style scoped>\n",
       "    .dataframe tbody tr th:only-of-type {\n",
       "        vertical-align: middle;\n",
       "    }\n",
       "\n",
       "    .dataframe tbody tr th {\n",
       "        vertical-align: top;\n",
       "    }\n",
       "\n",
       "    .dataframe thead th {\n",
       "        text-align: right;\n",
       "    }\n",
       "</style>\n",
       "<table border=\"1\" class=\"dataframe\">\n",
       "  <thead>\n",
       "    <tr style=\"text-align: right;\">\n",
       "      <th></th>\n",
       "      <th>Address_ID</th>\n",
       "      <th>address</th>\n",
       "    </tr>\n",
       "  </thead>\n",
       "  <tbody>\n",
       "    <tr>\n",
       "      <th>0</th>\n",
       "      <td>/tokens?l=0x</td>\n",
       "      <td>0x35bfd2cfe27ef7af2029d584b9b6c2ca27d9b3c7</td>\n",
       "    </tr>\n",
       "    <tr>\n",
       "      <th>1</th>\n",
       "      <td>/tokens?l=0x</td>\n",
       "      <td>0xcc70db1ac810677c06d9cc1cdd8c953b12edd3fa</td>\n",
       "    </tr>\n",
       "    <tr>\n",
       "      <th>2</th>\n",
       "      <td>/tokens?l=0x</td>\n",
       "      <td>0xcc70db1ac810677c06d9cc1cdd8c953b12edd3fa</td>\n",
       "    </tr>\n",
       "    <tr>\n",
       "      <th>3</th>\n",
       "      <td>/tokens?l=0x</td>\n",
       "      <td>0xcb52c65c53ec7e6f029504c895049a8fb80391cd</td>\n",
       "    </tr>\n",
       "    <tr>\n",
       "      <th>4</th>\n",
       "      <td>/tokens?l=0x</td>\n",
       "      <td>0x71c7656ec7ab88b098defb751b7401b5f6d8976f</td>\n",
       "    </tr>\n",
       "    <tr>\n",
       "      <th>5</th>\n",
       "      <td>/tokens?l=0xUniverse</td>\n",
       "      <td>0x35bfd2cfe27ef7af2029d584b9b6c2ca27d9b3c7</td>\n",
       "    </tr>\n",
       "    <tr>\n",
       "      <th>6</th>\n",
       "      <td>/tokens?l=0xUniverse</td>\n",
       "      <td>0xcc70db1ac810677c06d9cc1cdd8c953b12edd3fa</td>\n",
       "    </tr>\n",
       "    <tr>\n",
       "      <th>7</th>\n",
       "      <td>/tokens?l=0xUniverse</td>\n",
       "      <td>0xcc70db1ac810677c06d9cc1cdd8c953b12edd3fa</td>\n",
       "    </tr>\n",
       "    <tr>\n",
       "      <th>8</th>\n",
       "      <td>/tokens?l=0xUniverse</td>\n",
       "      <td>0xcb52c65c53ec7e6f029504c895049a8fb80391cd</td>\n",
       "    </tr>\n",
       "    <tr>\n",
       "      <th>9</th>\n",
       "      <td>/tokens?l=0xUniverse</td>\n",
       "      <td>0x71c7656ec7ab88b098defb751b7401b5f6d8976f</td>\n",
       "    </tr>\n",
       "    <tr>\n",
       "      <th>10</th>\n",
       "      <td>/tokens?l=Adult</td>\n",
       "      <td>0x35bfd2cfe27ef7af2029d584b9b6c2ca27d9b3c7</td>\n",
       "    </tr>\n",
       "    <tr>\n",
       "      <th>11</th>\n",
       "      <td>/tokens?l=Adult</td>\n",
       "      <td>0xcc70db1ac810677c06d9cc1cdd8c953b12edd3fa</td>\n",
       "    </tr>\n",
       "    <tr>\n",
       "      <th>12</th>\n",
       "      <td>/tokens?l=Adult</td>\n",
       "      <td>0xcc70db1ac810677c06d9cc1cdd8c953b12edd3fa</td>\n",
       "    </tr>\n",
       "    <tr>\n",
       "      <th>13</th>\n",
       "      <td>/tokens?l=Adult</td>\n",
       "      <td>0xcb52c65c53ec7e6f029504c895049a8fb80391cd</td>\n",
       "    </tr>\n",
       "    <tr>\n",
       "      <th>14</th>\n",
       "      <td>/tokens?l=Adult</td>\n",
       "      <td>0x71c7656ec7ab88b098defb751b7401b5f6d8976f</td>\n",
       "    </tr>\n",
       "    <tr>\n",
       "      <th>15</th>\n",
       "      <td>/tokens?l=Advertising</td>\n",
       "      <td>0x35bfd2cfe27ef7af2029d584b9b6c2ca27d9b3c7</td>\n",
       "    </tr>\n",
       "    <tr>\n",
       "      <th>16</th>\n",
       "      <td>/tokens?l=Advertising</td>\n",
       "      <td>0xcc70db1ac810677c06d9cc1cdd8c953b12edd3fa</td>\n",
       "    </tr>\n",
       "    <tr>\n",
       "      <th>17</th>\n",
       "      <td>/tokens?l=Advertising</td>\n",
       "      <td>0xcc70db1ac810677c06d9cc1cdd8c953b12edd3fa</td>\n",
       "    </tr>\n",
       "    <tr>\n",
       "      <th>18</th>\n",
       "      <td>/tokens?l=Advertising</td>\n",
       "      <td>0xcb52c65c53ec7e6f029504c895049a8fb80391cd</td>\n",
       "    </tr>\n",
       "    <tr>\n",
       "      <th>19</th>\n",
       "      <td>/tokens?l=Advertising</td>\n",
       "      <td>0x71c7656ec7ab88b098defb751b7401b5f6d8976f</td>\n",
       "    </tr>\n",
       "    <tr>\n",
       "      <th>20</th>\n",
       "      <td>/tokens?l=Agriculture</td>\n",
       "      <td>0x35bfd2cfe27ef7af2029d584b9b6c2ca27d9b3c7</td>\n",
       "    </tr>\n",
       "    <tr>\n",
       "      <th>21</th>\n",
       "      <td>/tokens?l=Agriculture</td>\n",
       "      <td>0xcc70db1ac810677c06d9cc1cdd8c953b12edd3fa</td>\n",
       "    </tr>\n",
       "    <tr>\n",
       "      <th>22</th>\n",
       "      <td>/tokens?l=Agriculture</td>\n",
       "      <td>0xcc70db1ac810677c06d9cc1cdd8c953b12edd3fa</td>\n",
       "    </tr>\n",
       "    <tr>\n",
       "      <th>23</th>\n",
       "      <td>/tokens?l=Agriculture</td>\n",
       "      <td>0xcb52c65c53ec7e6f029504c895049a8fb80391cd</td>\n",
       "    </tr>\n",
       "    <tr>\n",
       "      <th>24</th>\n",
       "      <td>/tokens?l=Agriculture</td>\n",
       "      <td>0x71c7656ec7ab88b098defb751b7401b5f6d8976f</td>\n",
       "    </tr>\n",
       "    <tr>\n",
       "      <th>25</th>\n",
       "      <td>/tokens?l=Analytics</td>\n",
       "      <td>0x35bfd2cfe27ef7af2029d584b9b6c2ca27d9b3c7</td>\n",
       "    </tr>\n",
       "    <tr>\n",
       "      <th>26</th>\n",
       "      <td>/tokens?l=Analytics</td>\n",
       "      <td>0xcc70db1ac810677c06d9cc1cdd8c953b12edd3fa</td>\n",
       "    </tr>\n",
       "    <tr>\n",
       "      <th>27</th>\n",
       "      <td>/tokens?l=Analytics</td>\n",
       "      <td>0xcc70db1ac810677c06d9cc1cdd8c953b12edd3fa</td>\n",
       "    </tr>\n",
       "    <tr>\n",
       "      <th>28</th>\n",
       "      <td>/tokens?l=Analytics</td>\n",
       "      <td>0xcb52c65c53ec7e6f029504c895049a8fb80391cd</td>\n",
       "    </tr>\n",
       "    <tr>\n",
       "      <th>29</th>\n",
       "      <td>/tokens?l=Analytics</td>\n",
       "      <td>0x71c7656ec7ab88b098defb751b7401b5f6d8976f</td>\n",
       "    </tr>\n",
       "    <tr>\n",
       "      <th>30</th>\n",
       "      <td>/tokens?l=Art</td>\n",
       "      <td>0x35bfd2cfe27ef7af2029d584b9b6c2ca27d9b3c7</td>\n",
       "    </tr>\n",
       "    <tr>\n",
       "      <th>31</th>\n",
       "      <td>/tokens?l=Art</td>\n",
       "      <td>0xcc70db1ac810677c06d9cc1cdd8c953b12edd3fa</td>\n",
       "    </tr>\n",
       "    <tr>\n",
       "      <th>32</th>\n",
       "      <td>/tokens?l=Art</td>\n",
       "      <td>0xcc70db1ac810677c06d9cc1cdd8c953b12edd3fa</td>\n",
       "    </tr>\n",
       "    <tr>\n",
       "      <th>33</th>\n",
       "      <td>/tokens?l=Art</td>\n",
       "      <td>0xcb52c65c53ec7e6f029504c895049a8fb80391cd</td>\n",
       "    </tr>\n",
       "    <tr>\n",
       "      <th>34</th>\n",
       "      <td>/tokens?l=Art</td>\n",
       "      <td>0x71c7656ec7ab88b098defb751b7401b5f6d8976f</td>\n",
       "    </tr>\n",
       "    <tr>\n",
       "      <th>35</th>\n",
       "      <td>/tokens?l=Artificial</td>\n",
       "      <td>0x35bfd2cfe27ef7af2029d584b9b6c2ca27d9b3c7</td>\n",
       "    </tr>\n",
       "    <tr>\n",
       "      <th>36</th>\n",
       "      <td>/tokens?l=Artificial</td>\n",
       "      <td>0xcc70db1ac810677c06d9cc1cdd8c953b12edd3fa</td>\n",
       "    </tr>\n",
       "    <tr>\n",
       "      <th>37</th>\n",
       "      <td>/tokens?l=Artificial</td>\n",
       "      <td>0xcc70db1ac810677c06d9cc1cdd8c953b12edd3fa</td>\n",
       "    </tr>\n",
       "    <tr>\n",
       "      <th>38</th>\n",
       "      <td>/tokens?l=Artificial</td>\n",
       "      <td>0xcb52c65c53ec7e6f029504c895049a8fb80391cd</td>\n",
       "    </tr>\n",
       "    <tr>\n",
       "      <th>39</th>\n",
       "      <td>/tokens?l=Artificial</td>\n",
       "      <td>0x71c7656ec7ab88b098defb751b7401b5f6d8976f</td>\n",
       "    </tr>\n",
       "    <tr>\n",
       "      <th>40</th>\n",
       "      <td>/tokens?l=Asset</td>\n",
       "      <td>0x35bfd2cfe27ef7af2029d584b9b6c2ca27d9b3c7</td>\n",
       "    </tr>\n",
       "    <tr>\n",
       "      <th>41</th>\n",
       "      <td>/tokens?l=Asset</td>\n",
       "      <td>0xcc70db1ac810677c06d9cc1cdd8c953b12edd3fa</td>\n",
       "    </tr>\n",
       "    <tr>\n",
       "      <th>42</th>\n",
       "      <td>/tokens?l=Asset</td>\n",
       "      <td>0xcc70db1ac810677c06d9cc1cdd8c953b12edd3fa</td>\n",
       "    </tr>\n",
       "    <tr>\n",
       "      <th>43</th>\n",
       "      <td>/tokens?l=Asset</td>\n",
       "      <td>0xcb52c65c53ec7e6f029504c895049a8fb80391cd</td>\n",
       "    </tr>\n",
       "    <tr>\n",
       "      <th>44</th>\n",
       "      <td>/tokens?l=Asset</td>\n",
       "      <td>0x71c7656ec7ab88b098defb751b7401b5f6d8976f</td>\n",
       "    </tr>\n",
       "    <tr>\n",
       "      <th>45</th>\n",
       "      <td>/tokens?l=Authentication</td>\n",
       "      <td>0x35bfd2cfe27ef7af2029d584b9b6c2ca27d9b3c7</td>\n",
       "    </tr>\n",
       "    <tr>\n",
       "      <th>46</th>\n",
       "      <td>/tokens?l=Authentication</td>\n",
       "      <td>0xcc70db1ac810677c06d9cc1cdd8c953b12edd3fa</td>\n",
       "    </tr>\n",
       "    <tr>\n",
       "      <th>47</th>\n",
       "      <td>/tokens?l=Authentication</td>\n",
       "      <td>0xcc70db1ac810677c06d9cc1cdd8c953b12edd3fa</td>\n",
       "    </tr>\n",
       "    <tr>\n",
       "      <th>48</th>\n",
       "      <td>/tokens?l=Authentication</td>\n",
       "      <td>0xcb52c65c53ec7e6f029504c895049a8fb80391cd</td>\n",
       "    </tr>\n",
       "    <tr>\n",
       "      <th>49</th>\n",
       "      <td>/tokens?l=Authentication</td>\n",
       "      <td>0x71c7656ec7ab88b098defb751b7401b5f6d8976f</td>\n",
       "    </tr>\n",
       "    <tr>\n",
       "      <th>...</th>\n",
       "      <td>...</td>\n",
       "      <td>...</td>\n",
       "    </tr>\n",
       "    <tr>\n",
       "      <th>1199</th>\n",
       "      <td>Token</td>\n",
       "      <td>0xcb52c65c53ec7e6f029504c895049a8fb80391cd</td>\n",
       "    </tr>\n",
       "    <tr>\n",
       "      <th>1200</th>\n",
       "      <td>Token</td>\n",
       "      <td>0x71c7656ec7ab88b098defb751b7401b5f6d8976f</td>\n",
       "    </tr>\n",
       "    <tr>\n",
       "      <th>1201</th>\n",
       "      <td>Trading</td>\n",
       "      <td>0x059550a1ca3c46a2adb803e9e3ea4585a34f004a</td>\n",
       "    </tr>\n",
       "    <tr>\n",
       "      <th>1202</th>\n",
       "      <td>Trading</td>\n",
       "      <td>0x35bfd2cfe27ef7af2029d584b9b6c2ca27d9b3c7</td>\n",
       "    </tr>\n",
       "    <tr>\n",
       "      <th>1203</th>\n",
       "      <td>Trading</td>\n",
       "      <td>0xcc70db1ac810677c06d9cc1cdd8c953b12edd3fa</td>\n",
       "    </tr>\n",
       "    <tr>\n",
       "      <th>1204</th>\n",
       "      <td>Trading</td>\n",
       "      <td>0xcc70db1ac810677c06d9cc1cdd8c953b12edd3fa</td>\n",
       "    </tr>\n",
       "    <tr>\n",
       "      <th>1205</th>\n",
       "      <td>Trading</td>\n",
       "      <td>0xcb52c65c53ec7e6f029504c895049a8fb80391cd</td>\n",
       "    </tr>\n",
       "    <tr>\n",
       "      <th>1206</th>\n",
       "      <td>Trading</td>\n",
       "      <td>0x71c7656ec7ab88b098defb751b7401b5f6d8976f</td>\n",
       "    </tr>\n",
       "    <tr>\n",
       "      <th>1207</th>\n",
       "      <td>Wallet</td>\n",
       "      <td>0x35bfd2cfe27ef7af2029d584b9b6c2ca27d9b3c7</td>\n",
       "    </tr>\n",
       "    <tr>\n",
       "      <th>1208</th>\n",
       "      <td>Wallet</td>\n",
       "      <td>0xcc70db1ac810677c06d9cc1cdd8c953b12edd3fa</td>\n",
       "    </tr>\n",
       "    <tr>\n",
       "      <th>1209</th>\n",
       "      <td>Wallet</td>\n",
       "      <td>0xcc70db1ac810677c06d9cc1cdd8c953b12edd3fa</td>\n",
       "    </tr>\n",
       "    <tr>\n",
       "      <th>1210</th>\n",
       "      <td>Wallet</td>\n",
       "      <td>0xcb52c65c53ec7e6f029504c895049a8fb80391cd</td>\n",
       "    </tr>\n",
       "    <tr>\n",
       "      <th>1211</th>\n",
       "      <td>Wallet</td>\n",
       "      <td>0x71c7656ec7ab88b098defb751b7401b5f6d8976f</td>\n",
       "    </tr>\n",
       "    <tr>\n",
       "      <th>1212</th>\n",
       "      <td>White</td>\n",
       "      <td>0x35bfd2cfe27ef7af2029d584b9b6c2ca27d9b3c7</td>\n",
       "    </tr>\n",
       "    <tr>\n",
       "      <th>1213</th>\n",
       "      <td>White</td>\n",
       "      <td>0xcc70db1ac810677c06d9cc1cdd8c953b12edd3fa</td>\n",
       "    </tr>\n",
       "    <tr>\n",
       "      <th>1214</th>\n",
       "      <td>White</td>\n",
       "      <td>0xcc70db1ac810677c06d9cc1cdd8c953b12edd3fa</td>\n",
       "    </tr>\n",
       "    <tr>\n",
       "      <th>1215</th>\n",
       "      <td>White</td>\n",
       "      <td>0xcb52c65c53ec7e6f029504c895049a8fb80391cd</td>\n",
       "    </tr>\n",
       "    <tr>\n",
       "      <th>1216</th>\n",
       "      <td>White</td>\n",
       "      <td>0x71c7656ec7ab88b098defb751b7401b5f6d8976f</td>\n",
       "    </tr>\n",
       "    <tr>\n",
       "      <th>1217</th>\n",
       "      <td>Zethr</td>\n",
       "      <td>0xd48b633045af65ff636f3c6edd744748351e020d</td>\n",
       "    </tr>\n",
       "    <tr>\n",
       "      <th>1218</th>\n",
       "      <td>Zethr</td>\n",
       "      <td>0x7430984e1d05d5f447c747123dd26845f6f17544</td>\n",
       "    </tr>\n",
       "    <tr>\n",
       "      <th>1219</th>\n",
       "      <td>Zethr</td>\n",
       "      <td>0x5986d909b2fd4e8a613160ffa58e1cf067763133</td>\n",
       "    </tr>\n",
       "    <tr>\n",
       "      <th>1220</th>\n",
       "      <td>Zethr</td>\n",
       "      <td>0xe69c6002f218d6939e13eefbb3d984b22c4e0448</td>\n",
       "    </tr>\n",
       "    <tr>\n",
       "      <th>1221</th>\n",
       "      <td>Zethr</td>\n",
       "      <td>0x5a1dbff1a772bc35f53c77509b4dc1624c65e6ec</td>\n",
       "    </tr>\n",
       "    <tr>\n",
       "      <th>1222</th>\n",
       "      <td>Zethr</td>\n",
       "      <td>0xb7e5f473e5550d7ca9857561269531787094b715</td>\n",
       "    </tr>\n",
       "    <tr>\n",
       "      <th>1223</th>\n",
       "      <td>Zethr</td>\n",
       "      <td>0x35bfd2cfe27ef7af2029d584b9b6c2ca27d9b3c7</td>\n",
       "    </tr>\n",
       "    <tr>\n",
       "      <th>1224</th>\n",
       "      <td>Zethr</td>\n",
       "      <td>0xcc70db1ac810677c06d9cc1cdd8c953b12edd3fa</td>\n",
       "    </tr>\n",
       "    <tr>\n",
       "      <th>1225</th>\n",
       "      <td>Zethr</td>\n",
       "      <td>0xcc70db1ac810677c06d9cc1cdd8c953b12edd3fa</td>\n",
       "    </tr>\n",
       "    <tr>\n",
       "      <th>1226</th>\n",
       "      <td>Zethr</td>\n",
       "      <td>0xcb52c65c53ec7e6f029504c895049a8fb80391cd</td>\n",
       "    </tr>\n",
       "    <tr>\n",
       "      <th>1227</th>\n",
       "      <td>Zethr</td>\n",
       "      <td>0x71c7656ec7ab88b098defb751b7401b5f6d8976f</td>\n",
       "    </tr>\n",
       "    <tr>\n",
       "      <th>1228</th>\n",
       "      <td>dYdX</td>\n",
       "      <td>0x57b98aa8a8b69c6295195d153fe6edd0b0d176ac</td>\n",
       "    </tr>\n",
       "    <tr>\n",
       "      <th>1229</th>\n",
       "      <td>dYdX</td>\n",
       "      <td>0xfbc08a66f8bac391f21472d9625c1092ff41cc04</td>\n",
       "    </tr>\n",
       "    <tr>\n",
       "      <th>1230</th>\n",
       "      <td>dYdX</td>\n",
       "      <td>0x686f7d0b698b6780a8ce1d6ae13bb8c813552ff3</td>\n",
       "    </tr>\n",
       "    <tr>\n",
       "      <th>1231</th>\n",
       "      <td>dYdX</td>\n",
       "      <td>0x2657eca107d7c2abcf72c7a97c8eeef863c22507</td>\n",
       "    </tr>\n",
       "    <tr>\n",
       "      <th>1232</th>\n",
       "      <td>dYdX</td>\n",
       "      <td>0x5be497a12e92b8deb68da9d0ed9943f8dc3067ca</td>\n",
       "    </tr>\n",
       "    <tr>\n",
       "      <th>1233</th>\n",
       "      <td>dYdX</td>\n",
       "      <td>0xc72786ad71b5ef5326299409d5fe6912c05635ab</td>\n",
       "    </tr>\n",
       "    <tr>\n",
       "      <th>1234</th>\n",
       "      <td>dYdX</td>\n",
       "      <td>0x1098898efacd41e1824cd610f52d0f8690bdc87a</td>\n",
       "    </tr>\n",
       "    <tr>\n",
       "      <th>1235</th>\n",
       "      <td>dYdX</td>\n",
       "      <td>0x61fa58d7ef40d6f6853740330b62ccad34f8bc04</td>\n",
       "    </tr>\n",
       "    <tr>\n",
       "      <th>1236</th>\n",
       "      <td>dYdX</td>\n",
       "      <td>0x36bf21c8e661b21e6166e4385f574941fdc6caff</td>\n",
       "    </tr>\n",
       "    <tr>\n",
       "      <th>1237</th>\n",
       "      <td>dYdX</td>\n",
       "      <td>0xcb17e969288ae849d5e0717694c5c56e70e798ed</td>\n",
       "    </tr>\n",
       "    <tr>\n",
       "      <th>1238</th>\n",
       "      <td>dYdX</td>\n",
       "      <td>0xeafd335c0e72bb89857972ee7a3ba90bd5a2f7fd</td>\n",
       "    </tr>\n",
       "    <tr>\n",
       "      <th>1239</th>\n",
       "      <td>dYdX</td>\n",
       "      <td>0x5199071825cc1d6cd019b0d7d42b08106f6cf16d</td>\n",
       "    </tr>\n",
       "    <tr>\n",
       "      <th>1240</th>\n",
       "      <td>dYdX</td>\n",
       "      <td>0x8418bb725b3ac45ec8fff3791dd8b4e0480cc2a2</td>\n",
       "    </tr>\n",
       "    <tr>\n",
       "      <th>1241</th>\n",
       "      <td>dYdX</td>\n",
       "      <td>0x5d4b4d9f5274f72d7d4308597d0ea95b97b094cf</td>\n",
       "    </tr>\n",
       "    <tr>\n",
       "      <th>1242</th>\n",
       "      <td>dYdX</td>\n",
       "      <td>0xa26d16a21805b14b2977555ffdea34e5e6fc43ba</td>\n",
       "    </tr>\n",
       "    <tr>\n",
       "      <th>1243</th>\n",
       "      <td>dYdX</td>\n",
       "      <td>0x059550a1ca3c46a2adb803e9e3ea4585a34f004a</td>\n",
       "    </tr>\n",
       "    <tr>\n",
       "      <th>1244</th>\n",
       "      <td>dYdX</td>\n",
       "      <td>0x35bfd2cfe27ef7af2029d584b9b6c2ca27d9b3c7</td>\n",
       "    </tr>\n",
       "    <tr>\n",
       "      <th>1245</th>\n",
       "      <td>dYdX</td>\n",
       "      <td>0xcc70db1ac810677c06d9cc1cdd8c953b12edd3fa</td>\n",
       "    </tr>\n",
       "    <tr>\n",
       "      <th>1246</th>\n",
       "      <td>dYdX</td>\n",
       "      <td>0xcc70db1ac810677c06d9cc1cdd8c953b12edd3fa</td>\n",
       "    </tr>\n",
       "    <tr>\n",
       "      <th>1247</th>\n",
       "      <td>dYdX</td>\n",
       "      <td>0xcb52c65c53ec7e6f029504c895049a8fb80391cd</td>\n",
       "    </tr>\n",
       "    <tr>\n",
       "      <th>1248</th>\n",
       "      <td>dYdX</td>\n",
       "      <td>0x71c7656ec7ab88b098defb751b7401b5f6d8976f</td>\n",
       "    </tr>\n",
       "  </tbody>\n",
       "</table>\n",
       "<p>1249 rows × 2 columns</p>\n",
       "</div>"
      ],
      "text/plain": [
       "                    Address_ID                                     address\n",
       "0                 /tokens?l=0x  0x35bfd2cfe27ef7af2029d584b9b6c2ca27d9b3c7\n",
       "1                 /tokens?l=0x  0xcc70db1ac810677c06d9cc1cdd8c953b12edd3fa\n",
       "2                 /tokens?l=0x  0xcc70db1ac810677c06d9cc1cdd8c953b12edd3fa\n",
       "3                 /tokens?l=0x  0xcb52c65c53ec7e6f029504c895049a8fb80391cd\n",
       "4                 /tokens?l=0x  0x71c7656ec7ab88b098defb751b7401b5f6d8976f\n",
       "5         /tokens?l=0xUniverse  0x35bfd2cfe27ef7af2029d584b9b6c2ca27d9b3c7\n",
       "6         /tokens?l=0xUniverse  0xcc70db1ac810677c06d9cc1cdd8c953b12edd3fa\n",
       "7         /tokens?l=0xUniverse  0xcc70db1ac810677c06d9cc1cdd8c953b12edd3fa\n",
       "8         /tokens?l=0xUniverse  0xcb52c65c53ec7e6f029504c895049a8fb80391cd\n",
       "9         /tokens?l=0xUniverse  0x71c7656ec7ab88b098defb751b7401b5f6d8976f\n",
       "10             /tokens?l=Adult  0x35bfd2cfe27ef7af2029d584b9b6c2ca27d9b3c7\n",
       "11             /tokens?l=Adult  0xcc70db1ac810677c06d9cc1cdd8c953b12edd3fa\n",
       "12             /tokens?l=Adult  0xcc70db1ac810677c06d9cc1cdd8c953b12edd3fa\n",
       "13             /tokens?l=Adult  0xcb52c65c53ec7e6f029504c895049a8fb80391cd\n",
       "14             /tokens?l=Adult  0x71c7656ec7ab88b098defb751b7401b5f6d8976f\n",
       "15       /tokens?l=Advertising  0x35bfd2cfe27ef7af2029d584b9b6c2ca27d9b3c7\n",
       "16       /tokens?l=Advertising  0xcc70db1ac810677c06d9cc1cdd8c953b12edd3fa\n",
       "17       /tokens?l=Advertising  0xcc70db1ac810677c06d9cc1cdd8c953b12edd3fa\n",
       "18       /tokens?l=Advertising  0xcb52c65c53ec7e6f029504c895049a8fb80391cd\n",
       "19       /tokens?l=Advertising  0x71c7656ec7ab88b098defb751b7401b5f6d8976f\n",
       "20       /tokens?l=Agriculture  0x35bfd2cfe27ef7af2029d584b9b6c2ca27d9b3c7\n",
       "21       /tokens?l=Agriculture  0xcc70db1ac810677c06d9cc1cdd8c953b12edd3fa\n",
       "22       /tokens?l=Agriculture  0xcc70db1ac810677c06d9cc1cdd8c953b12edd3fa\n",
       "23       /tokens?l=Agriculture  0xcb52c65c53ec7e6f029504c895049a8fb80391cd\n",
       "24       /tokens?l=Agriculture  0x71c7656ec7ab88b098defb751b7401b5f6d8976f\n",
       "25         /tokens?l=Analytics  0x35bfd2cfe27ef7af2029d584b9b6c2ca27d9b3c7\n",
       "26         /tokens?l=Analytics  0xcc70db1ac810677c06d9cc1cdd8c953b12edd3fa\n",
       "27         /tokens?l=Analytics  0xcc70db1ac810677c06d9cc1cdd8c953b12edd3fa\n",
       "28         /tokens?l=Analytics  0xcb52c65c53ec7e6f029504c895049a8fb80391cd\n",
       "29         /tokens?l=Analytics  0x71c7656ec7ab88b098defb751b7401b5f6d8976f\n",
       "30               /tokens?l=Art  0x35bfd2cfe27ef7af2029d584b9b6c2ca27d9b3c7\n",
       "31               /tokens?l=Art  0xcc70db1ac810677c06d9cc1cdd8c953b12edd3fa\n",
       "32               /tokens?l=Art  0xcc70db1ac810677c06d9cc1cdd8c953b12edd3fa\n",
       "33               /tokens?l=Art  0xcb52c65c53ec7e6f029504c895049a8fb80391cd\n",
       "34               /tokens?l=Art  0x71c7656ec7ab88b098defb751b7401b5f6d8976f\n",
       "35        /tokens?l=Artificial  0x35bfd2cfe27ef7af2029d584b9b6c2ca27d9b3c7\n",
       "36        /tokens?l=Artificial  0xcc70db1ac810677c06d9cc1cdd8c953b12edd3fa\n",
       "37        /tokens?l=Artificial  0xcc70db1ac810677c06d9cc1cdd8c953b12edd3fa\n",
       "38        /tokens?l=Artificial  0xcb52c65c53ec7e6f029504c895049a8fb80391cd\n",
       "39        /tokens?l=Artificial  0x71c7656ec7ab88b098defb751b7401b5f6d8976f\n",
       "40             /tokens?l=Asset  0x35bfd2cfe27ef7af2029d584b9b6c2ca27d9b3c7\n",
       "41             /tokens?l=Asset  0xcc70db1ac810677c06d9cc1cdd8c953b12edd3fa\n",
       "42             /tokens?l=Asset  0xcc70db1ac810677c06d9cc1cdd8c953b12edd3fa\n",
       "43             /tokens?l=Asset  0xcb52c65c53ec7e6f029504c895049a8fb80391cd\n",
       "44             /tokens?l=Asset  0x71c7656ec7ab88b098defb751b7401b5f6d8976f\n",
       "45    /tokens?l=Authentication  0x35bfd2cfe27ef7af2029d584b9b6c2ca27d9b3c7\n",
       "46    /tokens?l=Authentication  0xcc70db1ac810677c06d9cc1cdd8c953b12edd3fa\n",
       "47    /tokens?l=Authentication  0xcc70db1ac810677c06d9cc1cdd8c953b12edd3fa\n",
       "48    /tokens?l=Authentication  0xcb52c65c53ec7e6f029504c895049a8fb80391cd\n",
       "49    /tokens?l=Authentication  0x71c7656ec7ab88b098defb751b7401b5f6d8976f\n",
       "...                        ...                                         ...\n",
       "1199                     Token  0xcb52c65c53ec7e6f029504c895049a8fb80391cd\n",
       "1200                     Token  0x71c7656ec7ab88b098defb751b7401b5f6d8976f\n",
       "1201                   Trading  0x059550a1ca3c46a2adb803e9e3ea4585a34f004a\n",
       "1202                   Trading  0x35bfd2cfe27ef7af2029d584b9b6c2ca27d9b3c7\n",
       "1203                   Trading  0xcc70db1ac810677c06d9cc1cdd8c953b12edd3fa\n",
       "1204                   Trading  0xcc70db1ac810677c06d9cc1cdd8c953b12edd3fa\n",
       "1205                   Trading  0xcb52c65c53ec7e6f029504c895049a8fb80391cd\n",
       "1206                   Trading  0x71c7656ec7ab88b098defb751b7401b5f6d8976f\n",
       "1207                    Wallet  0x35bfd2cfe27ef7af2029d584b9b6c2ca27d9b3c7\n",
       "1208                    Wallet  0xcc70db1ac810677c06d9cc1cdd8c953b12edd3fa\n",
       "1209                    Wallet  0xcc70db1ac810677c06d9cc1cdd8c953b12edd3fa\n",
       "1210                    Wallet  0xcb52c65c53ec7e6f029504c895049a8fb80391cd\n",
       "1211                    Wallet  0x71c7656ec7ab88b098defb751b7401b5f6d8976f\n",
       "1212                     White  0x35bfd2cfe27ef7af2029d584b9b6c2ca27d9b3c7\n",
       "1213                     White  0xcc70db1ac810677c06d9cc1cdd8c953b12edd3fa\n",
       "1214                     White  0xcc70db1ac810677c06d9cc1cdd8c953b12edd3fa\n",
       "1215                     White  0xcb52c65c53ec7e6f029504c895049a8fb80391cd\n",
       "1216                     White  0x71c7656ec7ab88b098defb751b7401b5f6d8976f\n",
       "1217                     Zethr  0xd48b633045af65ff636f3c6edd744748351e020d\n",
       "1218                     Zethr  0x7430984e1d05d5f447c747123dd26845f6f17544\n",
       "1219                     Zethr  0x5986d909b2fd4e8a613160ffa58e1cf067763133\n",
       "1220                     Zethr  0xe69c6002f218d6939e13eefbb3d984b22c4e0448\n",
       "1221                     Zethr  0x5a1dbff1a772bc35f53c77509b4dc1624c65e6ec\n",
       "1222                     Zethr  0xb7e5f473e5550d7ca9857561269531787094b715\n",
       "1223                     Zethr  0x35bfd2cfe27ef7af2029d584b9b6c2ca27d9b3c7\n",
       "1224                     Zethr  0xcc70db1ac810677c06d9cc1cdd8c953b12edd3fa\n",
       "1225                     Zethr  0xcc70db1ac810677c06d9cc1cdd8c953b12edd3fa\n",
       "1226                     Zethr  0xcb52c65c53ec7e6f029504c895049a8fb80391cd\n",
       "1227                     Zethr  0x71c7656ec7ab88b098defb751b7401b5f6d8976f\n",
       "1228                      dYdX  0x57b98aa8a8b69c6295195d153fe6edd0b0d176ac\n",
       "1229                      dYdX  0xfbc08a66f8bac391f21472d9625c1092ff41cc04\n",
       "1230                      dYdX  0x686f7d0b698b6780a8ce1d6ae13bb8c813552ff3\n",
       "1231                      dYdX  0x2657eca107d7c2abcf72c7a97c8eeef863c22507\n",
       "1232                      dYdX  0x5be497a12e92b8deb68da9d0ed9943f8dc3067ca\n",
       "1233                      dYdX  0xc72786ad71b5ef5326299409d5fe6912c05635ab\n",
       "1234                      dYdX  0x1098898efacd41e1824cd610f52d0f8690bdc87a\n",
       "1235                      dYdX  0x61fa58d7ef40d6f6853740330b62ccad34f8bc04\n",
       "1236                      dYdX  0x36bf21c8e661b21e6166e4385f574941fdc6caff\n",
       "1237                      dYdX  0xcb17e969288ae849d5e0717694c5c56e70e798ed\n",
       "1238                      dYdX  0xeafd335c0e72bb89857972ee7a3ba90bd5a2f7fd\n",
       "1239                      dYdX  0x5199071825cc1d6cd019b0d7d42b08106f6cf16d\n",
       "1240                      dYdX  0x8418bb725b3ac45ec8fff3791dd8b4e0480cc2a2\n",
       "1241                      dYdX  0x5d4b4d9f5274f72d7d4308597d0ea95b97b094cf\n",
       "1242                      dYdX  0xa26d16a21805b14b2977555ffdea34e5e6fc43ba\n",
       "1243                      dYdX  0x059550a1ca3c46a2adb803e9e3ea4585a34f004a\n",
       "1244                      dYdX  0x35bfd2cfe27ef7af2029d584b9b6c2ca27d9b3c7\n",
       "1245                      dYdX  0xcc70db1ac810677c06d9cc1cdd8c953b12edd3fa\n",
       "1246                      dYdX  0xcc70db1ac810677c06d9cc1cdd8c953b12edd3fa\n",
       "1247                      dYdX  0xcb52c65c53ec7e6f029504c895049a8fb80391cd\n",
       "1248                      dYdX  0x71c7656ec7ab88b098defb751b7401b5f6d8976f\n",
       "\n",
       "[1249 rows x 2 columns]"
      ]
     },
     "execution_count": 51,
     "metadata": {},
     "output_type": "execute_result"
    }
   ],
   "source": [
    "df2 = pd.concat({k: pd.Series(v) for k, v in all_address_dict.items()})\n",
    "df2 = pd.DataFrame(df2)\n",
    "df2 = df2.reset_index()\n",
    "df2 = df2.drop(columns = 'level_1')\n",
    "df2.columns = ['Address_ID', 'address']\n",
    "df2"
   ]
  },
  {
   "cell_type": "code",
   "execution_count": 53,
   "metadata": {},
   "outputs": [],
   "source": [
    "df2.to_csv('known_address_df.csv', index=False)\n",
    "\n",
    "\n",
    "\n",
    "#get label and corresponding address into a simple df.\n",
    "\n",
    "#export df to be combined with other df."
   ]
  },
  {
   "cell_type": "code",
   "execution_count": null,
   "metadata": {},
   "outputs": [],
   "source": []
  }
 ],
 "metadata": {
  "kernelspec": {
   "display_name": "Python 3",
   "language": "python",
   "name": "python3"
  },
  "language_info": {
   "codemirror_mode": {
    "name": "ipython",
    "version": 3
   },
   "file_extension": ".py",
   "mimetype": "text/x-python",
   "name": "python",
   "nbconvert_exporter": "python",
   "pygments_lexer": "ipython3",
   "version": "3.6.6"
  }
 },
 "nbformat": 4,
 "nbformat_minor": 2
}
