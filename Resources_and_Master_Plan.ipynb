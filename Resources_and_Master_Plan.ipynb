{
 "cells": [
  {
   "cell_type": "markdown",
   "metadata": {},
   "source": [
    "Resources:\n",
    "\n",
    "Ethereum Blockchain on BigQuery - https://bigquery.cloud.google.com/welcome/ethereum-219423?pli=1\n",
    "\n",
    "How we built Ethereum on BigQuery - https://cloud.google.com/blog/products/data-analytics/ethereum-bigquery-how-we-built-dataset?utm_source=eth1&utm_medium=blog\n",
    "\n",
    "Mastering Ethereum - https://github.com/ethereumbook/ethereumbook\n",
    "\n",
    "Ethereum Wiki- https://theethereum.wiki/w/index.php/Main_Page\n",
    "\n",
    "Etherscan labelcloud - https://etherscan.io/labelcloud\n",
    "\n",
    "Evgeny's Medium - https://medium.com/@medvedev1088\n",
    "\n",
    "https://solidity.readthedocs.io/en/develop/abi-spec.html\n",
    "\n",
    "https://media.consensys.net/technical-introduction-to-events-and-logs-in-ethereum-a074d65dd61e"
   ]
  },
  {
   "cell_type": "markdown",
   "metadata": {},
   "source": [
    "### Classifying Addresses\n",
    "\n",
    "- Price/Exchange Volume volatility during times of transactions\n",
    "- Ethereum network volume during times of transactions\n",
    "- Degree of connection to known wallets"
   ]
  },
  {
   "cell_type": "markdown",
   "metadata": {},
   "source": [
    "### Classifying Smart Contracts\n",
    "\n",
    "Function name\n",
    "\n",
    "Jaccard coefficient on smart contract methods\n",
    "\n",
    "Transactions frequency to these smart contracts\n",
    "\n",
    "Avg transaction amount to these smart contracts\n",
    "\n",
    "ERC20, 721, etc.\n",
    "\n",
    "Find % of smart contracts which are easily identifiable"
   ]
  },
  {
   "cell_type": "markdown",
   "metadata": {},
   "source": [
    "- Write label getting scrape\n",
    "- Get label data\n",
    "- Get transactions over a period of time per address\n",
    "- Train on labels"
   ]
  },
  {
   "cell_type": "code",
   "execution_count": null,
   "metadata": {},
   "outputs": [],
   "source": []
  }
 ],
 "metadata": {
  "kernelspec": {
   "display_name": "Python 3",
   "language": "python",
   "name": "python3"
  },
  "language_info": {
   "codemirror_mode": {
    "name": "ipython",
    "version": 3
   },
   "file_extension": ".py",
   "mimetype": "text/x-python",
   "name": "python",
   "nbconvert_exporter": "python",
   "pygments_lexer": "ipython3",
   "version": "3.6.6"
  }
 },
 "nbformat": 4,
 "nbformat_minor": 2
}
